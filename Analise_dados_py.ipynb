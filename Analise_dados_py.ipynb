{
  "nbformat": 4,
  "nbformat_minor": 0,
  "metadata": {
    "colab": {
      "provenance": [],
      "toc_visible": true,
      "include_colab_link": true
    },
    "kernelspec": {
      "name": "python3",
      "display_name": "Python 3"
    },
    "language_info": {
      "name": "python"
    }
  },
  "cells": [
    {
      "cell_type": "markdown",
      "metadata": {
        "id": "view-in-github",
        "colab_type": "text"
      },
      "source": [
        "<a href=\"https://colab.research.google.com/github/anamacao/analise_dados/blob/main/Analise_dados_py.ipynb\" target=\"_parent\"><img src=\"https://colab.research.google.com/assets/colab-badge.svg\" alt=\"Open In Colab\"/></a>"
      ]
    },
    {
      "cell_type": "markdown",
      "source": [
        "# Análises de Dados - pandas (Ana Beatriz)"
      ],
      "metadata": {
        "id": "o9B0Mt5FoKPF"
      }
    },
    {
      "cell_type": "code",
      "source": [
        "import numpy as np\n",
        "import pandas as pd\n",
        "\n",
        "#As bibliotecas numpy e pandas são importantes para análise de dados no python"
      ],
      "metadata": {
        "id": "N1DEccsWCO-s"
      },
      "execution_count": null,
      "outputs": []
    },
    {
      "cell_type": "code",
      "source": [
        "população = pd.Series([214, 45.81, 10.3, 33.93])\n",
        "população"
      ],
      "metadata": {
        "colab": {
          "base_uri": "https://localhost:8080/"
        },
        "id": "7v9mWARsCg-C",
        "outputId": "cc4d236a-b24a-4b75-a17c-0e3a81fbce42"
      },
      "execution_count": null,
      "outputs": [
        {
          "output_type": "execute_result",
          "data": {
            "text/plain": [
              "0    214.00\n",
              "1     45.81\n",
              "2     10.30\n",
              "3     33.93\n",
              "dtype: float64"
            ]
          },
          "metadata": {},
          "execution_count": 180
        }
      ]
    },
    {
      "cell_type": "code",
      "source": [
        "habitantes = [214, 45.81, 10.3, 33.93, 214]\n",
        "nomes = [\"Brasil\", \"Argentina\", \"Portugal\", \"Angola\", \"Brasil\"]\n",
        "lista_países = pd.Series(data=habitantes, index=nomes)\n",
        "lista_países"
      ],
      "metadata": {
        "id": "jaL3h7oKC_Hh",
        "outputId": "af91feec-ef44-4c9e-a2a7-5875666143cc",
        "colab": {
          "base_uri": "https://localhost:8080/"
        }
      },
      "execution_count": null,
      "outputs": [
        {
          "output_type": "execute_result",
          "data": {
            "text/plain": [
              "Brasil       214.00\n",
              "Argentina     45.81\n",
              "Portugal      10.30\n",
              "Angola        33.93\n",
              "Brasil       214.00\n",
              "dtype: float64"
            ]
          },
          "metadata": {},
          "execution_count": 181
        }
      ]
    },
    {
      "cell_type": "markdown",
      "source": [
        "# Pandas Dataframe"
      ],
      "metadata": {
        "id": "oE6wUCqoSakT"
      }
    },
    {
      "cell_type": "code",
      "source": [
        "dados = {\n",
        "    \"países\" : [\"Brasil\", \"Argentina\", \"Portugal\", \"Angola\",\"Brasil\"],\n",
        "    \"habitantes\" : [214, 45.81, 10.3, 33.93,0],\n",
        "    \"IDH\": [0.754, 0.842, 0.864, 0.581,0]\n",
        "\n",
        "}\n",
        "\n",
        "países = pd.DataFrame(data=dados, index=nomes)\n",
        "países"
      ],
      "metadata": {
        "colab": {
          "base_uri": "https://localhost:8080/",
          "height": 206
        },
        "id": "pJ1pirDMTDKP",
        "outputId": "111e49a2-77f5-417f-93da-098f7368f91c"
      },
      "execution_count": null,
      "outputs": [
        {
          "output_type": "execute_result",
          "data": {
            "text/plain": [
              "              países  habitantes    IDH\n",
              "Brasil        Brasil      214.00  0.754\n",
              "Argentina  Argentina       45.81  0.842\n",
              "Portugal    Portugal       10.30  0.864\n",
              "Angola        Angola       33.93  0.581\n",
              "Brasil        Brasil        0.00  0.000"
            ],
            "text/html": [
              "\n",
              "  <div id=\"df-06930b98-8b96-4153-ba45-7b9b1757cbe9\">\n",
              "    <div class=\"colab-df-container\">\n",
              "      <div>\n",
              "<style scoped>\n",
              "    .dataframe tbody tr th:only-of-type {\n",
              "        vertical-align: middle;\n",
              "    }\n",
              "\n",
              "    .dataframe tbody tr th {\n",
              "        vertical-align: top;\n",
              "    }\n",
              "\n",
              "    .dataframe thead th {\n",
              "        text-align: right;\n",
              "    }\n",
              "</style>\n",
              "<table border=\"1\" class=\"dataframe\">\n",
              "  <thead>\n",
              "    <tr style=\"text-align: right;\">\n",
              "      <th></th>\n",
              "      <th>países</th>\n",
              "      <th>habitantes</th>\n",
              "      <th>IDH</th>\n",
              "    </tr>\n",
              "  </thead>\n",
              "  <tbody>\n",
              "    <tr>\n",
              "      <th>Brasil</th>\n",
              "      <td>Brasil</td>\n",
              "      <td>214.00</td>\n",
              "      <td>0.754</td>\n",
              "    </tr>\n",
              "    <tr>\n",
              "      <th>Argentina</th>\n",
              "      <td>Argentina</td>\n",
              "      <td>45.81</td>\n",
              "      <td>0.842</td>\n",
              "    </tr>\n",
              "    <tr>\n",
              "      <th>Portugal</th>\n",
              "      <td>Portugal</td>\n",
              "      <td>10.30</td>\n",
              "      <td>0.864</td>\n",
              "    </tr>\n",
              "    <tr>\n",
              "      <th>Angola</th>\n",
              "      <td>Angola</td>\n",
              "      <td>33.93</td>\n",
              "      <td>0.581</td>\n",
              "    </tr>\n",
              "    <tr>\n",
              "      <th>Brasil</th>\n",
              "      <td>Brasil</td>\n",
              "      <td>0.00</td>\n",
              "      <td>0.000</td>\n",
              "    </tr>\n",
              "  </tbody>\n",
              "</table>\n",
              "</div>\n",
              "      <button class=\"colab-df-convert\" onclick=\"convertToInteractive('df-06930b98-8b96-4153-ba45-7b9b1757cbe9')\"\n",
              "              title=\"Convert this dataframe to an interactive table.\"\n",
              "              style=\"display:none;\">\n",
              "        \n",
              "  <svg xmlns=\"http://www.w3.org/2000/svg\" height=\"24px\"viewBox=\"0 0 24 24\"\n",
              "       width=\"24px\">\n",
              "    <path d=\"M0 0h24v24H0V0z\" fill=\"none\"/>\n",
              "    <path d=\"M18.56 5.44l.94 2.06.94-2.06 2.06-.94-2.06-.94-.94-2.06-.94 2.06-2.06.94zm-11 1L8.5 8.5l.94-2.06 2.06-.94-2.06-.94L8.5 2.5l-.94 2.06-2.06.94zm10 10l.94 2.06.94-2.06 2.06-.94-2.06-.94-.94-2.06-.94 2.06-2.06.94z\"/><path d=\"M17.41 7.96l-1.37-1.37c-.4-.4-.92-.59-1.43-.59-.52 0-1.04.2-1.43.59L10.3 9.45l-7.72 7.72c-.78.78-.78 2.05 0 2.83L4 21.41c.39.39.9.59 1.41.59.51 0 1.02-.2 1.41-.59l7.78-7.78 2.81-2.81c.8-.78.8-2.07 0-2.86zM5.41 20L4 18.59l7.72-7.72 1.47 1.35L5.41 20z\"/>\n",
              "  </svg>\n",
              "      </button>\n",
              "      \n",
              "  <style>\n",
              "    .colab-df-container {\n",
              "      display:flex;\n",
              "      flex-wrap:wrap;\n",
              "      gap: 12px;\n",
              "    }\n",
              "\n",
              "    .colab-df-convert {\n",
              "      background-color: #E8F0FE;\n",
              "      border: none;\n",
              "      border-radius: 50%;\n",
              "      cursor: pointer;\n",
              "      display: none;\n",
              "      fill: #1967D2;\n",
              "      height: 32px;\n",
              "      padding: 0 0 0 0;\n",
              "      width: 32px;\n",
              "    }\n",
              "\n",
              "    .colab-df-convert:hover {\n",
              "      background-color: #E2EBFA;\n",
              "      box-shadow: 0px 1px 2px rgba(60, 64, 67, 0.3), 0px 1px 3px 1px rgba(60, 64, 67, 0.15);\n",
              "      fill: #174EA6;\n",
              "    }\n",
              "\n",
              "    [theme=dark] .colab-df-convert {\n",
              "      background-color: #3B4455;\n",
              "      fill: #D2E3FC;\n",
              "    }\n",
              "\n",
              "    [theme=dark] .colab-df-convert:hover {\n",
              "      background-color: #434B5C;\n",
              "      box-shadow: 0px 1px 3px 1px rgba(0, 0, 0, 0.15);\n",
              "      filter: drop-shadow(0px 1px 2px rgba(0, 0, 0, 0.3));\n",
              "      fill: #FFFFFF;\n",
              "    }\n",
              "  </style>\n",
              "\n",
              "      <script>\n",
              "        const buttonEl =\n",
              "          document.querySelector('#df-06930b98-8b96-4153-ba45-7b9b1757cbe9 button.colab-df-convert');\n",
              "        buttonEl.style.display =\n",
              "          google.colab.kernel.accessAllowed ? 'block' : 'none';\n",
              "\n",
              "        async function convertToInteractive(key) {\n",
              "          const element = document.querySelector('#df-06930b98-8b96-4153-ba45-7b9b1757cbe9');\n",
              "          const dataTable =\n",
              "            await google.colab.kernel.invokeFunction('convertToInteractive',\n",
              "                                                     [key], {});\n",
              "          if (!dataTable) return;\n",
              "\n",
              "          const docLinkHtml = 'Like what you see? Visit the ' +\n",
              "            '<a target=\"_blank\" href=https://colab.research.google.com/notebooks/data_table.ipynb>data table notebook</a>'\n",
              "            + ' to learn more about interactive tables.';\n",
              "          element.innerHTML = '';\n",
              "          dataTable['output_type'] = 'display_data';\n",
              "          await google.colab.output.renderOutput(dataTable, element);\n",
              "          const docLink = document.createElement('div');\n",
              "          docLink.innerHTML = docLinkHtml;\n",
              "          element.appendChild(docLink);\n",
              "        }\n",
              "      </script>\n",
              "    </div>\n",
              "  </div>\n",
              "  "
            ]
          },
          "metadata": {},
          "execution_count": 182
        }
      ]
    },
    {
      "cell_type": "markdown",
      "source": [
        "# Propriedades "
      ],
      "metadata": {
        "id": "K2BcijpMaKrc"
      }
    },
    {
      "cell_type": "code",
      "source": [
        "formato = países. shape \n",
        "formato "
      ],
      "metadata": {
        "colab": {
          "base_uri": "https://localhost:8080/"
        },
        "id": "DpWhyjPhaeIH",
        "outputId": "46f67d9a-9848-4c78-9000-744a62c34b03"
      },
      "execution_count": null,
      "outputs": [
        {
          "output_type": "execute_result",
          "data": {
            "text/plain": [
              "(5, 3)"
            ]
          },
          "metadata": {},
          "execution_count": 183
        }
      ]
    },
    {
      "cell_type": "code",
      "source": [
        "numero_linhas=países.shape[0]\n",
        "numero_linhas"
      ],
      "metadata": {
        "colab": {
          "base_uri": "https://localhost:8080/"
        },
        "id": "mvAg_R8Da7_9",
        "outputId": "aa57877f-cbe9-45d6-e1de-a153440ca3cf"
      },
      "execution_count": null,
      "outputs": [
        {
          "output_type": "execute_result",
          "data": {
            "text/plain": [
              "5"
            ]
          },
          "metadata": {},
          "execution_count": 184
        }
      ]
    },
    {
      "cell_type": "code",
      "source": [
        "numero_colunas=países.shape[1]\n",
        "numero_colunas"
      ],
      "metadata": {
        "colab": {
          "base_uri": "https://localhost:8080/"
        },
        "outputId": "2f5d00e7-61fb-4ba5-f013-e30123c2bbf8",
        "id": "T1rstv8Ablj9"
      },
      "execution_count": null,
      "outputs": [
        {
          "output_type": "execute_result",
          "data": {
            "text/plain": [
              "3"
            ]
          },
          "metadata": {},
          "execution_count": 185
        }
      ]
    },
    {
      "cell_type": "code",
      "source": [
        "indices=países.index\n",
        "indices\n"
      ],
      "metadata": {
        "colab": {
          "base_uri": "https://localhost:8080/"
        },
        "outputId": "799413fd-18ae-4aa3-c6b8-8aab19757c62",
        "id": "-cTRgQEkbl5z"
      },
      "execution_count": null,
      "outputs": [
        {
          "output_type": "execute_result",
          "data": {
            "text/plain": [
              "Index(['Brasil', 'Argentina', 'Portugal', 'Angola', 'Brasil'], dtype='object')"
            ]
          },
          "metadata": {},
          "execution_count": 186
        }
      ]
    },
    {
      "cell_type": "code",
      "source": [
        "colunas=países.columns\n",
        "colunas"
      ],
      "metadata": {
        "colab": {
          "base_uri": "https://localhost:8080/"
        },
        "id": "LG1kVi_1b9QH",
        "outputId": "86d3dbac-391e-4dcf-c8d2-c3cb39c25c74"
      },
      "execution_count": null,
      "outputs": [
        {
          "output_type": "execute_result",
          "data": {
            "text/plain": [
              "Index(['países', 'habitantes', 'IDH'], dtype='object')"
            ]
          },
          "metadata": {},
          "execution_count": 187
        }
      ]
    },
    {
      "cell_type": "code",
      "source": [
        "tipo= type(países)\n",
        "tipo"
      ],
      "metadata": {
        "colab": {
          "base_uri": "https://localhost:8080/"
        },
        "id": "w2tTd6S_cQdU",
        "outputId": "257c5a21-c656-409d-d7f7-4f46e2f4ae1d"
      },
      "execution_count": null,
      "outputs": [
        {
          "output_type": "execute_result",
          "data": {
            "text/plain": [
              "pandas.core.frame.DataFrame"
            ]
          },
          "metadata": {},
          "execution_count": 188
        }
      ]
    },
    {
      "cell_type": "code",
      "source": [
        "tipo= países.dtypes\n",
        "tipo"
      ],
      "metadata": {
        "colab": {
          "base_uri": "https://localhost:8080/"
        },
        "id": "oC0ZxgvccVPY",
        "outputId": "57e98775-52fa-4397-c4d4-0114e308c14b"
      },
      "execution_count": null,
      "outputs": [
        {
          "output_type": "execute_result",
          "data": {
            "text/plain": [
              "países         object\n",
              "habitantes    float64\n",
              "IDH           float64\n",
              "dtype: object"
            ]
          },
          "metadata": {},
          "execution_count": 189
        }
      ]
    },
    {
      "cell_type": "code",
      "source": [
        "indices= países.index.dtype\n",
        "print(indices)"
      ],
      "metadata": {
        "colab": {
          "base_uri": "https://localhost:8080/"
        },
        "id": "w3E1De4Eca1u",
        "outputId": "05e92e42-ad29-4e34-9dc5-8fbb3876aa72"
      },
      "execution_count": null,
      "outputs": [
        {
          "output_type": "stream",
          "name": "stdout",
          "text": [
            "object\n"
          ]
        }
      ]
    },
    {
      "cell_type": "markdown",
      "source": [
        "# Consulta e modificação de dados "
      ],
      "metadata": {
        "id": "VC3lV1fUmAdR"
      }
    },
    {
      "cell_type": "markdown",
      "source": [
        "formas diferentes de usar "
      ],
      "metadata": {
        "id": "Rys5pPZTps5z"
      }
    },
    {
      "cell_type": "code",
      "source": [
        "países.iloc [0][2]"
      ],
      "metadata": {
        "colab": {
          "base_uri": "https://localhost:8080/"
        },
        "id": "oPwgI0-3mEnd",
        "outputId": "151bfc20-2286-4a0f-be18-dae1349f1540"
      },
      "execution_count": null,
      "outputs": [
        {
          "output_type": "execute_result",
          "data": {
            "text/plain": [
              "0.754"
            ]
          },
          "metadata": {},
          "execution_count": 191
        }
      ]
    },
    {
      "cell_type": "code",
      "source": [
        "países.iat [0,2]"
      ],
      "metadata": {
        "colab": {
          "base_uri": "https://localhost:8080/"
        },
        "id": "Dd__4tLZplMU",
        "outputId": "cc4b612b-f635-4d35-c6e9-2feacc4cf874"
      },
      "execution_count": null,
      "outputs": [
        {
          "output_type": "execute_result",
          "data": {
            "text/plain": [
              "0.754"
            ]
          },
          "metadata": {},
          "execution_count": 192
        }
      ]
    },
    {
      "cell_type": "code",
      "source": [
        "países.iloc [0] [\"IDH\"]"
      ],
      "metadata": {
        "colab": {
          "base_uri": "https://localhost:8080/"
        },
        "id": "khTuWnvWp1Qp",
        "outputId": "e97748ab-ff63-4008-d256-610c6bb4be51"
      },
      "execution_count": null,
      "outputs": [
        {
          "output_type": "execute_result",
          "data": {
            "text/plain": [
              "0.754"
            ]
          },
          "metadata": {},
          "execution_count": 193
        }
      ]
    },
    {
      "cell_type": "code",
      "source": [
        "países.loc[\"Brasil\", \"habitantes\"]"
      ],
      "metadata": {
        "colab": {
          "base_uri": "https://localhost:8080/"
        },
        "id": "aAOkroyAp_mP",
        "outputId": "e4744ad6-4d2c-4bad-c853-53e07f45a785"
      },
      "execution_count": null,
      "outputs": [
        {
          "output_type": "execute_result",
          "data": {
            "text/plain": [
              "Brasil    214.0\n",
              "Brasil      0.0\n",
              "Name: habitantes, dtype: float64"
            ]
          },
          "metadata": {},
          "execution_count": 194
        }
      ]
    },
    {
      "cell_type": "code",
      "source": [
        "países.at [\"Brasil\",\"habitantes\"]"
      ],
      "metadata": {
        "colab": {
          "base_uri": "https://localhost:8080/"
        },
        "id": "HAPDjX-7qpOO",
        "outputId": "4c96f8fe-bcd0-4b48-d5f5-76d3f68dc03a"
      },
      "execution_count": null,
      "outputs": [
        {
          "output_type": "execute_result",
          "data": {
            "text/plain": [
              "Brasil    214.0\n",
              "Brasil      0.0\n",
              "Name: habitantes, dtype: float64"
            ]
          },
          "metadata": {},
          "execution_count": 195
        }
      ]
    },
    {
      "cell_type": "code",
      "source": [
        "países [\"habitantes\"]"
      ],
      "metadata": {
        "colab": {
          "base_uri": "https://localhost:8080/"
        },
        "id": "bql3YdUgqynU",
        "outputId": "6c01ec00-1c18-4a4b-eb13-cf9e8cac3247"
      },
      "execution_count": null,
      "outputs": [
        {
          "output_type": "execute_result",
          "data": {
            "text/plain": [
              "Brasil       214.00\n",
              "Argentina     45.81\n",
              "Portugal      10.30\n",
              "Angola        33.93\n",
              "Brasil         0.00\n",
              "Name: habitantes, dtype: float64"
            ]
          },
          "metadata": {},
          "execution_count": 196
        }
      ]
    },
    {
      "cell_type": "markdown",
      "source": [
        "#Gráficos"
      ],
      "metadata": {
        "id": "2rWoHBMFaQAK"
      }
    },
    {
      "cell_type": "code",
      "source": [
        "barras = países.plot (kind = \"bar\", legend = True, color = [\"purple\", \"blue\"])\n",
        "barras"
      ],
      "metadata": {
        "colab": {
          "base_uri": "https://localhost:8080/",
          "height": 321
        },
        "id": "3Gl0jgefW06g",
        "outputId": "3105aaf8-3af4-47fa-b5c0-560633848ef9"
      },
      "execution_count": null,
      "outputs": [
        {
          "output_type": "execute_result",
          "data": {
            "text/plain": [
              "<AxesSubplot:>"
            ]
          },
          "metadata": {},
          "execution_count": 197
        },
        {
          "output_type": "display_data",
          "data": {
            "text/plain": [
              "<Figure size 432x288 with 1 Axes>"
            ],
            "image/png": "[encoded data removed]"
          },
          "metadata": {
            "needs_background": "light"
          }
        }
      ]
    },
    {
      "cell_type": "code",
      "source": [
        "linhas = países.plot (kind = \"line\", legend = True, color = [\"blue\",\"purple\"])\n",
        "barras"
      ],
      "metadata": {
        "colab": {
          "base_uri": "https://localhost:8080/",
          "height": 282
        },
        "id": "wKZ8GsVQMD7o",
        "outputId": "f170a79f-588b-4563-c32c-9ad656d41bb2"
      },
      "execution_count": null,
      "outputs": [
        {
          "output_type": "execute_result",
          "data": {
            "text/plain": [
              "<AxesSubplot:>"
            ]
          },
          "metadata": {},
          "execution_count": 198
        },
        {
          "output_type": "display_data",
          "data": {
            "text/plain": [
              "<Figure size 432x288 with 1 Axes>"
            ],
            "image/png": "[encoded data removed]"
          },
          "metadata": {
            "needs_background": "light"
          }
        }
      ]
    },
    {
      "cell_type": "code",
      "source": [
        "países"
      ],
      "metadata": {
        "colab": {
          "base_uri": "https://localhost:8080/",
          "height": 206
        },
        "id": "DxBUoyfnRXX9",
        "outputId": "a0005739-ff47-4a42-d4d9-8478d4f43c8e"
      },
      "execution_count": null,
      "outputs": [
        {
          "output_type": "execute_result",
          "data": {
            "text/plain": [
              "              países  habitantes    IDH\n",
              "Brasil        Brasil      214.00  0.754\n",
              "Argentina  Argentina       45.81  0.842\n",
              "Portugal    Portugal       10.30  0.864\n",
              "Angola        Angola       33.93  0.581\n",
              "Brasil        Brasil        0.00  0.000"
            ],
            "text/html": [
              "\n",
              "  <div id=\"df-a5b2d301-968f-4a1c-b2c9-cada954058d3\">\n",
              "    <div class=\"colab-df-container\">\n",
              "      <div>\n",
              "<style scoped>\n",
              "    .dataframe tbody tr th:only-of-type {\n",
              "        vertical-align: middle;\n",
              "    }\n",
              "\n",
              "    .dataframe tbody tr th {\n",
              "        vertical-align: top;\n",
              "    }\n",
              "\n",
              "    .dataframe thead th {\n",
              "        text-align: right;\n",
              "    }\n",
              "</style>\n",
              "<table border=\"1\" class=\"dataframe\">\n",
              "  <thead>\n",
              "    <tr style=\"text-align: right;\">\n",
              "      <th></th>\n",
              "      <th>países</th>\n",
              "      <th>habitantes</th>\n",
              "      <th>IDH</th>\n",
              "    </tr>\n",
              "  </thead>\n",
              "  <tbody>\n",
              "    <tr>\n",
              "      <th>Brasil</th>\n",
              "      <td>Brasil</td>\n",
              "      <td>214.00</td>\n",
              "      <td>0.754</td>\n",
              "    </tr>\n",
              "    <tr>\n",
              "      <th>Argentina</th>\n",
              "      <td>Argentina</td>\n",
              "      <td>45.81</td>\n",
              "      <td>0.842</td>\n",
              "    </tr>\n",
              "    <tr>\n",
              "      <th>Portugal</th>\n",
              "      <td>Portugal</td>\n",
              "      <td>10.30</td>\n",
              "      <td>0.864</td>\n",
              "    </tr>\n",
              "    <tr>\n",
              "      <th>Angola</th>\n",
              "      <td>Angola</td>\n",
              "      <td>33.93</td>\n",
              "      <td>0.581</td>\n",
              "    </tr>\n",
              "    <tr>\n",
              "      <th>Brasil</th>\n",
              "      <td>Brasil</td>\n",
              "      <td>0.00</td>\n",
              "      <td>0.000</td>\n",
              "    </tr>\n",
              "  </tbody>\n",
              "</table>\n",
              "</div>\n",
              "      <button class=\"colab-df-convert\" onclick=\"convertToInteractive('df-a5b2d301-968f-4a1c-b2c9-cada954058d3')\"\n",
              "              title=\"Convert this dataframe to an interactive table.\"\n",
              "              style=\"display:none;\">\n",
              "        \n",
              "  <svg xmlns=\"http://www.w3.org/2000/svg\" height=\"24px\"viewBox=\"0 0 24 24\"\n",
              "       width=\"24px\">\n",
              "    <path d=\"M0 0h24v24H0V0z\" fill=\"none\"/>\n",
              "    <path d=\"M18.56 5.44l.94 2.06.94-2.06 2.06-.94-2.06-.94-.94-2.06-.94 2.06-2.06.94zm-11 1L8.5 8.5l.94-2.06 2.06-.94-2.06-.94L8.5 2.5l-.94 2.06-2.06.94zm10 10l.94 2.06.94-2.06 2.06-.94-2.06-.94-.94-2.06-.94 2.06-2.06.94z\"/><path d=\"M17.41 7.96l-1.37-1.37c-.4-.4-.92-.59-1.43-.59-.52 0-1.04.2-1.43.59L10.3 9.45l-7.72 7.72c-.78.78-.78 2.05 0 2.83L4 21.41c.39.39.9.59 1.41.59.51 0 1.02-.2 1.41-.59l7.78-7.78 2.81-2.81c.8-.78.8-2.07 0-2.86zM5.41 20L4 18.59l7.72-7.72 1.47 1.35L5.41 20z\"/>\n",
              "  </svg>\n",
              "      </button>\n",
              "      \n",
              "  <style>\n",
              "    .colab-df-container {\n",
              "      display:flex;\n",
              "      flex-wrap:wrap;\n",
              "      gap: 12px;\n",
              "    }\n",
              "\n",
              "    .colab-df-convert {\n",
              "      background-color: #E8F0FE;\n",
              "      border: none;\n",
              "      border-radius: 50%;\n",
              "      cursor: pointer;\n",
              "      display: none;\n",
              "      fill: #1967D2;\n",
              "      height: 32px;\n",
              "      padding: 0 0 0 0;\n",
              "      width: 32px;\n",
              "    }\n",
              "\n",
              "    .colab-df-convert:hover {\n",
              "      background-color: #E2EBFA;\n",
              "      box-shadow: 0px 1px 2px rgba(60, 64, 67, 0.3), 0px 1px 3px 1px rgba(60, 64, 67, 0.15);\n",
              "      fill: #174EA6;\n",
              "    }\n",
              "\n",
              "    [theme=dark] .colab-df-convert {\n",
              "      background-color: #3B4455;\n",
              "      fill: #D2E3FC;\n",
              "    }\n",
              "\n",
              "    [theme=dark] .colab-df-convert:hover {\n",
              "      background-color: #434B5C;\n",
              "      box-shadow: 0px 1px 3px 1px rgba(0, 0, 0, 0.15);\n",
              "      filter: drop-shadow(0px 1px 2px rgba(0, 0, 0, 0.3));\n",
              "      fill: #FFFFFF;\n",
              "    }\n",
              "  </style>\n",
              "\n",
              "      <script>\n",
              "        const buttonEl =\n",
              "          document.querySelector('#df-a5b2d301-968f-4a1c-b2c9-cada954058d3 button.colab-df-convert');\n",
              "        buttonEl.style.display =\n",
              "          google.colab.kernel.accessAllowed ? 'block' : 'none';\n",
              "\n",
              "        async function convertToInteractive(key) {\n",
              "          const element = document.querySelector('#df-a5b2d301-968f-4a1c-b2c9-cada954058d3');\n",
              "          const dataTable =\n",
              "            await google.colab.kernel.invokeFunction('convertToInteractive',\n",
              "                                                     [key], {});\n",
              "          if (!dataTable) return;\n",
              "\n",
              "          const docLinkHtml = 'Like what you see? Visit the ' +\n",
              "            '<a target=\"_blank\" href=https://colab.research.google.com/notebooks/data_table.ipynb>data table notebook</a>'\n",
              "            + ' to learn more about interactive tables.';\n",
              "          element.innerHTML = '';\n",
              "          dataTable['output_type'] = 'display_data';\n",
              "          await google.colab.output.renderOutput(dataTable, element);\n",
              "          const docLink = document.createElement('div');\n",
              "          docLink.innerHTML = docLinkHtml;\n",
              "          element.appendChild(docLink);\n",
              "        }\n",
              "      </script>\n",
              "    </div>\n",
              "  </div>\n",
              "  "
            ]
          },
          "metadata": {},
          "execution_count": 199
        }
      ]
    },
    {
      "cell_type": "code",
      "source": [
        "países.groupby([\"países\"]).países.count().plot(kind=\"pie\",autopct=\"%0.2f%%\")"
      ],
      "metadata": {
        "colab": {
          "base_uri": "https://localhost:8080/",
          "height": 265
        },
        "id": "oqsfeTx0R9x0",
        "outputId": "e866a838-5fcd-485f-8e98-918d87766c28"
      },
      "execution_count": null,
      "outputs": [
        {
          "output_type": "execute_result",
          "data": {
            "text/plain": [
              "<AxesSubplot:ylabel='países'>"
            ]
          },
          "metadata": {},
          "execution_count": 200
        },
        {
          "output_type": "display_data",
          "data": {
            "text/plain": [
              "<Figure size 432x288 with 1 Axes>"
            ],
            "image/png": "[encoded data removed]"
          },
          "metadata": {}
        }
      ]
    },
    {
      "cell_type": "code",
      "source": [
        "países.groupby([\"países\"]).países.count().plot(kind=\"barh\")"
      ],
      "metadata": {
        "colab": {
          "base_uri": "https://localhost:8080/",
          "height": 282
        },
        "id": "rXWIkEjfVVvb",
        "outputId": "99f80630-c89c-4664-b926-085a5d4b4bd4"
      },
      "execution_count": null,
      "outputs": [
        {
          "output_type": "execute_result",
          "data": {
            "text/plain": [
              "<AxesSubplot:ylabel='países'>"
            ]
          },
          "metadata": {},
          "execution_count": 201
        },
        {
          "output_type": "display_data",
          "data": {
            "text/plain": [
              "<Figure size 432x288 with 1 Axes>"
            ],
            "image/png": "[encoded data removed]"
          },
          "metadata": {
            "needs_background": "light"
          }
        }
      ]
    },
    {
      "cell_type": "code",
      "source": [
        "países.groupby([\"países\"]).países.count().plot(kind=\"hist\")"
      ],
      "metadata": {
        "colab": {
          "base_uri": "https://localhost:8080/",
          "height": 282
        },
        "id": "_TjYNiO5WN5z",
        "outputId": "0d92d046-eea7-4822-bb9c-d0441d7ae220"
      },
      "execution_count": null,
      "outputs": [
        {
          "output_type": "execute_result",
          "data": {
            "text/plain": [
              "<AxesSubplot:ylabel='Frequency'>"
            ]
          },
          "metadata": {},
          "execution_count": 202
        },
        {
          "output_type": "display_data",
          "data": {
            "text/plain": [
              "<Figure size 432x288 with 1 Axes>"
            ],
            "image/png": "[encoded data removed]"
          },
          "metadata": {
            "needs_background": "light"
          }
        }
      ]
    },
    {
      "cell_type": "code",
      "source": [
        "países.plot.line(y=[\"países\",\"habitantes\",\"IDH\"],ylabel=\"países\")"
      ],
      "metadata": {
        "colab": {
          "base_uri": "https://localhost:8080/",
          "height": 282
        },
        "id": "RE7e6281WeQM",
        "outputId": "137b49c7-b316-4905-b7c7-4f550c7d4880"
      },
      "execution_count": null,
      "outputs": [
        {
          "output_type": "execute_result",
          "data": {
            "text/plain": [
              "<AxesSubplot:ylabel='países'>"
            ]
          },
          "metadata": {},
          "execution_count": 203
        },
        {
          "output_type": "display_data",
          "data": {
            "text/plain": [
              "<Figure size 432x288 with 1 Axes>"
            ],
            "image/png": "[encoded data removed]"
          },
          "metadata": {
            "needs_background": "light"
          }
        }
      ]
    },
    {
      "cell_type": "code",
      "source": [
        "países.plot(kind=\"hexbin\",x=\"IDH\", y=\"habitantes\")"
      ],
      "metadata": {
        "colab": {
          "base_uri": "https://localhost:8080/",
          "height": 275
        },
        "id": "wC6mclHGXdIv",
        "outputId": "fc582d3e-0aee-478b-f64e-1ef6f1801113"
      },
      "execution_count": null,
      "outputs": [
        {
          "output_type": "execute_result",
          "data": {
            "text/plain": [
              "<AxesSubplot:xlabel='IDH', ylabel='habitantes'>"
            ]
          },
          "metadata": {},
          "execution_count": 204
        },
        {
          "output_type": "display_data",
          "data": {
            "text/plain": [
              "<Figure size 432x288 with 2 Axes>"
            ],
            "image/png": "[encoded data removed]"
          },
          "metadata": {
            "needs_background": "light"
          }
        }
      ]
    },
    {
      "cell_type": "code",
      "source": [
        "países.plot.bar(stacked=True)"
      ],
      "metadata": {
        "colab": {
          "base_uri": "https://localhost:8080/",
          "height": 321
        },
        "id": "_P22nzg7Yq3y",
        "outputId": "9eb027b2-74bb-42b2-bc7b-9db132d91703"
      },
      "execution_count": null,
      "outputs": [
        {
          "output_type": "execute_result",
          "data": {
            "text/plain": [
              "<AxesSubplot:>"
            ]
          },
          "metadata": {},
          "execution_count": 205
        },
        {
          "output_type": "display_data",
          "data": {
            "text/plain": [
              "<Figure size 432x288 with 1 Axes>"
            ],
            "image/png": "[encoded data removed]"
          },
          "metadata": {
            "needs_background": "light"
          }
        }
      ]
    },
    {
      "cell_type": "markdown",
      "source": [
        "# Trabalhando com arquivos "
      ],
      "metadata": {
        "id": "EgONlxxAS7F9"
      }
    },
    {
      "cell_type": "code",
      "source": [
        "csv = \"https://raw.githubusercontent.com/anamacao/analise_dados/main/contexto_inter.csv\"\n",
        "contexto=pd.read_csv(csv)\n",
        "contexto"
      ],
      "metadata": {
        "id": "MKcRqK3_S-wP",
        "colab": {
          "base_uri": "https://localhost:8080/",
          "height": 1000
        },
        "outputId": "2b021820-d57e-4847-e448-7ce76e224ede"
      },
      "execution_count": null,
      "outputs": [
        {
          "output_type": "execute_result",
          "data": {
            "text/plain": [
              "                                                    AU  \\\n",
              "0                                Eugênio Vargas Garcia   \n",
              "1                               Juan Gabriel Tokatlian   \n",
              "2                       Maria Guadalupe Moog Rodrigues   \n",
              "3                                      Mark Everingham   \n",
              "4                                          Mônica Herz   \n",
              "..                                                 ...   \n",
              "419  Leandro Wolpert dos Santos;André Pimentel Ferr...   \n",
              "420                     Cairo Gabriel Borges Junqueira   \n",
              "421         Virginia Soledad Busilli;María Belén Jaime   \n",
              "422             Bruno Hendler;André Luiz Cançado Motta   \n",
              "423                              João Fernando Finazzi   \n",
              "\n",
              "                                                    OG  \\\n",
              "0                                                  NaN   \n",
              "1                                                  NaN   \n",
              "2                                                  NaN   \n",
              "3                                                  NaN   \n",
              "4                                                  NaN   \n",
              "..                                                 ...   \n",
              "419  Institute of Social and Political Studies of t...   \n",
              "420                Federal University of Sergipe (UFS)   \n",
              "421  Scientific and Technological Center of the Nat...   \n",
              "422  Federal University of Santa Maria (UFSM);Feder...   \n",
              "423  San Tiago Dantas Interinstitutional Graduate P...   \n",
              "\n",
              "                                                    TI  \\\n",
              "0    Estados Unidos e Grã-Bretanha no Brasil: trans...   \n",
              "1    Colômbia: mais insegurança humana, menos segur...   \n",
              "2    Redes transnacionais de advocacia pública: est...   \n",
              "3    Direitos de propriedade e cidadania em socieda...   \n",
              "4    O Crescimento da área de relações internaciona...   \n",
              "..                                                 ...   \n",
              "419  Explaining the Changes in Brazilian Foreign Po...   \n",
              "420  From Municipalist Activism to Institutional Ch...   \n",
              "421  Chinese Investments in Brazil: Economic Diplom...   \n",
              "422  Military Build-up in Southeast Asia and the So...   \n",
              "423  Badges Without Borders: How Global Counterinsu...   \n",
              "\n",
              "                                                    AB  \\\n",
              "0    Com enfoque sobretudo na década de 20, este ar...   \n",
              "1    No contexto da grave crise que atravessa a reg...   \n",
              "2    O projeto Planafloro, financiado pelo Banco Mu...   \n",
              "3    Este estudo mostra como as disputas de terra d...   \n",
              "4    O artigo analisa a produção acadêmica brasilei...   \n",
              "..                                                 ...   \n",
              "419  AbstractThe administration of President Michel...   \n",
              "420  AbstractMercosur has gone through distinct pha...   \n",
              "421  AbstractThe People’s Republic of China has con...   \n",
              "422  AbstractAbstract: The South China Sea (SCS) is...   \n",
              "423                                                NaN   \n",
              "\n",
              "                                                    DE  \\\n",
              "0    Brazil-United States; Brazil-Britain; Transiti...   \n",
              "1    Andes Region; Human Insecurity; US Interventio...   \n",
              "2    Inspection Panel; World Bank; Transnational Ne...   \n",
              "3    Property Rights; Conflict Resolution; Citizens...   \n",
              "4    International Relations Theory; International ...   \n",
              "..                                                 ...   \n",
              "419  foreign policy change; Brazilian foreign polic...   \n",
              "420  Mercosur; Mercocities; FCCR; subnational gover...   \n",
              "421  Latin America, China, economic diplomacy, FDI,...   \n",
              "422  South China Sea; Southeast Asia; China; milita...   \n",
              "423                                                NaN   \n",
              "\n",
              "                                                    CR    BP_EP      PY  \\\n",
              "0    ABREU, Marcelo de Paiva. (1973), \"The Niemeyer...      NaN  2002.0   \n",
              "1    DORF, Robert H. (1996), \"Democratization and F...  129-166  2002.0   \n",
              "2    BROWDER, John. (1998), Report - World Bank Mid...      NaN  2002.0   \n",
              "3    ADAMS, Martin, SIBANDA, Sipho e THOMAS, Glen. ...      NaN  2002.0   \n",
              "4    ABREU, Marcelo de Paiva. (1984), \"O Brasil e a...      NaN  2002.0   \n",
              "..                                                 ...      ...     ...   \n",
              "419  Almeida, P R de. 2003. ‘A Política Internacion...  489-513  2021.0   \n",
              "420  Aalberts, T. 2005. ‘Sovereignty Reloaded? A Co...  515-540  2021.0   \n",
              "421  Abeliansky, A. L and I Martínez-Zarzoso. 2019....  541-564  2021.0   \n",
              "422  Astro Awani [online]. 2013. ‘PM Announces Sett...  565-591  2021.0   \n",
              "423  Latham, M. 2011. The Right Kind of Revolution:...  593-596  2021.0   \n",
              "\n",
              "                    IS  LA                                DI  \\\n",
              "0    v. 24 n. 1 (2002)  pt   10.1590/S0102-85292002000100001   \n",
              "1    v. 24 n. 1 (2002)  pt   10.1590/S0102-85292002000100002   \n",
              "2    v. 24 n. 1 (2002)  pt   10.1590/S0102-85292002000100003   \n",
              "3    v. 24 n. 1 (2002)  pt   10.1590/S0102-85292002000100004   \n",
              "4    v. 24 n. 1 (2002)  pt   10.1590/S0102-85292002000100005   \n",
              "..                 ...  ..                               ...   \n",
              "419  v. 43 n. 3 (2021)  en  10.1590/S0102-8529.2019430300003   \n",
              "420  v. 43 n. 3 (2021)  en  10.1590/S0102-8529.2019430300004   \n",
              "421  v. 43 n. 3 (2021)  en  10.1590/S0102-8529.2019430300005   \n",
              "422  v. 43 n. 3 (2021)  en  10.1590/S0102-8529.2019430300006   \n",
              "423  v. 43 n. 3 (2021)  en  10.1590/S0102-8529.2019430300007   \n",
              "\n",
              "                         SO         SN  \\\n",
              "0    Contexto Internacional  1982-0240   \n",
              "1    Contexto Internacional  1982-0240   \n",
              "2    Contexto Internacional  1982-0240   \n",
              "3    Contexto Internacional  1982-0240   \n",
              "4    Contexto Internacional  1982-0240   \n",
              "..                      ...        ...   \n",
              "419  Contexto Internacional  1982-0240   \n",
              "420  Contexto Internacional  1982-0240   \n",
              "421  Contexto Internacional  1982-0240   \n",
              "422  Contexto Internacional  1982-0240   \n",
              "423  Contexto Internacional  1982-0240   \n",
              "\n",
              "                                                   URL  \\\n",
              "0    http://www.scielo.br/j/cint/a/cMTYLM3xwfzKNT4q...   \n",
              "1    http://www.scielo.br/j/cint/a/z8kxTngCqVMZD65G...   \n",
              "2    http://www.scielo.br/j/cint/a/46s45RBfLWLqwZx9...   \n",
              "3    http://www.scielo.br/j/cint/a/7pRZMvTywYzZXDfJ...   \n",
              "4    http://www.scielo.br/j/cint/a/dTq3jbQQtT7DgRDj...   \n",
              "..                                                 ...   \n",
              "419  http://www.scielo.br/j/cint/a/7gnzcsdC6C3mcsm3...   \n",
              "420  http://www.scielo.br/j/cint/a/vqh4SkKwm4DknmfQ...   \n",
              "421  http://www.scielo.br/j/cint/a/czWnkqcLF8RfYDjR...   \n",
              "422  http://www.scielo.br/j/cint/a/jp66xVMw6bFGVJQH...   \n",
              "423  http://www.scielo.br/j/cint/a/zJtYy5mtQsMwTNpQ...   \n",
              "\n",
              "                                                PDFURL  \\\n",
              "0    https://www.scielo.br/j/cint/a/cMTYLM3xwfzKNT4...   \n",
              "1    https://www.scielo.br/j/cint/a/z8kxTngCqVMZD65...   \n",
              "2    https://www.scielo.br/j/cint/a/46s45RBfLWLqwZx...   \n",
              "3    https://www.scielo.br/j/cint/a/7pRZMvTywYzZXDf...   \n",
              "4    https://www.scielo.br/j/cint/a/dTq3jbQQtT7DgRD...   \n",
              "..                                                 ...   \n",
              "419  https://www.scielo.br/j/cint/a/7gnzcsdC6C3mcsm...   \n",
              "420  https://www.scielo.br/j/cint/a/vqh4SkKwm4Dknmf...   \n",
              "421  https://www.scielo.br/j/cint/a/czWnkqcLF8RfYDj...   \n",
              "422  https://www.scielo.br/j/cint/a/jp66xVMw6bFGVJQ...   \n",
              "423  https://www.scielo.br/j/cint/a/zJtYy5mtQsMwTNp...   \n",
              "\n",
              "                                           loc_arquivo     size  \n",
              "0    /media/hdvm09/bd/007/002/002/003/contexto_inte...   139729  \n",
              "1    /media/hdvm09/bd/007/002/002/003/contexto_inte...   154457  \n",
              "2    /media/hdvm09/bd/007/002/002/003/contexto_inte...   206246  \n",
              "3    /media/hdvm09/bd/007/002/002/003/contexto_inte...   147182  \n",
              "4    /media/hdvm09/bd/007/002/002/003/contexto_inte...   157795  \n",
              "..                                                 ...      ...  \n",
              "419  /media/hdvm09/bd/007/002/002/003/contexto_inte...  1702907  \n",
              "420  /media/hdvm09/bd/007/002/002/003/contexto_inte...  2147350  \n",
              "421  /media/hdvm09/bd/007/002/002/003/contexto_inte...  1823392  \n",
              "422  /media/hdvm09/bd/007/002/002/003/contexto_inte...  2166459  \n",
              "423  /media/hdvm09/bd/007/002/002/003/contexto_inte...   733593  \n",
              "\n",
              "[424 rows x 17 columns]"
            ],
            "text/html": [
              "\n",
              "  <div id=\"df-cd0f9700-57d4-4d9a-a578-94e0e306c49a\">\n",
              "    <div class=\"colab-df-container\">\n",
              "      <div>\n",
              "<style scoped>\n",
              "    .dataframe tbody tr th:only-of-type {\n",
              "        vertical-align: middle;\n",
              "    }\n",
              "\n",
              "    .dataframe tbody tr th {\n",
              "        vertical-align: top;\n",
              "    }\n",
              "\n",
              "    .dataframe thead th {\n",
              "        text-align: right;\n",
              "    }\n",
              "</style>\n",
              "<table border=\"1\" class=\"dataframe\">\n",
              "  <thead>\n",
              "    <tr style=\"text-align: right;\">\n",
              "      <th></th>\n",
              "      <th>AU</th>\n",
              "      <th>OG</th>\n",
              "      <th>TI</th>\n",
              "      <th>AB</th>\n",
              "      <th>DE</th>\n",
              "      <th>CR</th>\n",
              "      <th>BP_EP</th>\n",
              "      <th>PY</th>\n",
              "      <th>IS</th>\n",
              "      <th>LA</th>\n",
              "      <th>DI</th>\n",
              "      <th>SO</th>\n",
              "      <th>SN</th>\n",
              "      <th>URL</th>\n",
              "      <th>PDFURL</th>\n",
              "      <th>loc_arquivo</th>\n",
              "      <th>size</th>\n",
              "    </tr>\n",
              "  </thead>\n",
              "  <tbody>\n",
              "    <tr>\n",
              "      <th>0</th>\n",
              "      <td>Eugênio Vargas Garcia</td>\n",
              "      <td>NaN</td>\n",
              "      <td>Estados Unidos e Grã-Bretanha no Brasil: trans...</td>\n",
              "      <td>Com enfoque sobretudo na década de 20, este ar...</td>\n",
              "      <td>Brazil-United States; Brazil-Britain; Transiti...</td>\n",
              "      <td>ABREU, Marcelo de Paiva. (1973), \"The Niemeyer...</td>\n",
              "      <td>NaN</td>\n",
              "      <td>2002.0</td>\n",
              "      <td>v. 24 n. 1 (2002)</td>\n",
              "      <td>pt</td>\n",
              "      <td>10.1590/S0102-85292002000100001</td>\n",
              "      <td>Contexto Internacional</td>\n",
              "      <td>1982-0240</td>\n",
              "      <td>http://www.scielo.br/j/cint/a/cMTYLM3xwfzKNT4q...</td>\n",
              "      <td>https://www.scielo.br/j/cint/a/cMTYLM3xwfzKNT4...</td>\n",
              "      <td>/media/hdvm09/bd/007/002/002/003/contexto_inte...</td>\n",
              "      <td>139729</td>\n",
              "    </tr>\n",
              "    <tr>\n",
              "      <th>1</th>\n",
              "      <td>Juan Gabriel Tokatlian</td>\n",
              "      <td>NaN</td>\n",
              "      <td>Colômbia: mais insegurança humana, menos segur...</td>\n",
              "      <td>No contexto da grave crise que atravessa a reg...</td>\n",
              "      <td>Andes Region; Human Insecurity; US Interventio...</td>\n",
              "      <td>DORF, Robert H. (1996), \"Democratization and F...</td>\n",
              "      <td>129-166</td>\n",
              "      <td>2002.0</td>\n",
              "      <td>v. 24 n. 1 (2002)</td>\n",
              "      <td>pt</td>\n",
              "      <td>10.1590/S0102-85292002000100002</td>\n",
              "      <td>Contexto Internacional</td>\n",
              "      <td>1982-0240</td>\n",
              "      <td>http://www.scielo.br/j/cint/a/z8kxTngCqVMZD65G...</td>\n",
              "      <td>https://www.scielo.br/j/cint/a/z8kxTngCqVMZD65...</td>\n",
              "      <td>/media/hdvm09/bd/007/002/002/003/contexto_inte...</td>\n",
              "      <td>154457</td>\n",
              "    </tr>\n",
              "    <tr>\n",
              "      <th>2</th>\n",
              "      <td>Maria Guadalupe Moog Rodrigues</td>\n",
              "      <td>NaN</td>\n",
              "      <td>Redes transnacionais de advocacia pública: est...</td>\n",
              "      <td>O projeto Planafloro, financiado pelo Banco Mu...</td>\n",
              "      <td>Inspection Panel; World Bank; Transnational Ne...</td>\n",
              "      <td>BROWDER, John. (1998), Report - World Bank Mid...</td>\n",
              "      <td>NaN</td>\n",
              "      <td>2002.0</td>\n",
              "      <td>v. 24 n. 1 (2002)</td>\n",
              "      <td>pt</td>\n",
              "      <td>10.1590/S0102-85292002000100003</td>\n",
              "      <td>Contexto Internacional</td>\n",
              "      <td>1982-0240</td>\n",
              "      <td>http://www.scielo.br/j/cint/a/46s45RBfLWLqwZx9...</td>\n",
              "      <td>https://www.scielo.br/j/cint/a/46s45RBfLWLqwZx...</td>\n",
              "      <td>/media/hdvm09/bd/007/002/002/003/contexto_inte...</td>\n",
              "      <td>206246</td>\n",
              "    </tr>\n",
              "    <tr>\n",
              "      <th>3</th>\n",
              "      <td>Mark Everingham</td>\n",
              "      <td>NaN</td>\n",
              "      <td>Direitos de propriedade e cidadania em socieda...</td>\n",
              "      <td>Este estudo mostra como as disputas de terra d...</td>\n",
              "      <td>Property Rights; Conflict Resolution; Citizens...</td>\n",
              "      <td>ADAMS, Martin, SIBANDA, Sipho e THOMAS, Glen. ...</td>\n",
              "      <td>NaN</td>\n",
              "      <td>2002.0</td>\n",
              "      <td>v. 24 n. 1 (2002)</td>\n",
              "      <td>pt</td>\n",
              "      <td>10.1590/S0102-85292002000100004</td>\n",
              "      <td>Contexto Internacional</td>\n",
              "      <td>1982-0240</td>\n",
              "      <td>http://www.scielo.br/j/cint/a/7pRZMvTywYzZXDfJ...</td>\n",
              "      <td>https://www.scielo.br/j/cint/a/7pRZMvTywYzZXDf...</td>\n",
              "      <td>/media/hdvm09/bd/007/002/002/003/contexto_inte...</td>\n",
              "      <td>147182</td>\n",
              "    </tr>\n",
              "    <tr>\n",
              "      <th>4</th>\n",
              "      <td>Mônica Herz</td>\n",
              "      <td>NaN</td>\n",
              "      <td>O Crescimento da área de relações internaciona...</td>\n",
              "      <td>O artigo analisa a produção acadêmica brasilei...</td>\n",
              "      <td>International Relations Theory; International ...</td>\n",
              "      <td>ABREU, Marcelo de Paiva. (1984), \"O Brasil e a...</td>\n",
              "      <td>NaN</td>\n",
              "      <td>2002.0</td>\n",
              "      <td>v. 24 n. 1 (2002)</td>\n",
              "      <td>pt</td>\n",
              "      <td>10.1590/S0102-85292002000100005</td>\n",
              "      <td>Contexto Internacional</td>\n",
              "      <td>1982-0240</td>\n",
              "      <td>http://www.scielo.br/j/cint/a/dTq3jbQQtT7DgRDj...</td>\n",
              "      <td>https://www.scielo.br/j/cint/a/dTq3jbQQtT7DgRD...</td>\n",
              "      <td>/media/hdvm09/bd/007/002/002/003/contexto_inte...</td>\n",
              "      <td>157795</td>\n",
              "    </tr>\n",
              "    <tr>\n",
              "      <th>...</th>\n",
              "      <td>...</td>\n",
              "      <td>...</td>\n",
              "      <td>...</td>\n",
              "      <td>...</td>\n",
              "      <td>...</td>\n",
              "      <td>...</td>\n",
              "      <td>...</td>\n",
              "      <td>...</td>\n",
              "      <td>...</td>\n",
              "      <td>...</td>\n",
              "      <td>...</td>\n",
              "      <td>...</td>\n",
              "      <td>...</td>\n",
              "      <td>...</td>\n",
              "      <td>...</td>\n",
              "      <td>...</td>\n",
              "      <td>...</td>\n",
              "    </tr>\n",
              "    <tr>\n",
              "      <th>419</th>\n",
              "      <td>Leandro Wolpert dos Santos;André Pimentel Ferr...</td>\n",
              "      <td>Institute of Social and Political Studies of t...</td>\n",
              "      <td>Explaining the Changes in Brazilian Foreign Po...</td>\n",
              "      <td>AbstractThe administration of President Michel...</td>\n",
              "      <td>foreign policy change; Brazilian foreign polic...</td>\n",
              "      <td>Almeida, P R de. 2003. ‘A Política Internacion...</td>\n",
              "      <td>489-513</td>\n",
              "      <td>2021.0</td>\n",
              "      <td>v. 43 n. 3 (2021)</td>\n",
              "      <td>en</td>\n",
              "      <td>10.1590/S0102-8529.2019430300003</td>\n",
              "      <td>Contexto Internacional</td>\n",
              "      <td>1982-0240</td>\n",
              "      <td>http://www.scielo.br/j/cint/a/7gnzcsdC6C3mcsm3...</td>\n",
              "      <td>https://www.scielo.br/j/cint/a/7gnzcsdC6C3mcsm...</td>\n",
              "      <td>/media/hdvm09/bd/007/002/002/003/contexto_inte...</td>\n",
              "      <td>1702907</td>\n",
              "    </tr>\n",
              "    <tr>\n",
              "      <th>420</th>\n",
              "      <td>Cairo Gabriel Borges Junqueira</td>\n",
              "      <td>Federal University of Sergipe (UFS)</td>\n",
              "      <td>From Municipalist Activism to Institutional Ch...</td>\n",
              "      <td>AbstractMercosur has gone through distinct pha...</td>\n",
              "      <td>Mercosur; Mercocities; FCCR; subnational gover...</td>\n",
              "      <td>Aalberts, T. 2005. ‘Sovereignty Reloaded? A Co...</td>\n",
              "      <td>515-540</td>\n",
              "      <td>2021.0</td>\n",
              "      <td>v. 43 n. 3 (2021)</td>\n",
              "      <td>en</td>\n",
              "      <td>10.1590/S0102-8529.2019430300004</td>\n",
              "      <td>Contexto Internacional</td>\n",
              "      <td>1982-0240</td>\n",
              "      <td>http://www.scielo.br/j/cint/a/vqh4SkKwm4DknmfQ...</td>\n",
              "      <td>https://www.scielo.br/j/cint/a/vqh4SkKwm4Dknmf...</td>\n",
              "      <td>/media/hdvm09/bd/007/002/002/003/contexto_inte...</td>\n",
              "      <td>2147350</td>\n",
              "    </tr>\n",
              "    <tr>\n",
              "      <th>421</th>\n",
              "      <td>Virginia Soledad Busilli;María Belén Jaime</td>\n",
              "      <td>Scientific and Technological Center of the Nat...</td>\n",
              "      <td>Chinese Investments in Brazil: Economic Diplom...</td>\n",
              "      <td>AbstractThe People’s Republic of China has con...</td>\n",
              "      <td>Latin America, China, economic diplomacy, FDI,...</td>\n",
              "      <td>Abeliansky, A. L and I Martínez-Zarzoso. 2019....</td>\n",
              "      <td>541-564</td>\n",
              "      <td>2021.0</td>\n",
              "      <td>v. 43 n. 3 (2021)</td>\n",
              "      <td>en</td>\n",
              "      <td>10.1590/S0102-8529.2019430300005</td>\n",
              "      <td>Contexto Internacional</td>\n",
              "      <td>1982-0240</td>\n",
              "      <td>http://www.scielo.br/j/cint/a/czWnkqcLF8RfYDjR...</td>\n",
              "      <td>https://www.scielo.br/j/cint/a/czWnkqcLF8RfYDj...</td>\n",
              "      <td>/media/hdvm09/bd/007/002/002/003/contexto_inte...</td>\n",
              "      <td>1823392</td>\n",
              "    </tr>\n",
              "    <tr>\n",
              "      <th>422</th>\n",
              "      <td>Bruno Hendler;André Luiz Cançado Motta</td>\n",
              "      <td>Federal University of Santa Maria (UFSM);Feder...</td>\n",
              "      <td>Military Build-up in Southeast Asia and the So...</td>\n",
              "      <td>AbstractAbstract: The South China Sea (SCS) is...</td>\n",
              "      <td>South China Sea; Southeast Asia; China; milita...</td>\n",
              "      <td>Astro Awani [online]. 2013. ‘PM Announces Sett...</td>\n",
              "      <td>565-591</td>\n",
              "      <td>2021.0</td>\n",
              "      <td>v. 43 n. 3 (2021)</td>\n",
              "      <td>en</td>\n",
              "      <td>10.1590/S0102-8529.2019430300006</td>\n",
              "      <td>Contexto Internacional</td>\n",
              "      <td>1982-0240</td>\n",
              "      <td>http://www.scielo.br/j/cint/a/jp66xVMw6bFGVJQH...</td>\n",
              "      <td>https://www.scielo.br/j/cint/a/jp66xVMw6bFGVJQ...</td>\n",
              "      <td>/media/hdvm09/bd/007/002/002/003/contexto_inte...</td>\n",
              "      <td>2166459</td>\n",
              "    </tr>\n",
              "    <tr>\n",
              "      <th>423</th>\n",
              "      <td>João Fernando Finazzi</td>\n",
              "      <td>San Tiago Dantas Interinstitutional Graduate P...</td>\n",
              "      <td>Badges Without Borders: How Global Counterinsu...</td>\n",
              "      <td>NaN</td>\n",
              "      <td>NaN</td>\n",
              "      <td>Latham, M. 2011. The Right Kind of Revolution:...</td>\n",
              "      <td>593-596</td>\n",
              "      <td>2021.0</td>\n",
              "      <td>v. 43 n. 3 (2021)</td>\n",
              "      <td>en</td>\n",
              "      <td>10.1590/S0102-8529.2019430300007</td>\n",
              "      <td>Contexto Internacional</td>\n",
              "      <td>1982-0240</td>\n",
              "      <td>http://www.scielo.br/j/cint/a/zJtYy5mtQsMwTNpQ...</td>\n",
              "      <td>https://www.scielo.br/j/cint/a/zJtYy5mtQsMwTNp...</td>\n",
              "      <td>/media/hdvm09/bd/007/002/002/003/contexto_inte...</td>\n",
              "      <td>733593</td>\n",
              "    </tr>\n",
              "  </tbody>\n",
              "</table>\n",
              "<p>424 rows × 17 columns</p>\n",
              "</div>\n",
              "      <button class=\"colab-df-convert\" onclick=\"convertToInteractive('df-cd0f9700-57d4-4d9a-a578-94e0e306c49a')\"\n",
              "              title=\"Convert this dataframe to an interactive table.\"\n",
              "              style=\"display:none;\">\n",
              "        \n",
              "  <svg xmlns=\"http://www.w3.org/2000/svg\" height=\"24px\"viewBox=\"0 0 24 24\"\n",
              "       width=\"24px\">\n",
              "    <path d=\"M0 0h24v24H0V0z\" fill=\"none\"/>\n",
              "    <path d=\"M18.56 5.44l.94 2.06.94-2.06 2.06-.94-2.06-.94-.94-2.06-.94 2.06-2.06.94zm-11 1L8.5 8.5l.94-2.06 2.06-.94-2.06-.94L8.5 2.5l-.94 2.06-2.06.94zm10 10l.94 2.06.94-2.06 2.06-.94-2.06-.94-.94-2.06-.94 2.06-2.06.94z\"/><path d=\"M17.41 7.96l-1.37-1.37c-.4-.4-.92-.59-1.43-.59-.52 0-1.04.2-1.43.59L10.3 9.45l-7.72 7.72c-.78.78-.78 2.05 0 2.83L4 21.41c.39.39.9.59 1.41.59.51 0 1.02-.2 1.41-.59l7.78-7.78 2.81-2.81c.8-.78.8-2.07 0-2.86zM5.41 20L4 18.59l7.72-7.72 1.47 1.35L5.41 20z\"/>\n",
              "  </svg>\n",
              "      </button>\n",
              "      \n",
              "  <style>\n",
              "    .colab-df-container {\n",
              "      display:flex;\n",
              "      flex-wrap:wrap;\n",
              "      gap: 12px;\n",
              "    }\n",
              "\n",
              "    .colab-df-convert {\n",
              "      background-color: #E8F0FE;\n",
              "      border: none;\n",
              "      border-radius: 50%;\n",
              "      cursor: pointer;\n",
              "      display: none;\n",
              "      fill: #1967D2;\n",
              "      height: 32px;\n",
              "      padding: 0 0 0 0;\n",
              "      width: 32px;\n",
              "    }\n",
              "\n",
              "    .colab-df-convert:hover {\n",
              "      background-color: #E2EBFA;\n",
              "      box-shadow: 0px 1px 2px rgba(60, 64, 67, 0.3), 0px 1px 3px 1px rgba(60, 64, 67, 0.15);\n",
              "      fill: #174EA6;\n",
              "    }\n",
              "\n",
              "    [theme=dark] .colab-df-convert {\n",
              "      background-color: #3B4455;\n",
              "      fill: #D2E3FC;\n",
              "    }\n",
              "\n",
              "    [theme=dark] .colab-df-convert:hover {\n",
              "      background-color: #434B5C;\n",
              "      box-shadow: 0px 1px 3px 1px rgba(0, 0, 0, 0.15);\n",
              "      filter: drop-shadow(0px 1px 2px rgba(0, 0, 0, 0.3));\n",
              "      fill: #FFFFFF;\n",
              "    }\n",
              "  </style>\n",
              "\n",
              "      <script>\n",
              "        const buttonEl =\n",
              "          document.querySelector('#df-cd0f9700-57d4-4d9a-a578-94e0e306c49a button.colab-df-convert');\n",
              "        buttonEl.style.display =\n",
              "          google.colab.kernel.accessAllowed ? 'block' : 'none';\n",
              "\n",
              "        async function convertToInteractive(key) {\n",
              "          const element = document.querySelector('#df-cd0f9700-57d4-4d9a-a578-94e0e306c49a');\n",
              "          const dataTable =\n",
              "            await google.colab.kernel.invokeFunction('convertToInteractive',\n",
              "                                                     [key], {});\n",
              "          if (!dataTable) return;\n",
              "\n",
              "          const docLinkHtml = 'Like what you see? Visit the ' +\n",
              "            '<a target=\"_blank\" href=https://colab.research.google.com/notebooks/data_table.ipynb>data table notebook</a>'\n",
              "            + ' to learn more about interactive tables.';\n",
              "          element.innerHTML = '';\n",
              "          dataTable['output_type'] = 'display_data';\n",
              "          await google.colab.output.renderOutput(dataTable, element);\n",
              "          const docLink = document.createElement('div');\n",
              "          docLink.innerHTML = docLinkHtml;\n",
              "          element.appendChild(docLink);\n",
              "        }\n",
              "      </script>\n",
              "    </div>\n",
              "  </div>\n",
              "  "
            ]
          },
          "metadata": {},
          "execution_count": 206
        }
      ]
    },
    {
      "cell_type": "code",
      "source": [
        "#https://labriunesp.org/docs/projetos/dados/irjournalsbr/infos/metadados\n",
        "contexto"
      ],
      "metadata": {
        "colab": {
          "base_uri": "https://localhost:8080/",
          "height": 1000
        },
        "id": "ityLUiOTJS4x",
        "outputId": "0dd05fbe-9cf5-4e7a-e795-e2b0afe2507d"
      },
      "execution_count": null,
      "outputs": [
        {
          "output_type": "execute_result",
          "data": {
            "text/plain": [
              "                                                    AU  \\\n",
              "0                                Eugênio Vargas Garcia   \n",
              "1                               Juan Gabriel Tokatlian   \n",
              "2                       Maria Guadalupe Moog Rodrigues   \n",
              "3                                      Mark Everingham   \n",
              "4                                          Mônica Herz   \n",
              "..                                                 ...   \n",
              "419  Leandro Wolpert dos Santos;André Pimentel Ferr...   \n",
              "420                     Cairo Gabriel Borges Junqueira   \n",
              "421         Virginia Soledad Busilli;María Belén Jaime   \n",
              "422             Bruno Hendler;André Luiz Cançado Motta   \n",
              "423                              João Fernando Finazzi   \n",
              "\n",
              "                                                    OG  \\\n",
              "0                                                  NaN   \n",
              "1                                                  NaN   \n",
              "2                                                  NaN   \n",
              "3                                                  NaN   \n",
              "4                                                  NaN   \n",
              "..                                                 ...   \n",
              "419  Institute of Social and Political Studies of t...   \n",
              "420                Federal University of Sergipe (UFS)   \n",
              "421  Scientific and Technological Center of the Nat...   \n",
              "422  Federal University of Santa Maria (UFSM);Feder...   \n",
              "423  San Tiago Dantas Interinstitutional Graduate P...   \n",
              "\n",
              "                                                    TI  \\\n",
              "0    Estados Unidos e Grã-Bretanha no Brasil: trans...   \n",
              "1    Colômbia: mais insegurança humana, menos segur...   \n",
              "2    Redes transnacionais de advocacia pública: est...   \n",
              "3    Direitos de propriedade e cidadania em socieda...   \n",
              "4    O Crescimento da área de relações internaciona...   \n",
              "..                                                 ...   \n",
              "419  Explaining the Changes in Brazilian Foreign Po...   \n",
              "420  From Municipalist Activism to Institutional Ch...   \n",
              "421  Chinese Investments in Brazil: Economic Diplom...   \n",
              "422  Military Build-up in Southeast Asia and the So...   \n",
              "423  Badges Without Borders: How Global Counterinsu...   \n",
              "\n",
              "                                                    AB  \\\n",
              "0    Com enfoque sobretudo na década de 20, este ar...   \n",
              "1    No contexto da grave crise que atravessa a reg...   \n",
              "2    O projeto Planafloro, financiado pelo Banco Mu...   \n",
              "3    Este estudo mostra como as disputas de terra d...   \n",
              "4    O artigo analisa a produção acadêmica brasilei...   \n",
              "..                                                 ...   \n",
              "419  AbstractThe administration of President Michel...   \n",
              "420  AbstractMercosur has gone through distinct pha...   \n",
              "421  AbstractThe People’s Republic of China has con...   \n",
              "422  AbstractAbstract: The South China Sea (SCS) is...   \n",
              "423                                                NaN   \n",
              "\n",
              "                                                    DE  \\\n",
              "0    Brazil-United States; Brazil-Britain; Transiti...   \n",
              "1    Andes Region; Human Insecurity; US Interventio...   \n",
              "2    Inspection Panel; World Bank; Transnational Ne...   \n",
              "3    Property Rights; Conflict Resolution; Citizens...   \n",
              "4    International Relations Theory; International ...   \n",
              "..                                                 ...   \n",
              "419  foreign policy change; Brazilian foreign polic...   \n",
              "420  Mercosur; Mercocities; FCCR; subnational gover...   \n",
              "421  Latin America, China, economic diplomacy, FDI,...   \n",
              "422  South China Sea; Southeast Asia; China; milita...   \n",
              "423                                                NaN   \n",
              "\n",
              "                                                    CR    BP_EP      PY  \\\n",
              "0    ABREU, Marcelo de Paiva. (1973), \"The Niemeyer...      NaN  2002.0   \n",
              "1    DORF, Robert H. (1996), \"Democratization and F...  129-166  2002.0   \n",
              "2    BROWDER, John. (1998), Report - World Bank Mid...      NaN  2002.0   \n",
              "3    ADAMS, Martin, SIBANDA, Sipho e THOMAS, Glen. ...      NaN  2002.0   \n",
              "4    ABREU, Marcelo de Paiva. (1984), \"O Brasil e a...      NaN  2002.0   \n",
              "..                                                 ...      ...     ...   \n",
              "419  Almeida, P R de. 2003. ‘A Política Internacion...  489-513  2021.0   \n",
              "420  Aalberts, T. 2005. ‘Sovereignty Reloaded? A Co...  515-540  2021.0   \n",
              "421  Abeliansky, A. L and I Martínez-Zarzoso. 2019....  541-564  2021.0   \n",
              "422  Astro Awani [online]. 2013. ‘PM Announces Sett...  565-591  2021.0   \n",
              "423  Latham, M. 2011. The Right Kind of Revolution:...  593-596  2021.0   \n",
              "\n",
              "                    IS  LA                                DI  \\\n",
              "0    v. 24 n. 1 (2002)  pt   10.1590/S0102-85292002000100001   \n",
              "1    v. 24 n. 1 (2002)  pt   10.1590/S0102-85292002000100002   \n",
              "2    v. 24 n. 1 (2002)  pt   10.1590/S0102-85292002000100003   \n",
              "3    v. 24 n. 1 (2002)  pt   10.1590/S0102-85292002000100004   \n",
              "4    v. 24 n. 1 (2002)  pt   10.1590/S0102-85292002000100005   \n",
              "..                 ...  ..                               ...   \n",
              "419  v. 43 n. 3 (2021)  en  10.1590/S0102-8529.2019430300003   \n",
              "420  v. 43 n. 3 (2021)  en  10.1590/S0102-8529.2019430300004   \n",
              "421  v. 43 n. 3 (2021)  en  10.1590/S0102-8529.2019430300005   \n",
              "422  v. 43 n. 3 (2021)  en  10.1590/S0102-8529.2019430300006   \n",
              "423  v. 43 n. 3 (2021)  en  10.1590/S0102-8529.2019430300007   \n",
              "\n",
              "                         SO         SN  \\\n",
              "0    Contexto Internacional  1982-0240   \n",
              "1    Contexto Internacional  1982-0240   \n",
              "2    Contexto Internacional  1982-0240   \n",
              "3    Contexto Internacional  1982-0240   \n",
              "4    Contexto Internacional  1982-0240   \n",
              "..                      ...        ...   \n",
              "419  Contexto Internacional  1982-0240   \n",
              "420  Contexto Internacional  1982-0240   \n",
              "421  Contexto Internacional  1982-0240   \n",
              "422  Contexto Internacional  1982-0240   \n",
              "423  Contexto Internacional  1982-0240   \n",
              "\n",
              "                                                   URL  \\\n",
              "0    http://www.scielo.br/j/cint/a/cMTYLM3xwfzKNT4q...   \n",
              "1    http://www.scielo.br/j/cint/a/z8kxTngCqVMZD65G...   \n",
              "2    http://www.scielo.br/j/cint/a/46s45RBfLWLqwZx9...   \n",
              "3    http://www.scielo.br/j/cint/a/7pRZMvTywYzZXDfJ...   \n",
              "4    http://www.scielo.br/j/cint/a/dTq3jbQQtT7DgRDj...   \n",
              "..                                                 ...   \n",
              "419  http://www.scielo.br/j/cint/a/7gnzcsdC6C3mcsm3...   \n",
              "420  http://www.scielo.br/j/cint/a/vqh4SkKwm4DknmfQ...   \n",
              "421  http://www.scielo.br/j/cint/a/czWnkqcLF8RfYDjR...   \n",
              "422  http://www.scielo.br/j/cint/a/jp66xVMw6bFGVJQH...   \n",
              "423  http://www.scielo.br/j/cint/a/zJtYy5mtQsMwTNpQ...   \n",
              "\n",
              "                                                PDFURL  \\\n",
              "0    https://www.scielo.br/j/cint/a/cMTYLM3xwfzKNT4...   \n",
              "1    https://www.scielo.br/j/cint/a/z8kxTngCqVMZD65...   \n",
              "2    https://www.scielo.br/j/cint/a/46s45RBfLWLqwZx...   \n",
              "3    https://www.scielo.br/j/cint/a/7pRZMvTywYzZXDf...   \n",
              "4    https://www.scielo.br/j/cint/a/dTq3jbQQtT7DgRD...   \n",
              "..                                                 ...   \n",
              "419  https://www.scielo.br/j/cint/a/7gnzcsdC6C3mcsm...   \n",
              "420  https://www.scielo.br/j/cint/a/vqh4SkKwm4Dknmf...   \n",
              "421  https://www.scielo.br/j/cint/a/czWnkqcLF8RfYDj...   \n",
              "422  https://www.scielo.br/j/cint/a/jp66xVMw6bFGVJQ...   \n",
              "423  https://www.scielo.br/j/cint/a/zJtYy5mtQsMwTNp...   \n",
              "\n",
              "                                           loc_arquivo     size  \n",
              "0    /media/hdvm09/bd/007/002/002/003/contexto_inte...   139729  \n",
              "1    /media/hdvm09/bd/007/002/002/003/contexto_inte...   154457  \n",
              "2    /media/hdvm09/bd/007/002/002/003/contexto_inte...   206246  \n",
              "3    /media/hdvm09/bd/007/002/002/003/contexto_inte...   147182  \n",
              "4    /media/hdvm09/bd/007/002/002/003/contexto_inte...   157795  \n",
              "..                                                 ...      ...  \n",
              "419  /media/hdvm09/bd/007/002/002/003/contexto_inte...  1702907  \n",
              "420  /media/hdvm09/bd/007/002/002/003/contexto_inte...  2147350  \n",
              "421  /media/hdvm09/bd/007/002/002/003/contexto_inte...  1823392  \n",
              "422  /media/hdvm09/bd/007/002/002/003/contexto_inte...  2166459  \n",
              "423  /media/hdvm09/bd/007/002/002/003/contexto_inte...   733593  \n",
              "\n",
              "[424 rows x 17 columns]"
            ],
            "text/html": [
              "\n",
              "  <div id=\"df-34fe32f1-b253-42e7-a24f-20a7878f599b\">\n",
              "    <div class=\"colab-df-container\">\n",
              "      <div>\n",
              "<style scoped>\n",
              "    .dataframe tbody tr th:only-of-type {\n",
              "        vertical-align: middle;\n",
              "    }\n",
              "\n",
              "    .dataframe tbody tr th {\n",
              "        vertical-align: top;\n",
              "    }\n",
              "\n",
              "    .dataframe thead th {\n",
              "        text-align: right;\n",
              "    }\n",
              "</style>\n",
              "<table border=\"1\" class=\"dataframe\">\n",
              "  <thead>\n",
              "    <tr style=\"text-align: right;\">\n",
              "      <th></th>\n",
              "      <th>AU</th>\n",
              "      <th>OG</th>\n",
              "      <th>TI</th>\n",
              "      <th>AB</th>\n",
              "      <th>DE</th>\n",
              "      <th>CR</th>\n",
              "      <th>BP_EP</th>\n",
              "      <th>PY</th>\n",
              "      <th>IS</th>\n",
              "      <th>LA</th>\n",
              "      <th>DI</th>\n",
              "      <th>SO</th>\n",
              "      <th>SN</th>\n",
              "      <th>URL</th>\n",
              "      <th>PDFURL</th>\n",
              "      <th>loc_arquivo</th>\n",
              "      <th>size</th>\n",
              "    </tr>\n",
              "  </thead>\n",
              "  <tbody>\n",
              "    <tr>\n",
              "      <th>0</th>\n",
              "      <td>Eugênio Vargas Garcia</td>\n",
              "      <td>NaN</td>\n",
              "      <td>Estados Unidos e Grã-Bretanha no Brasil: trans...</td>\n",
              "      <td>Com enfoque sobretudo na década de 20, este ar...</td>\n",
              "      <td>Brazil-United States; Brazil-Britain; Transiti...</td>\n",
              "      <td>ABREU, Marcelo de Paiva. (1973), \"The Niemeyer...</td>\n",
              "      <td>NaN</td>\n",
              "      <td>2002.0</td>\n",
              "      <td>v. 24 n. 1 (2002)</td>\n",
              "      <td>pt</td>\n",
              "      <td>10.1590/S0102-85292002000100001</td>\n",
              "      <td>Contexto Internacional</td>\n",
              "      <td>1982-0240</td>\n",
              "      <td>http://www.scielo.br/j/cint/a/cMTYLM3xwfzKNT4q...</td>\n",
              "      <td>https://www.scielo.br/j/cint/a/cMTYLM3xwfzKNT4...</td>\n",
              "      <td>/media/hdvm09/bd/007/002/002/003/contexto_inte...</td>\n",
              "      <td>139729</td>\n",
              "    </tr>\n",
              "    <tr>\n",
              "      <th>1</th>\n",
              "      <td>Juan Gabriel Tokatlian</td>\n",
              "      <td>NaN</td>\n",
              "      <td>Colômbia: mais insegurança humana, menos segur...</td>\n",
              "      <td>No contexto da grave crise que atravessa a reg...</td>\n",
              "      <td>Andes Region; Human Insecurity; US Interventio...</td>\n",
              "      <td>DORF, Robert H. (1996), \"Democratization and F...</td>\n",
              "      <td>129-166</td>\n",
              "      <td>2002.0</td>\n",
              "      <td>v. 24 n. 1 (2002)</td>\n",
              "      <td>pt</td>\n",
              "      <td>10.1590/S0102-85292002000100002</td>\n",
              "      <td>Contexto Internacional</td>\n",
              "      <td>1982-0240</td>\n",
              "      <td>http://www.scielo.br/j/cint/a/z8kxTngCqVMZD65G...</td>\n",
              "      <td>https://www.scielo.br/j/cint/a/z8kxTngCqVMZD65...</td>\n",
              "      <td>/media/hdvm09/bd/007/002/002/003/contexto_inte...</td>\n",
              "      <td>154457</td>\n",
              "    </tr>\n",
              "    <tr>\n",
              "      <th>2</th>\n",
              "      <td>Maria Guadalupe Moog Rodrigues</td>\n",
              "      <td>NaN</td>\n",
              "      <td>Redes transnacionais de advocacia pública: est...</td>\n",
              "      <td>O projeto Planafloro, financiado pelo Banco Mu...</td>\n",
              "      <td>Inspection Panel; World Bank; Transnational Ne...</td>\n",
              "      <td>BROWDER, John. (1998), Report - World Bank Mid...</td>\n",
              "      <td>NaN</td>\n",
              "      <td>2002.0</td>\n",
              "      <td>v. 24 n. 1 (2002)</td>\n",
              "      <td>pt</td>\n",
              "      <td>10.1590/S0102-85292002000100003</td>\n",
              "      <td>Contexto Internacional</td>\n",
              "      <td>1982-0240</td>\n",
              "      <td>http://www.scielo.br/j/cint/a/46s45RBfLWLqwZx9...</td>\n",
              "      <td>https://www.scielo.br/j/cint/a/46s45RBfLWLqwZx...</td>\n",
              "      <td>/media/hdvm09/bd/007/002/002/003/contexto_inte...</td>\n",
              "      <td>206246</td>\n",
              "    </tr>\n",
              "    <tr>\n",
              "      <th>3</th>\n",
              "      <td>Mark Everingham</td>\n",
              "      <td>NaN</td>\n",
              "      <td>Direitos de propriedade e cidadania em socieda...</td>\n",
              "      <td>Este estudo mostra como as disputas de terra d...</td>\n",
              "      <td>Property Rights; Conflict Resolution; Citizens...</td>\n",
              "      <td>ADAMS, Martin, SIBANDA, Sipho e THOMAS, Glen. ...</td>\n",
              "      <td>NaN</td>\n",
              "      <td>2002.0</td>\n",
              "      <td>v. 24 n. 1 (2002)</td>\n",
              "      <td>pt</td>\n",
              "      <td>10.1590/S0102-85292002000100004</td>\n",
              "      <td>Contexto Internacional</td>\n",
              "      <td>1982-0240</td>\n",
              "      <td>http://www.scielo.br/j/cint/a/7pRZMvTywYzZXDfJ...</td>\n",
              "      <td>https://www.scielo.br/j/cint/a/7pRZMvTywYzZXDf...</td>\n",
              "      <td>/media/hdvm09/bd/007/002/002/003/contexto_inte...</td>\n",
              "      <td>147182</td>\n",
              "    </tr>\n",
              "    <tr>\n",
              "      <th>4</th>\n",
              "      <td>Mônica Herz</td>\n",
              "      <td>NaN</td>\n",
              "      <td>O Crescimento da área de relações internaciona...</td>\n",
              "      <td>O artigo analisa a produção acadêmica brasilei...</td>\n",
              "      <td>International Relations Theory; International ...</td>\n",
              "      <td>ABREU, Marcelo de Paiva. (1984), \"O Brasil e a...</td>\n",
              "      <td>NaN</td>\n",
              "      <td>2002.0</td>\n",
              "      <td>v. 24 n. 1 (2002)</td>\n",
              "      <td>pt</td>\n",
              "      <td>10.1590/S0102-85292002000100005</td>\n",
              "      <td>Contexto Internacional</td>\n",
              "      <td>1982-0240</td>\n",
              "      <td>http://www.scielo.br/j/cint/a/dTq3jbQQtT7DgRDj...</td>\n",
              "      <td>https://www.scielo.br/j/cint/a/dTq3jbQQtT7DgRD...</td>\n",
              "      <td>/media/hdvm09/bd/007/002/002/003/contexto_inte...</td>\n",
              "      <td>157795</td>\n",
              "    </tr>\n",
              "    <tr>\n",
              "      <th>...</th>\n",
              "      <td>...</td>\n",
              "      <td>...</td>\n",
              "      <td>...</td>\n",
              "      <td>...</td>\n",
              "      <td>...</td>\n",
              "      <td>...</td>\n",
              "      <td>...</td>\n",
              "      <td>...</td>\n",
              "      <td>...</td>\n",
              "      <td>...</td>\n",
              "      <td>...</td>\n",
              "      <td>...</td>\n",
              "      <td>...</td>\n",
              "      <td>...</td>\n",
              "      <td>...</td>\n",
              "      <td>...</td>\n",
              "      <td>...</td>\n",
              "    </tr>\n",
              "    <tr>\n",
              "      <th>419</th>\n",
              "      <td>Leandro Wolpert dos Santos;André Pimentel Ferr...</td>\n",
              "      <td>Institute of Social and Political Studies of t...</td>\n",
              "      <td>Explaining the Changes in Brazilian Foreign Po...</td>\n",
              "      <td>AbstractThe administration of President Michel...</td>\n",
              "      <td>foreign policy change; Brazilian foreign polic...</td>\n",
              "      <td>Almeida, P R de. 2003. ‘A Política Internacion...</td>\n",
              "      <td>489-513</td>\n",
              "      <td>2021.0</td>\n",
              "      <td>v. 43 n. 3 (2021)</td>\n",
              "      <td>en</td>\n",
              "      <td>10.1590/S0102-8529.2019430300003</td>\n",
              "      <td>Contexto Internacional</td>\n",
              "      <td>1982-0240</td>\n",
              "      <td>http://www.scielo.br/j/cint/a/7gnzcsdC6C3mcsm3...</td>\n",
              "      <td>https://www.scielo.br/j/cint/a/7gnzcsdC6C3mcsm...</td>\n",
              "      <td>/media/hdvm09/bd/007/002/002/003/contexto_inte...</td>\n",
              "      <td>1702907</td>\n",
              "    </tr>\n",
              "    <tr>\n",
              "      <th>420</th>\n",
              "      <td>Cairo Gabriel Borges Junqueira</td>\n",
              "      <td>Federal University of Sergipe (UFS)</td>\n",
              "      <td>From Municipalist Activism to Institutional Ch...</td>\n",
              "      <td>AbstractMercosur has gone through distinct pha...</td>\n",
              "      <td>Mercosur; Mercocities; FCCR; subnational gover...</td>\n",
              "      <td>Aalberts, T. 2005. ‘Sovereignty Reloaded? A Co...</td>\n",
              "      <td>515-540</td>\n",
              "      <td>2021.0</td>\n",
              "      <td>v. 43 n. 3 (2021)</td>\n",
              "      <td>en</td>\n",
              "      <td>10.1590/S0102-8529.2019430300004</td>\n",
              "      <td>Contexto Internacional</td>\n",
              "      <td>1982-0240</td>\n",
              "      <td>http://www.scielo.br/j/cint/a/vqh4SkKwm4DknmfQ...</td>\n",
              "      <td>https://www.scielo.br/j/cint/a/vqh4SkKwm4Dknmf...</td>\n",
              "      <td>/media/hdvm09/bd/007/002/002/003/contexto_inte...</td>\n",
              "      <td>2147350</td>\n",
              "    </tr>\n",
              "    <tr>\n",
              "      <th>421</th>\n",
              "      <td>Virginia Soledad Busilli;María Belén Jaime</td>\n",
              "      <td>Scientific and Technological Center of the Nat...</td>\n",
              "      <td>Chinese Investments in Brazil: Economic Diplom...</td>\n",
              "      <td>AbstractThe People’s Republic of China has con...</td>\n",
              "      <td>Latin America, China, economic diplomacy, FDI,...</td>\n",
              "      <td>Abeliansky, A. L and I Martínez-Zarzoso. 2019....</td>\n",
              "      <td>541-564</td>\n",
              "      <td>2021.0</td>\n",
              "      <td>v. 43 n. 3 (2021)</td>\n",
              "      <td>en</td>\n",
              "      <td>10.1590/S0102-8529.2019430300005</td>\n",
              "      <td>Contexto Internacional</td>\n",
              "      <td>1982-0240</td>\n",
              "      <td>http://www.scielo.br/j/cint/a/czWnkqcLF8RfYDjR...</td>\n",
              "      <td>https://www.scielo.br/j/cint/a/czWnkqcLF8RfYDj...</td>\n",
              "      <td>/media/hdvm09/bd/007/002/002/003/contexto_inte...</td>\n",
              "      <td>1823392</td>\n",
              "    </tr>\n",
              "    <tr>\n",
              "      <th>422</th>\n",
              "      <td>Bruno Hendler;André Luiz Cançado Motta</td>\n",
              "      <td>Federal University of Santa Maria (UFSM);Feder...</td>\n",
              "      <td>Military Build-up in Southeast Asia and the So...</td>\n",
              "      <td>AbstractAbstract: The South China Sea (SCS) is...</td>\n",
              "      <td>South China Sea; Southeast Asia; China; milita...</td>\n",
              "      <td>Astro Awani [online]. 2013. ‘PM Announces Sett...</td>\n",
              "      <td>565-591</td>\n",
              "      <td>2021.0</td>\n",
              "      <td>v. 43 n. 3 (2021)</td>\n",
              "      <td>en</td>\n",
              "      <td>10.1590/S0102-8529.2019430300006</td>\n",
              "      <td>Contexto Internacional</td>\n",
              "      <td>1982-0240</td>\n",
              "      <td>http://www.scielo.br/j/cint/a/jp66xVMw6bFGVJQH...</td>\n",
              "      <td>https://www.scielo.br/j/cint/a/jp66xVMw6bFGVJQ...</td>\n",
              "      <td>/media/hdvm09/bd/007/002/002/003/contexto_inte...</td>\n",
              "      <td>2166459</td>\n",
              "    </tr>\n",
              "    <tr>\n",
              "      <th>423</th>\n",
              "      <td>João Fernando Finazzi</td>\n",
              "      <td>San Tiago Dantas Interinstitutional Graduate P...</td>\n",
              "      <td>Badges Without Borders: How Global Counterinsu...</td>\n",
              "      <td>NaN</td>\n",
              "      <td>NaN</td>\n",
              "      <td>Latham, M. 2011. The Right Kind of Revolution:...</td>\n",
              "      <td>593-596</td>\n",
              "      <td>2021.0</td>\n",
              "      <td>v. 43 n. 3 (2021)</td>\n",
              "      <td>en</td>\n",
              "      <td>10.1590/S0102-8529.2019430300007</td>\n",
              "      <td>Contexto Internacional</td>\n",
              "      <td>1982-0240</td>\n",
              "      <td>http://www.scielo.br/j/cint/a/zJtYy5mtQsMwTNpQ...</td>\n",
              "      <td>https://www.scielo.br/j/cint/a/zJtYy5mtQsMwTNp...</td>\n",
              "      <td>/media/hdvm09/bd/007/002/002/003/contexto_inte...</td>\n",
              "      <td>733593</td>\n",
              "    </tr>\n",
              "  </tbody>\n",
              "</table>\n",
              "<p>424 rows × 17 columns</p>\n",
              "</div>\n",
              "      <button class=\"colab-df-convert\" onclick=\"convertToInteractive('df-34fe32f1-b253-42e7-a24f-20a7878f599b')\"\n",
              "              title=\"Convert this dataframe to an interactive table.\"\n",
              "              style=\"display:none;\">\n",
              "        \n",
              "  <svg xmlns=\"http://www.w3.org/2000/svg\" height=\"24px\"viewBox=\"0 0 24 24\"\n",
              "       width=\"24px\">\n",
              "    <path d=\"M0 0h24v24H0V0z\" fill=\"none\"/>\n",
              "    <path d=\"M18.56 5.44l.94 2.06.94-2.06 2.06-.94-2.06-.94-.94-2.06-.94 2.06-2.06.94zm-11 1L8.5 8.5l.94-2.06 2.06-.94-2.06-.94L8.5 2.5l-.94 2.06-2.06.94zm10 10l.94 2.06.94-2.06 2.06-.94-2.06-.94-.94-2.06-.94 2.06-2.06.94z\"/><path d=\"M17.41 7.96l-1.37-1.37c-.4-.4-.92-.59-1.43-.59-.52 0-1.04.2-1.43.59L10.3 9.45l-7.72 7.72c-.78.78-.78 2.05 0 2.83L4 21.41c.39.39.9.59 1.41.59.51 0 1.02-.2 1.41-.59l7.78-7.78 2.81-2.81c.8-.78.8-2.07 0-2.86zM5.41 20L4 18.59l7.72-7.72 1.47 1.35L5.41 20z\"/>\n",
              "  </svg>\n",
              "      </button>\n",
              "      \n",
              "  <style>\n",
              "    .colab-df-container {\n",
              "      display:flex;\n",
              "      flex-wrap:wrap;\n",
              "      gap: 12px;\n",
              "    }\n",
              "\n",
              "    .colab-df-convert {\n",
              "      background-color: #E8F0FE;\n",
              "      border: none;\n",
              "      border-radius: 50%;\n",
              "      cursor: pointer;\n",
              "      display: none;\n",
              "      fill: #1967D2;\n",
              "      height: 32px;\n",
              "      padding: 0 0 0 0;\n",
              "      width: 32px;\n",
              "    }\n",
              "\n",
              "    .colab-df-convert:hover {\n",
              "      background-color: #E2EBFA;\n",
              "      box-shadow: 0px 1px 2px rgba(60, 64, 67, 0.3), 0px 1px 3px 1px rgba(60, 64, 67, 0.15);\n",
              "      fill: #174EA6;\n",
              "    }\n",
              "\n",
              "    [theme=dark] .colab-df-convert {\n",
              "      background-color: #3B4455;\n",
              "      fill: #D2E3FC;\n",
              "    }\n",
              "\n",
              "    [theme=dark] .colab-df-convert:hover {\n",
              "      background-color: #434B5C;\n",
              "      box-shadow: 0px 1px 3px 1px rgba(0, 0, 0, 0.15);\n",
              "      filter: drop-shadow(0px 1px 2px rgba(0, 0, 0, 0.3));\n",
              "      fill: #FFFFFF;\n",
              "    }\n",
              "  </style>\n",
              "\n",
              "      <script>\n",
              "        const buttonEl =\n",
              "          document.querySelector('#df-34fe32f1-b253-42e7-a24f-20a7878f599b button.colab-df-convert');\n",
              "        buttonEl.style.display =\n",
              "          google.colab.kernel.accessAllowed ? 'block' : 'none';\n",
              "\n",
              "        async function convertToInteractive(key) {\n",
              "          const element = document.querySelector('#df-34fe32f1-b253-42e7-a24f-20a7878f599b');\n",
              "          const dataTable =\n",
              "            await google.colab.kernel.invokeFunction('convertToInteractive',\n",
              "                                                     [key], {});\n",
              "          if (!dataTable) return;\n",
              "\n",
              "          const docLinkHtml = 'Like what you see? Visit the ' +\n",
              "            '<a target=\"_blank\" href=https://colab.research.google.com/notebooks/data_table.ipynb>data table notebook</a>'\n",
              "            + ' to learn more about interactive tables.';\n",
              "          element.innerHTML = '';\n",
              "          dataTable['output_type'] = 'display_data';\n",
              "          await google.colab.output.renderOutput(dataTable, element);\n",
              "          const docLink = document.createElement('div');\n",
              "          docLink.innerHTML = docLinkHtml;\n",
              "          element.appendChild(docLink);\n",
              "        }\n",
              "      </script>\n",
              "    </div>\n",
              "  </div>\n",
              "  "
            ]
          },
          "metadata": {},
          "execution_count": 207
        }
      ]
    },
    {
      "cell_type": "code",
      "source": [
        "contexto.shape"
      ],
      "metadata": {
        "colab": {
          "base_uri": "https://localhost:8080/"
        },
        "id": "FvmLMCvNJxws",
        "outputId": "ebce5ce8-7edd-4035-9ea0-5e953d6de7cc"
      },
      "execution_count": null,
      "outputs": [
        {
          "output_type": "execute_result",
          "data": {
            "text/plain": [
              "(424, 17)"
            ]
          },
          "metadata": {},
          "execution_count": 208
        }
      ]
    },
    {
      "cell_type": "code",
      "source": [
        "frequencia_artigo_ano = contexto.groupby([\"PY\"]).PY.count()\n",
        "frequencia_artigo_ano"
      ],
      "metadata": {
        "colab": {
          "base_uri": "https://localhost:8080/"
        },
        "id": "E1XlnZkNjBPz",
        "outputId": "7bdb96a8-feee-4faa-93ea-87b9badad581"
      },
      "execution_count": null,
      "outputs": [
        {
          "output_type": "execute_result",
          "data": {
            "text/plain": [
              "PY\n",
              "2002.0    10\n",
              "2003.0    10\n",
              "2004.0    12\n",
              "2005.0    14\n",
              "2006.0    13\n",
              "2007.0    11\n",
              "2008.0    19\n",
              "2009.0    17\n",
              "2010.0    19\n",
              "2011.0    20\n",
              "2012.0    18\n",
              "2013.0    19\n",
              "2014.0    21\n",
              "2015.0    35\n",
              "2016.0    35\n",
              "2017.0    34\n",
              "2018.0    31\n",
              "2019.0    34\n",
              "2020.0    26\n",
              "2021.0    26\n",
              "Name: PY, dtype: int64"
            ]
          },
          "metadata": {},
          "execution_count": 209
        }
      ]
    },
    {
      "cell_type": "code",
      "source": [
        "#gráficos gerados diretamente pelo pandas\n",
        "frequencia_artigo_ano.plot(kind = \"bar\")"
      ],
      "metadata": {
        "colab": {
          "base_uri": "https://localhost:8080/",
          "height": 321
        },
        "id": "Qv2ZtCWJlBrL",
        "outputId": "04047930-3e13-4f63-a94d-ee6d174db7cb"
      },
      "execution_count": null,
      "outputs": [
        {
          "output_type": "execute_result",
          "data": {
            "text/plain": [
              "<AxesSubplot:xlabel='PY'>"
            ]
          },
          "metadata": {},
          "execution_count": 210
        },
        {
          "output_type": "display_data",
          "data": {
            "text/plain": [
              "<Figure size 432x288 with 1 Axes>"
            ],
            "image/png": "[encoded data removed]"
          },
          "metadata": {
            "needs_background": "light"
          }
        }
      ]
    },
    {
      "cell_type": "code",
      "source": [
        "#graficos gerados pelo plotly\n",
        "import plotly.graph_objects as go \n",
        "import plotly.express as px\n",
        "\n",
        "figura = px.bar(frequencia_artigo_ano)\n",
        "figura.show()"
      ],
      "metadata": {
        "colab": {
          "base_uri": "https://localhost:8080/",
          "height": 542
        },
        "id": "T2RJ4e2NlYRi",
        "outputId": "669baa09-dbb0-4e1b-afa7-3036edb91580"
      },
      "execution_count": null,
      "outputs": [
        {
          "output_type": "display_data",
          "data": {
            "text/html": [
              "<html>\n",
              "<head><meta charset=\"utf-8\" /></head>\n",
              "<body>\n",
              "    <div>            <script src=\"https://cdnjs.cloudflare.com/ajax/libs/mathjax/2.7.5/MathJax.js?config=TeX-AMS-MML_SVG\"></script><script type=\"text/javascript\">if (window.MathJax) {MathJax.Hub.Config({SVG: {font: \"STIX-Web\"}});}</script>                <script type=\"text/javascript\">window.PlotlyConfig = {MathJaxConfig: 'local'};</script>\n",
              "        <script src=\"https://cdn.plot.ly/plotly-2.8.3.min.js\"></script>                <div id=\"aaaa3e78-7042-4e0b-ac58-a7f1be22a5b2\" class=\"plotly-graph-div\" style=\"height:525px; width:100%;\"></div>            <script type=\"text/javascript\">                                    window.PLOTLYENV=window.PLOTLYENV || {};                                    if (document.getElementById(\"aaaa3e78-7042-4e0b-ac58-a7f1be22a5b2\")) {                    Plotly.newPlot(                        \"aaaa3e78-7042-4e0b-ac58-a7f1be22a5b2\",                        [{\"alignmentgroup\":\"True\",\"hovertemplate\":\"variable=PY<br>index=%{x}<br>value=%{y}<extra></extra>\",\"legendgroup\":\"PY\",\"marker\":{\"color\":\"#636efa\",\"pattern\":{\"shape\":\"\"}},\"name\":\"PY\",\"offsetgroup\":\"PY\",\"orientation\":\"v\",\"showlegend\":true,\"textposition\":\"auto\",\"x\":[2002.0,2003.0,2004.0,2005.0,2006.0,2007.0,2008.0,2009.0,2010.0,2011.0,2012.0,2013.0,2014.0,2015.0,2016.0,2017.0,2018.0,2019.0,2020.0,2021.0],\"xaxis\":\"x\",\"y\":[10,10,12,14,13,11,19,17,19,20,18,19,21,35,35,34,31,34,26,26],\"yaxis\":\"y\",\"type\":\"bar\"}],                        {\"template\":{\"data\":{\"bar\":[{\"error_x\":{\"color\":\"#2a3f5f\"},\"error_y\":{\"color\":\"#2a3f5f\"},\"marker\":{\"line\":{\"color\":\"#E5ECF6\",\"width\":0.5},\"pattern\":{\"fillmode\":\"overlay\",\"size\":10,\"solidity\":0.2}},\"type\":\"bar\"}],\"barpolar\":[{\"marker\":{\"line\":{\"color\":\"#E5ECF6\",\"width\":0.5},\"pattern\":{\"fillmode\":\"overlay\",\"size\":10,\"solidity\":0.2}},\"type\":\"barpolar\"}],\"carpet\":[{\"aaxis\":{\"endlinecolor\":\"#2a3f5f\",\"gridcolor\":\"white\",\"linecolor\":\"white\",\"minorgridcolor\":\"white\",\"startlinecolor\":\"#2a3f5f\"},\"baxis\":{\"endlinecolor\":\"#2a3f5f\",\"gridcolor\":\"white\",\"linecolor\":\"white\",\"minorgridcolor\":\"white\",\"startlinecolor\":\"#2a3f5f\"},\"type\":\"carpet\"}],\"choropleth\":[{\"colorbar\":{\"outlinewidth\":0,\"ticks\":\"\"},\"type\":\"choropleth\"}],\"contour\":[{\"colorbar\":{\"outlinewidth\":0,\"ticks\":\"\"},\"colorscale\":[[0.0,\"#0d0887\"],[0.1111111111111111,\"#46039f\"],[0.2222222222222222,\"#7201a8\"],[0.3333333333333333,\"#9c179e\"],[0.4444444444444444,\"#bd3786\"],[0.5555555555555556,\"#d8576b\"],[0.6666666666666666,\"#ed7953\"],[0.7777777777777778,\"#fb9f3a\"],[0.8888888888888888,\"#fdca26\"],[1.0,\"#f0f921\"]],\"type\":\"contour\"}],\"contourcarpet\":[{\"colorbar\":{\"outlinewidth\":0,\"ticks\":\"\"},\"type\":\"contourcarpet\"}],\"heatmap\":[{\"colorbar\":{\"outlinewidth\":0,\"ticks\":\"\"},\"colorscale\":[[0.0,\"#0d0887\"],[0.1111111111111111,\"#46039f\"],[0.2222222222222222,\"#7201a8\"],[0.3333333333333333,\"#9c179e\"],[0.4444444444444444,\"#bd3786\"],[0.5555555555555556,\"#d8576b\"],[0.6666666666666666,\"#ed7953\"],[0.7777777777777778,\"#fb9f3a\"],[0.8888888888888888,\"#fdca26\"],[1.0,\"#f0f921\"]],\"type\":\"heatmap\"}],\"heatmapgl\":[{\"colorbar\":{\"outlinewidth\":0,\"ticks\":\"\"},\"colorscale\":[[0.0,\"#0d0887\"],[0.1111111111111111,\"#46039f\"],[0.2222222222222222,\"#7201a8\"],[0.3333333333333333,\"#9c179e\"],[0.4444444444444444,\"#bd3786\"],[0.5555555555555556,\"#d8576b\"],[0.6666666666666666,\"#ed7953\"],[0.7777777777777778,\"#fb9f3a\"],[0.8888888888888888,\"#fdca26\"],[1.0,\"#f0f921\"]],\"type\":\"heatmapgl\"}],\"histogram\":[{\"marker\":{\"pattern\":{\"fillmode\":\"overlay\",\"size\":10,\"solidity\":0.2}},\"type\":\"histogram\"}],\"histogram2d\":[{\"colorbar\":{\"outlinewidth\":0,\"ticks\":\"\"},\"colorscale\":[[0.0,\"#0d0887\"],[0.1111111111111111,\"#46039f\"],[0.2222222222222222,\"#7201a8\"],[0.3333333333333333,\"#9c179e\"],[0.4444444444444444,\"#bd3786\"],[0.5555555555555556,\"#d8576b\"],[0.6666666666666666,\"#ed7953\"],[0.7777777777777778,\"#fb9f3a\"],[0.8888888888888888,\"#fdca26\"],[1.0,\"#f0f921\"]],\"type\":\"histogram2d\"}],\"histogram2dcontour\":[{\"colorbar\":{\"outlinewidth\":0,\"ticks\":\"\"},\"colorscale\":[[0.0,\"#0d0887\"],[0.1111111111111111,\"#46039f\"],[0.2222222222222222,\"#7201a8\"],[0.3333333333333333,\"#9c179e\"],[0.4444444444444444,\"#bd3786\"],[0.5555555555555556,\"#d8576b\"],[0.6666666666666666,\"#ed7953\"],[0.7777777777777778,\"#fb9f3a\"],[0.8888888888888888,\"#fdca26\"],[1.0,\"#f0f921\"]],\"type\":\"histogram2dcontour\"}],\"mesh3d\":[{\"colorbar\":{\"outlinewidth\":0,\"ticks\":\"\"},\"type\":\"mesh3d\"}],\"parcoords\":[{\"line\":{\"colorbar\":{\"outlinewidth\":0,\"ticks\":\"\"}},\"type\":\"parcoords\"}],\"pie\":[{\"automargin\":true,\"type\":\"pie\"}],\"scatter\":[{\"marker\":{\"colorbar\":{\"outlinewidth\":0,\"ticks\":\"\"}},\"type\":\"scatter\"}],\"scatter3d\":[{\"line\":{\"colorbar\":{\"outlinewidth\":0,\"ticks\":\"\"}},\"marker\":{\"colorbar\":{\"outlinewidth\":0,\"ticks\":\"\"}},\"type\":\"scatter3d\"}],\"scattercarpet\":[{\"marker\":{\"colorbar\":{\"outlinewidth\":0,\"ticks\":\"\"}},\"type\":\"scattercarpet\"}],\"scattergeo\":[{\"marker\":{\"colorbar\":{\"outlinewidth\":0,\"ticks\":\"\"}},\"type\":\"scattergeo\"}],\"scattergl\":[{\"marker\":{\"colorbar\":{\"outlinewidth\":0,\"ticks\":\"\"}},\"type\":\"scattergl\"}],\"scattermapbox\":[{\"marker\":{\"colorbar\":{\"outlinewidth\":0,\"ticks\":\"\"}},\"type\":\"scattermapbox\"}],\"scatterpolar\":[{\"marker\":{\"colorbar\":{\"outlinewidth\":0,\"ticks\":\"\"}},\"type\":\"scatterpolar\"}],\"scatterpolargl\":[{\"marker\":{\"colorbar\":{\"outlinewidth\":0,\"ticks\":\"\"}},\"type\":\"scatterpolargl\"}],\"scatterternary\":[{\"marker\":{\"colorbar\":{\"outlinewidth\":0,\"ticks\":\"\"}},\"type\":\"scatterternary\"}],\"surface\":[{\"colorbar\":{\"outlinewidth\":0,\"ticks\":\"\"},\"colorscale\":[[0.0,\"#0d0887\"],[0.1111111111111111,\"#46039f\"],[0.2222222222222222,\"#7201a8\"],[0.3333333333333333,\"#9c179e\"],[0.4444444444444444,\"#bd3786\"],[0.5555555555555556,\"#d8576b\"],[0.6666666666666666,\"#ed7953\"],[0.7777777777777778,\"#fb9f3a\"],[0.8888888888888888,\"#fdca26\"],[1.0,\"#f0f921\"]],\"type\":\"surface\"}],\"table\":[{\"cells\":{\"fill\":{\"color\":\"#EBF0F8\"},\"line\":{\"color\":\"white\"}},\"header\":{\"fill\":{\"color\":\"#C8D4E3\"},\"line\":{\"color\":\"white\"}},\"type\":\"table\"}]},\"layout\":{\"annotationdefaults\":{\"arrowcolor\":\"#2a3f5f\",\"arrowhead\":0,\"arrowwidth\":1},\"autotypenumbers\":\"strict\",\"coloraxis\":{\"colorbar\":{\"outlinewidth\":0,\"ticks\":\"\"}},\"colorscale\":{\"diverging\":[[0,\"#8e0152\"],[0.1,\"#c51b7d\"],[0.2,\"#de77ae\"],[0.3,\"#f1b6da\"],[0.4,\"#fde0ef\"],[0.5,\"#f7f7f7\"],[0.6,\"#e6f5d0\"],[0.7,\"#b8e186\"],[0.8,\"#7fbc41\"],[0.9,\"#4d9221\"],[1,\"#276419\"]],\"sequential\":[[0.0,\"#0d0887\"],[0.1111111111111111,\"#46039f\"],[0.2222222222222222,\"#7201a8\"],[0.3333333333333333,\"#9c179e\"],[0.4444444444444444,\"#bd3786\"],[0.5555555555555556,\"#d8576b\"],[0.6666666666666666,\"#ed7953\"],[0.7777777777777778,\"#fb9f3a\"],[0.8888888888888888,\"#fdca26\"],[1.0,\"#f0f921\"]],\"sequentialminus\":[[0.0,\"#0d0887\"],[0.1111111111111111,\"#46039f\"],[0.2222222222222222,\"#7201a8\"],[0.3333333333333333,\"#9c179e\"],[0.4444444444444444,\"#bd3786\"],[0.5555555555555556,\"#d8576b\"],[0.6666666666666666,\"#ed7953\"],[0.7777777777777778,\"#fb9f3a\"],[0.8888888888888888,\"#fdca26\"],[1.0,\"#f0f921\"]]},\"colorway\":[\"#636efa\",\"#EF553B\",\"#00cc96\",\"#ab63fa\",\"#FFA15A\",\"#19d3f3\",\"#FF6692\",\"#B6E880\",\"#FF97FF\",\"#FECB52\"],\"font\":{\"color\":\"#2a3f5f\"},\"geo\":{\"bgcolor\":\"white\",\"lakecolor\":\"white\",\"landcolor\":\"#E5ECF6\",\"showlakes\":true,\"showland\":true,\"subunitcolor\":\"white\"},\"hoverlabel\":{\"align\":\"left\"},\"hovermode\":\"closest\",\"mapbox\":{\"style\":\"light\"},\"paper_bgcolor\":\"white\",\"plot_bgcolor\":\"#E5ECF6\",\"polar\":{\"angularaxis\":{\"gridcolor\":\"white\",\"linecolor\":\"white\",\"ticks\":\"\"},\"bgcolor\":\"#E5ECF6\",\"radialaxis\":{\"gridcolor\":\"white\",\"linecolor\":\"white\",\"ticks\":\"\"}},\"scene\":{\"xaxis\":{\"backgroundcolor\":\"#E5ECF6\",\"gridcolor\":\"white\",\"gridwidth\":2,\"linecolor\":\"white\",\"showbackground\":true,\"ticks\":\"\",\"zerolinecolor\":\"white\"},\"yaxis\":{\"backgroundcolor\":\"#E5ECF6\",\"gridcolor\":\"white\",\"gridwidth\":2,\"linecolor\":\"white\",\"showbackground\":true,\"ticks\":\"\",\"zerolinecolor\":\"white\"},\"zaxis\":{\"backgroundcolor\":\"#E5ECF6\",\"gridcolor\":\"white\",\"gridwidth\":2,\"linecolor\":\"white\",\"showbackground\":true,\"ticks\":\"\",\"zerolinecolor\":\"white\"}},\"shapedefaults\":{\"line\":{\"color\":\"#2a3f5f\"}},\"ternary\":{\"aaxis\":{\"gridcolor\":\"white\",\"linecolor\":\"white\",\"ticks\":\"\"},\"baxis\":{\"gridcolor\":\"white\",\"linecolor\":\"white\",\"ticks\":\"\"},\"bgcolor\":\"#E5ECF6\",\"caxis\":{\"gridcolor\":\"white\",\"linecolor\":\"white\",\"ticks\":\"\"}},\"title\":{\"x\":0.05},\"xaxis\":{\"automargin\":true,\"gridcolor\":\"white\",\"linecolor\":\"white\",\"ticks\":\"\",\"title\":{\"standoff\":15},\"zerolinecolor\":\"white\",\"zerolinewidth\":2},\"yaxis\":{\"automargin\":true,\"gridcolor\":\"white\",\"linecolor\":\"white\",\"ticks\":\"\",\"title\":{\"standoff\":15},\"zerolinecolor\":\"white\",\"zerolinewidth\":2}}},\"xaxis\":{\"anchor\":\"y\",\"domain\":[0.0,1.0],\"title\":{\"text\":\"index\"}},\"yaxis\":{\"anchor\":\"x\",\"domain\":[0.0,1.0],\"title\":{\"text\":\"value\"}},\"legend\":{\"title\":{\"text\":\"variable\"},\"tracegroupgap\":0},\"margin\":{\"t\":60},\"barmode\":\"relative\"},                        {\"responsive\": true}                    ).then(function(){\n",
              "                            \n",
              "var gd = document.getElementById('aaaa3e78-7042-4e0b-ac58-a7f1be22a5b2');\n",
              "var x = new MutationObserver(function (mutations, observer) {{\n",
              "        var display = window.getComputedStyle(gd).display;\n",
              "        if (!display || display === 'none') {{\n",
              "            console.log([gd, 'removed!']);\n",
              "            Plotly.purge(gd);\n",
              "            observer.disconnect();\n",
              "        }}\n",
              "}});\n",
              "\n",
              "// Listen for the removal of the full notebook cells\n",
              "var notebookContainer = gd.closest('#notebook-container');\n",
              "if (notebookContainer) {{\n",
              "    x.observe(notebookContainer, {childList: true});\n",
              "}}\n",
              "\n",
              "// Listen for the clearing of the current output cell\n",
              "var outputEl = gd.closest('.output');\n",
              "if (outputEl) {{\n",
              "    x.observe(outputEl, {childList: true});\n",
              "}}\n",
              "\n",
              "                        })                };                            </script>        </div>\n",
              "</body>\n",
              "</html>"
            ]
          },
          "metadata": {}
        }
      ]
    },
    {
      "cell_type": "markdown",
      "source": [
        "#Qual é a frequência de autores na revista? "
      ],
      "metadata": {
        "id": "DCHFtFqNJGPo"
      }
    },
    {
      "cell_type": "code",
      "source": [
        "autores_por_ano= contexto[\"AU\"].value_counts()\n",
        "autores_por_ano"
      ],
      "metadata": {
        "colab": {
          "base_uri": "https://localhost:8080/"
        },
        "id": "Hi6AOm_7JKNy",
        "outputId": "f6a865a9-e046-4bb1-fc8b-ec0604d89ccf"
      },
      "execution_count": null,
      "outputs": [
        {
          "output_type": "execute_result",
          "data": {
            "text/plain": [
              "Natália Maria Félix de Souza              3\n",
              "Fábio Albergaria de Queiroz               3\n",
              "Sonia de Camargo                          3\n",
              "Eugenio Diniz                             2\n",
              "Feliciano de Sá Guimarães                 2\n",
              "                                         ..\n",
              "Sandra Colombo;J. Ignacio Frechero        1\n",
              "Victor Coutinho Lage                      1\n",
              "Leonardo Ramos                            1\n",
              "Guilherme Stolle Paixão e Casarões        1\n",
              "Bruno Hendler;André Luiz Cançado Motta    1\n",
              "Name: AU, Length: 394, dtype: int64"
            ]
          },
          "metadata": {},
          "execution_count": 212
        }
      ]
    },
    {
      "cell_type": "code",
      "source": [
        "px.bar(autores_por_ano)"
      ],
      "metadata": {
        "colab": {
          "base_uri": "https://localhost:8080/",
          "height": 542
        },
        "id": "aBynL5SUJQyX",
        "outputId": "0db1a84d-b560-4411-fe14-4c0a4495f36b"
      },
      "execution_count": null,
      "outputs": [
        {
          "output_type": "display_data",
          "data": {
            "text/html": [
              "<html>\n",
              "<head><meta charset=\"utf-8\" /></head>\n",
              "<body>\n",
              "    <div>            <script src=\"https://cdnjs.cloudflare.com/ajax/libs/mathjax/2.7.5/MathJax.js?config=TeX-AMS-MML_SVG\"></script><script type=\"text/javascript\">if (window.MathJax) {MathJax.Hub.Config({SVG: {font: \"STIX-Web\"}});}</script>                <script type=\"text/javascript\">window.PlotlyConfig = {MathJaxConfig: 'local'};</script>\n",
              "        <script src=\"https://cdn.plot.ly/plotly-2.8.3.min.js\"></script>                <div id=\"99d80fe7-9ab5-4ea5-8e0c-cb5416924b89\" class=\"plotly-graph-div\" style=\"height:525px; width:100%;\"></div>            <script type=\"text/javascript\">                                    window.PLOTLYENV=window.PLOTLYENV || {};                                    if (document.getElementById(\"99d80fe7-9ab5-4ea5-8e0c-cb5416924b89\")) {                    Plotly.newPlot(                        \"99d80fe7-9ab5-4ea5-8e0c-cb5416924b89\",                        [{\"alignmentgroup\":\"True\",\"hovertemplate\":\"variable=AU<br>index=%{x}<br>value=%{y}<extra></extra>\",\"legendgroup\":\"AU\",\"marker\":{\"color\":\"#636efa\",\"pattern\":{\"shape\":\"\"}},\"name\":\"AU\",\"offsetgroup\":\"AU\",\"orientation\":\"v\",\"showlegend\":true,\"textposition\":\"auto\",\"x\":[\"Nat\\u00e1lia Maria F\\u00e9lix de Souza\",\"F\\u00e1bio Albergaria de Queiroz\",\"Sonia de Camargo\",\"Eugenio Diniz\",\"Feliciano de S\\u00e1 Guimar\\u00e3es\",\"Manuela Amaral\",\"Marcelo Valen\\u00e7a\",\"Maur\\u00edcio Santoro\",\"Igor Abdalla Medina de Souza\",\"Kai Lehmann\",\"Silvia Ferabolli\",\"Diego Santos Vieira de Jesus\",\"Ricardo Prata\",\"Fl\\u00e1vio Pedroso Mendes\",\"Daniel Ricardo Castelan\",\"Nat\\u00e1lia Maria F\\u00e9lix de  Souza\",\"Renan Holanda Montenegro\",\"Amanda \\u00c1lvares Ferreira\",\"Celso Amorim\",\"Bruno Boti Bernardi\",\"Carolina Moulin\",\"Jo\\u00e3o Fernando Finazzi\",\"Anna Leander\",\"Maria Izabel V. de Carvalho\",\"Paulo Roberto de Almeida\",\"Henrique Zeferino de Menezes\",\"Jos\\u00e9 Mar\\u00eda G\\u00f3mez\",\"Carola Lustig;Tom\\u00e1s Olego\",\"Georges Flexor;Sergio Pereira Leite\",\"S\\u00edlvia Roque\",\"Rhys Machold\",\"Thiago Rodrigues;Fernando Brancoli;Paul Amar\",\"Veronica Korber Gon\\u00e7alves\",\"Benjamin J. Cohen\",\"Kristian Bondo Hansen\",\"Antonio Teixeira de Barros\",\"Fran\\u00e7ois Vre\\u00ff\",\"Ana Carolina Delgado\",\"M\\u00f4nica Herz;Layla Dawood;Victor Coutinho Lage\",\"Dawisson Bel\\u00e9m Lopes;Carlos Aur\\u00e9lio Pimenta de Faria\",\"Pedro Seabra\",\"Sabrina Evangelista Medeiros;William de Sousa Moreira\",\"Beatriz Rodrigues Bessa Mattos;Francisco Eduardo Lemos de Matos;Kai Michael Kenkel\",\"Andr\\u00e9 Panno Beir\\u00e3o\",\"Antonio Ruy de Almeida Silva\",\"Diana Tussie;Pia Riggirozzi\",\"Peter Vale;Vineet Thakur\",\"Joana Castro Pereira;Miguel Rodrigues Freitas\",\"Stefano Guzzini\",\"Maria Izabel V de Carvalho;Carlos Henrique Canesin\",\"Ariane Roder Figueira;Bernardo Frossard da Silva-R\\u00eago\",\"Mariana Pimenta Oliveira Baccarini\",\"Flavio Am\\u00e9rico dos Reis\",\"Alcides Eduardo dos Reis Peron;Rafael de Brito Dias\",\"Marcelo Fernandes\",\"Gilberto Carvalho Oliveira\",\"Oscar Medeiros\",\"Naeem Inayatullah;David L. Blaney\",\"Marta de Araujo Pinheiro\",\"Zeynep G\\u00fcl\\u015fah \\u00c7apan\",\"Giovanni Molano Cruz\",\"Thiago Rodrigues;Mariana Kalil;Roberto Zepeda;Jonathan D Rosen\",\"Heloise Weber\",\"Veronica F. Azzi\",\"Gilberto Marcos Antonio Rodrigues;Thiago Mattioli\",\"Manoela Miklos;Tomaz Paoliello\",\"Eric Helleiner\",\"Andrea Ribeiro Hoffmann;Danilo Marcondes\",\"Laura Trajber Waisbich;Ra\\u00edsa Cetra;Joara Marchezini\",\"Rodrigo Fagundes C\\u00e9zar\",\"Daniel Cardoso\",\"Danilo Jos\\u00e9 Dalio\",\"Carlos A. Romero;V\\u00edctor M. Mijares\",\"Mar\\u00eda Esther Coronado Mart\\u00ednez\",\"Melissa Pomeroy\",\"Maria Clotilde Ribeiro\",\"Bernab\\u00e9 Malacalza\",\"Brye Butler Steeves;Helton Ricardo Ouriques\",\"Marcel Fortuna Biato\",\"Walter Antonio Desider\\u00e1\",\"Igor Castellano da Silva\",\"Detlef Nolte;Nicol\\u00e1s Mat\\u00edas Comini\",\"Naeem Inayatullah\",\"Jimmy Casas Klausen\",\"Andr\\u00e9s Malamud\",\"Pedro Feli\\u00fa Ribeiro;Fl\\u00e1vio Pinheiro\",\"Janina Onuki;Fernando Mouron;Francisco Urdinez\",\"Rafael Mesquita;Marcelo de Almeida Medeiros\",\"Vin\\u00edcius Rodrigues Vieira\",\"Daniel Castelan\",\"Narendran Kumarakulasingam\",\"Gilberto Aranda Bustamante\",\"Aparna Devare\",\"Matheus Hoffmann Pfrimer;Ricardo C\\u00e9sar Barbosa\",\"Alexandre Piffero Spohr;Andr\\u00e9 Luiz Reis da Silva\",\"Carlos Federico Dom\\u00ednguez Avila;Deywisson Ronaldo de Souza;Marcos Aur\\u00e9lio Guedes\",\"Carlos Ricardo Caichiolo\",\"Jessica da Silva C de Oliveira\",\"Lucas de Oliveira Paes;Andr\\u00e9 Moreira Cunha;Pedro Cezar Dutra Fonseca\",\"Raphael Spode\",\"Vin\\u00edcius Santiago;Marta Fern\\u00e1ndez\",\"Megan Pickup\",\"Anna M. Agathangelou\",\"Hitomi Koyama\",\"Leonardo Augusto Peres\",\"Manu Samnotra\",\"Anabella Busso\",\"\\u00c1ngela Iranzo Dosdad\",\"Jo\\u00e3o Nackle Urt\",\"Narendran Kumarakulasingam;Mvuselelo Ngcoya\",\"Khadija El Alaoui\",\"Shiera S. el-Malik\",\"Eug\\u00eanio Vargas Garcia\",\"Matheus de Carvalho Hernandez\",\"Camila Maria Risso Sales;Jo\\u00e3o Roberto Martins\",\"Liliana Ramalho Froio;Marcelo de Almeida Medeiros\",\"Fl\\u00e1via Belmont;Amanda \\u00c1lvares Ferreira\",\"Mariah Rafaela Silva;Jaya Jacobo\",\"Francisco Paolo Vieira Miguel\",\"Ang\\u00e9lica Szucko\",\"Andrea Molinari;Leticia Patrucchi\",\"Oct\\u00e1vio Forti\",\"Isabelle Christine Somma de Castro\",\"Alexis Henshaw\",\"Maria Clara Oliveira;Sergio Simoni\",\"Guilherme Arosa Prol Otero;Gabriela Spanghero Lotta\",\"Camila Feix Vidal;Jahde Lopez;Luan Brum\",\"Daniel Campos de Carvalho;Let\\u00edcia Rizzotti Lima\",\"Cristiano Mendes;Karina Junqueira\",\"Thiago Rodrigues;Tadeu Maciel;Jo\\u00e3o Paulo Duarte\",\"Rosana Icassatti Corazza;Paulo S\\u00e9rgio Fracalanza\",\"Hugo Arend\",\"Jean Tible;Dirce Eleonora Nigro Solis;Michael J. Shapiro\",\"Carla Rodrigues;Rafael Haddock-Lobo;Marcelo Jos\\u00e9 Derzi Moraes\",\"Thomas Cl\\u00e9ment Mercier;Paulo Chamon\",\"Marcelo Alves de Paula Lima\",\"Roberto Rodolfo Georg Uebel\",\"Igor H. Sabino de Farias\",\"Felipe Ferreira de Oliveira Rocha;Marcelo de Almeida Medeiros\",\"Mar\\u00eda Victoria Alvarez\",\"Virginia Soledad Busilli;Mar\\u00eda Bel\\u00e9n Jaime\",\"Cairo Gabriel Borges Junqueira\",\"Leandro Wolpert dos Santos;Andr\\u00e9 Pimentel Ferreira Le\\u00e3o;Jonathan Raphael Vieira da Rosa\",\"Thales Carvalho;Jo\\u00e3o Paulo Nicolini Gabriel;Dawisson Bel\\u00e9m Lopes\",\"Mariela Cuadro\",\"Giorgio Romano Schutte\",\"M\\u00e1rcio Moutinho Abdalla\",\"Guilherme Ziebell de Oliveira;Anselmo Otavio\",\"Rafael Ramos Code\\u00e7o;Ana Rachel Freitas\",\"Sylvia Ferreira Marques\",\"Felipe Leal Albuquerque\",\"Daniel Edler Duarte;Marcelo M. Valen\\u00e7a\",\"Atos Dias\",\"Jos\\u00e9 Guadalupe Gandarilla Salgado;Mar\\u00eda Hayde\\u00e9 Garc\\u00eda-Bravo;Daniele Benzi\",\"Luiza Peruffo;Pedro Perfeito da Silva;Andr\\u00e9 Moreira Cunha\",\"Alana Camo\\u00e7a Gon\\u00e7alves de Oliveira\",\"Livia Peres Milani\",\"Thauan Santos;Luan Santos\",\"Henry Iure de Paiva Silva;Augusto W. M. Teixeira\",\"Marina Gisela Vitelli\",\"Breno Pauli Medeiros;Luiz Rog\\u00e9rio Franco Goldoni\",\"Marcos Cardoso dos Santos\",\"Bruna Ferreira;Vin\\u00edcius Santiago\",\"Thais de Bakker\",\"Shailesh Kumar\",\"Jos\\u00e9 O. P\\u00e9rez;Andr\\u00e9 L. Reis da Silva\",\"Louisa Acciari\",\"Ana Clara Telles\",\"Alexandre  Spohr;Andr\\u00e9 Luiz Reis da Silva\",\"Jos\\u00e9 Brice\\u00f1o-Ruiz\",\"Thaddeus Blanchette;Ana Paula da Silva\",\"Charlotte Valadier\",\"Rita Santos;S\\u00edlvia Roque;Sofia Jos\\u00e9 Santos\",\"Mikelli Marzzini L. A. Ribeiro\",\"The\\u00f3filo Machado Rodrigues\",\"Ana Paula B. Tostes\",\"Christopher Kurt Kiessling\",\"Rubia Cristina Wegner;Marcelo Pereira Fernandes\",\"Jean Santos Lima\",\"Bruno Hendler\",\"Lu\\u00edza Gimenez Cerioli\",\"Natalia Nahas Calfat\",\"Bruno Mendelski\",\"Rodrigo Duque Estrada;Renatho Costa\",\"Eduardo Uziel;Norma Breda dos Santos\",\"Caroline Cordeiro Viana e Silva;Alexsandro Eugenio Pereira\",\"Micael Alvino da Silva\",\"Alexandre Cesar Cunha Leite\",\"Jessica Auchter;Bruna Holstein Meireles;Victor Coutinho Lage\",\"Aggie Hirst;Tom Houseman;Paulo Cesar Duque-Estrada;Jenny Edkins;Cristiano Mendes\",\"Maja Zehfuss;Antonio Y. V\\u00e1zquez-Arroyo;Dan  Bulley;Bal  Sokhi-Bulley\",\"Ramon Blanco;Ana Carolina Teixeira Delgado\",\"Pryanka Pe\\u00f1afiel Cevallos;Mouly C\\u00e9cile\",\"Pablo Victor Fontes;M\\u00f4nica Leite Lessa\",\"Victor Carneiro Corr\\u00eaa Vieira\",\"Yi Shin Tang;Bruno Youssef Yunen Alves de Lima\",\"Dawisson Bel\\u00e9m Lopes;Guilherme Casar\\u00f5es\",\"Sharon A. Stanley;Jo\\u00e3o Nackle Urt;Thiago Braz\",\"Donna V. Jones;Kevin Bruyneel;William Garcia Medina\",\"Thais de Bakker Castro\",\"Mariana Pimenta Oliveira Baccarini;Xaman Korai Minillo;Elia Elisa Cia Alves\",\"V\\u00e2nia Carvalho Pinto\",\"Felipe Jaramillo Ruiz;Juan Pablo Vallejo\",\"Enara Echart Mu\\u00f1oz;Maria del Carmen Villarreal\",\"Andr\\u00e9a Gill;Thula Pires\",\"Awino Okech;Dinah Musindarwez\",\"Carolina Moulin;Alina Sajed;Anna Leander;Roberto Vilchez Yamato\",\"Paula Sandrin\",\"Andr\\u00e9 de Mello e Souza;Rodrigo Fracalossi de Moraes\",\"Pedro Erik Arruda Carneiro\",\"Daniel Arbix\",\"Cristiane de Andrade Lucena Carneiro\",\"Jos\\u00e9 Alexandre Altahyde Hage\",\"Diego Pautasso;Lucas Kerr de Oliveira\",\"Isiaka Alani Badmus\",\"Ken Booth\",\"Maikel Trento\",\"Leonardo Carvalho Braga\",\"Fl\\u00e1vio Le\\u00e3o Pinheiro\",\"Helena Margarido Moreira;Anal\\u00facia Bueno dos Reis Giometti\",\"Am\\u00e2ncio Jorge Nunes de Oliveira;Janina Onuki;Emmanuel de Oliveira\",\"Simone Martins Rodrigues Pinto\",\"Marcelo de Almeida Medeiros;Amanda Aires Vieira\",\"Andrea Ribeiro Hoffmann;Danilo Marcondes de Souza Neto\",\"Tullo Vigevani;Gabriel Cepaluni\",\"Ivan Tiago Machado Oliveira\",\"Cristina Soreanu Pecequilo\",\"Carlos da Fonseca\",\"M\\u00f3nica Salom\\u00f3n;Carmen Nunes\",\"Fabiano Engelmann\",\"Carlos Federico Dom\\u00ednguez Avila\",\"Miriam Gomes Saraiva\",\"Pedro Feli\\u00fa Ribeiro\",\"Dawisson Bel\\u00e9m Lopes;Guilherme Stolle Paix\\u00e3o e Casar\\u00f5es\",\"Nicholas Onuf\",\"Erica Simone Almeida Resende\",\"Cristiano Garcia Mendes\",\"Ana Saggioro Garcia\",\"Luciana Mendes Barbosa;Matilde de Souza\",\"Juliana Bertazzo\",\"R. B. J Walker\",\"Luiz Feldman\",\"Marina Guedes Duque\",\"Daniela Nascimento\",\"Deisy Ventura;Iag\\u00ea Zendron Miola\",\"Norma Breda dos Santos;F\\u00falvio Eduardo Fonseca\",\"Marcelo Mello Valen\\u00e7a\",\"Aureo de Toledo Gomes\",\"Jose C\\u00e9lio Silveira Andrade\",\"Henrique Tom\\u00e9 da Costa Mata;Bouzid Izerrougene\",\"Marta Bekerman;Haroldo Montagu\",\"Cinthia Regina Campos\",\"Fabr\\u00edcio Schiavo \\u00c1vila;Jos\\u00e9 Miguel Martins;Marco Cepik\",\"Marcelo Fernandes de Oliveira\",\"Ademar Seabra da Cruz Jr.\",\"Bruno Mendelski de Souza\",\"Jo\\u00e3o Augusto de Castro Neves\",\"Bruno de Moura Borges\",\"Mahmood Monshipouri\",\"Pinar Bilgin\",\"Roberto Russell;Juan Gabriel Tokatlian\",\"Jack Donnelly\",\"R. B. J. Walker\",\"Gilberto Dupas\",\"Soraya Nour;Claus Zittel\",\"Ivo de Santana\",\"Jo\\u00e3o P Nogueira\",\"Braz Baracuhy\",\"Grace Tanno\",\"Nour Soraya\",\"Khatchik Derghoukassian\",\"Germ\\u00e1n A. de la Reza\",\"Carlos Santiso\",\"Barry Buzan\",\"M\\u00f4nica Herz\",\"Mark Everingham\",\"Maria Guadalupe Moog Rodrigues\",\"Nizar Messari\",\"Dawisson Bel\\u00e9m Lopes;Joelson Vellozo Junior\",\"Mar\\u00eda Julieta Cortes\",\"Dele Ogunmola;Isiaka Alani Badmus\",\"Rafael Duarte Villa;F\\u00e1bio Cereda Cordeiro\",\"Aletheia de Almeida Machado\",\"Rog\\u00e9rio de Souza Farias\",\"Mariana de Oliveira Barros\",\"Fabiano Mielniczuk\",\"Mark Langevin\",\"Antonio Jorge Ramalho da Rocha\",\"Tarcisio Corr\\u00eaa de Brito\",\"Andr\\u00e9s Malamud;Lu\\u00eds de Sousa\",\"Gustavo Seignemartin de Carvalho\",\"Luis Fernando Ayerbe\",\"Ana Cristina Ara\\u00fajo Alves\",\"Marco Antonio de Meneses Silva\",\"Eduarda Passarelli Hamann\",\"Simone Diniz\",\"Alex Giacomelli da Silva\",\"Silvio Miyazaki\",\"Gabriel Cepaluni\",\"Iara Costa Leite\",\"Oliver P Richmond\",\"Ant\\u00f4nio Carlos Lessa;Leandro Freitas Couto;Rog\\u00e9rio de Souza Farias\",\"Daniel Flemes\",\"Arthur Coelho Dornelles Jr.\",\"Lucas Pereira Rezende\",\"Laura C. Ferreira-Pereira;Alena Vysotskaya Guedes Vieira;Francisco Silva de Melo\",\"Leandro Teixeira dos Santos;Marcelo Milan\",\"Marta Fern\\u00e1ndez\",\"Rafael Duarte Villa\",\"Thomas G. Weiss\",\"Matilde de Souza;Carla Pereira Silva;Luciana Mendes Barbosa\",\"Jo\\u00e3o Carlos Amoroso Botelho\",\"Jos\\u00e9 Maur\\u00edcio Domingues\",\"Giorgio Romano\",\"Tullo Vigevani;Haroldo Ramanzini J\\u00fanior\",\"Javier Alberto Vadell;Pedro Henrique Neves de Carvalho\",\"Carolina Moulin;Jana Tabak\",\"Jos\\u00e9 Fl\\u00e1vio Sombra Saraiva\",\"Krishnendra Meena\",\"Renata Keller\",\"Layla Dawood;M\\u00f4nica Herz\",\"Eduardo Pastrana Buelvas\",\"Ana Paula Tostes\",\"Elena Lazarou\",\"Clodoaldo Bueno;Haroldo Ramanzini J\\u00fanior;Tullo Vigevani\",\"Maria Clotilde Meirelles Ribeiro;Amilcar Baiardi\",\"Hoy\\u00eado Nunes Lins\",\"Antonio Jorge Ramalho da Rocha;Mour\\u00e3o de Souza Sardo de Abreu Pereira\",\"Leonardo Valente;Marianna Albuquerque\",\"Elias David Morales Martinez;Mariana P. O. de Lyra\",\"Luisa Lobato;Kai Michael Kenkel\",\"Helmut Renders\",\"Vanina Modolo\",\"Marcelo de Almeida Medeiros;Isabel Meunier;Mariana Cockles\",\"Laura G\\u00f3mez Urquijo\",\"Juan Gabriel Tokatlian\",\"Maria Luisa Mendon\\u00e7a\",\"Fernanda Cimini Salles\",\"Neissan Besharati;Paulo Esteves\",\"Elton Jony Jesus Ribeiro;Rodrigo Fracalossi de Moraes\",\"Luis Fernandes;Ana Garcia;Paula Cruz\",\"Michael Kahn\",\"Andr\\u00e9 Luiz Reis da Silva\",\"Danielly Ramos Becard;Ana Fl\\u00e1via Barros-Platiau;Carina Costa de Oliveira\",\"Victoria V. Panova\",\"Andrew F. Cooper;Asif B. Farooq\",\"Suhayla Khalil;V\\u00e1gner Camilo Alves\",\"Thomas Legler\",\"Patricia Fonseca Ferreira Arienti;Luan Viera\",\"Alexandre C\\u00e9sar Cunha Leite;J\\u00e9ssica Cristina Resende M\\u00e1ximo\",\"James Augusto Pires Tib\\u00farcio;Rodrigo Fracalossi de Moraes\",\"Sabrina Evangelista Medeiros\",\"H\\u00e9ctor Luis Saint-Pierre\",\"Marco Cepik;Pedro Borba\",\"Dom\\u00edcio Proen\\u00e7a J\\u00fanior\",\"Djuan Bracey\",\"Jo\\u00e3o Roberto Martins Filho\",\"Leticia Calder\\u00f3n Chelius\",\"Roxanne Lynn Doty\",\"Claudia Aradau;Jef Huysmans;Vicki Squire\",\"Sidney Ant\\u00f4nio da Silva\",\"Sylvain Souchaud\",\"Vicki Squire\",\"Luis E Arag\\u00f3n\",\"Rossana Rocha Reis\",\"Elspeth Guild\",\"Andrea Q Steiner;Marcelo de Almeida Medeiros\",\"Renata Rossetto Lopes;Carlos Eduardo Carvalho\",\"Diogo Monteiro Dario\",\"Oliver Stuenkel\",\"Denise Garcia\",\"Claudio Fuentes;Gonzalo \\u00c1lvarez\",\"Haibin Niu\",\"Thiago Rodrigues\",\"Didier Bigo\",\"Paula Gomes Moreira\",\"Alexandre Fuccille;Lucas Pereira Rezende\",\"Eduardo Viola;Mat\\u00edas Franchini\",\"Carlos R. S. Milani;Leticia Pinheiro\",\"Luis Leandro Schenoni\",\"F\\u00e1tima Anastasia;Christopher Mendon\\u00e7a;Helga Almeida\",\"Jos\\u00e9 Mar\\u00eda G\\u00f3mez;Paulo Henrique Chamon;S\\u00e9rgio Britto Lima\",\"Paulo Duarte\",\"Francisco Jozivan Guedes Lima\",\"Christophe Wasinski\",\"Hugo Suppo\",\"Marcial A. Garcia Suarez\",\"Carlos Aur\\u00e9lio Pimenta de Faria\",\"Patr\\u00edcia Luiza Kegel;Mohamed Amal\",\"Sandra Colombo;J. Ignacio Frechero\",\"Victor Coutinho Lage\",\"Leonardo Ramos\",\"Guilherme Stolle Paix\\u00e3o e Casar\\u00f5es\",\"Bruno Hendler;Andr\\u00e9 Luiz Can\\u00e7ado Motta\"],\"xaxis\":\"x\",\"y\":[3,3,3,2,2,2,2,2,2,2,2,2,2,2,2,2,2,2,2,2,2,2,2,2,2,2,2,1,1,1,1,1,1,1,1,1,1,1,1,1,1,1,1,1,1,1,1,1,1,1,1,1,1,1,1,1,1,1,1,1,1,1,1,1,1,1,1,1,1,1,1,1,1,1,1,1,1,1,1,1,1,1,1,1,1,1,1,1,1,1,1,1,1,1,1,1,1,1,1,1,1,1,1,1,1,1,1,1,1,1,1,1,1,1,1,1,1,1,1,1,1,1,1,1,1,1,1,1,1,1,1,1,1,1,1,1,1,1,1,1,1,1,1,1,1,1,1,1,1,1,1,1,1,1,1,1,1,1,1,1,1,1,1,1,1,1,1,1,1,1,1,1,1,1,1,1,1,1,1,1,1,1,1,1,1,1,1,1,1,1,1,1,1,1,1,1,1,1,1,1,1,1,1,1,1,1,1,1,1,1,1,1,1,1,1,1,1,1,1,1,1,1,1,1,1,1,1,1,1,1,1,1,1,1,1,1,1,1,1,1,1,1,1,1,1,1,1,1,1,1,1,1,1,1,1,1,1,1,1,1,1,1,1,1,1,1,1,1,1,1,1,1,1,1,1,1,1,1,1,1,1,1,1,1,1,1,1,1,1,1,1,1,1,1,1,1,1,1,1,1,1,1,1,1,1,1,1,1,1,1,1,1,1,1,1,1,1,1,1,1,1,1,1,1,1,1,1,1,1,1,1,1,1,1,1,1,1,1,1,1,1,1,1,1,1,1,1,1,1,1,1,1,1,1,1,1,1,1,1,1,1,1,1,1,1,1,1,1,1,1,1,1,1,1,1,1,1,1,1,1,1,1,1,1,1,1,1,1,1,1,1,1,1,1],\"yaxis\":\"y\",\"type\":\"bar\"}],                        {\"template\":{\"data\":{\"bar\":[{\"error_x\":{\"color\":\"#2a3f5f\"},\"error_y\":{\"color\":\"#2a3f5f\"},\"marker\":{\"line\":{\"color\":\"#E5ECF6\",\"width\":0.5},\"pattern\":{\"fillmode\":\"overlay\",\"size\":10,\"solidity\":0.2}},\"type\":\"bar\"}],\"barpolar\":[{\"marker\":{\"line\":{\"color\":\"#E5ECF6\",\"width\":0.5},\"pattern\":{\"fillmode\":\"overlay\",\"size\":10,\"solidity\":0.2}},\"type\":\"barpolar\"}],\"carpet\":[{\"aaxis\":{\"endlinecolor\":\"#2a3f5f\",\"gridcolor\":\"white\",\"linecolor\":\"white\",\"minorgridcolor\":\"white\",\"startlinecolor\":\"#2a3f5f\"},\"baxis\":{\"endlinecolor\":\"#2a3f5f\",\"gridcolor\":\"white\",\"linecolor\":\"white\",\"minorgridcolor\":\"white\",\"startlinecolor\":\"#2a3f5f\"},\"type\":\"carpet\"}],\"choropleth\":[{\"colorbar\":{\"outlinewidth\":0,\"ticks\":\"\"},\"type\":\"choropleth\"}],\"contour\":[{\"colorbar\":{\"outlinewidth\":0,\"ticks\":\"\"},\"colorscale\":[[0.0,\"#0d0887\"],[0.1111111111111111,\"#46039f\"],[0.2222222222222222,\"#7201a8\"],[0.3333333333333333,\"#9c179e\"],[0.4444444444444444,\"#bd3786\"],[0.5555555555555556,\"#d8576b\"],[0.6666666666666666,\"#ed7953\"],[0.7777777777777778,\"#fb9f3a\"],[0.8888888888888888,\"#fdca26\"],[1.0,\"#f0f921\"]],\"type\":\"contour\"}],\"contourcarpet\":[{\"colorbar\":{\"outlinewidth\":0,\"ticks\":\"\"},\"type\":\"contourcarpet\"}],\"heatmap\":[{\"colorbar\":{\"outlinewidth\":0,\"ticks\":\"\"},\"colorscale\":[[0.0,\"#0d0887\"],[0.1111111111111111,\"#46039f\"],[0.2222222222222222,\"#7201a8\"],[0.3333333333333333,\"#9c179e\"],[0.4444444444444444,\"#bd3786\"],[0.5555555555555556,\"#d8576b\"],[0.6666666666666666,\"#ed7953\"],[0.7777777777777778,\"#fb9f3a\"],[0.8888888888888888,\"#fdca26\"],[1.0,\"#f0f921\"]],\"type\":\"heatmap\"}],\"heatmapgl\":[{\"colorbar\":{\"outlinewidth\":0,\"ticks\":\"\"},\"colorscale\":[[0.0,\"#0d0887\"],[0.1111111111111111,\"#46039f\"],[0.2222222222222222,\"#7201a8\"],[0.3333333333333333,\"#9c179e\"],[0.4444444444444444,\"#bd3786\"],[0.5555555555555556,\"#d8576b\"],[0.6666666666666666,\"#ed7953\"],[0.7777777777777778,\"#fb9f3a\"],[0.8888888888888888,\"#fdca26\"],[1.0,\"#f0f921\"]],\"type\":\"heatmapgl\"}],\"histogram\":[{\"marker\":{\"pattern\":{\"fillmode\":\"overlay\",\"size\":10,\"solidity\":0.2}},\"type\":\"histogram\"}],\"histogram2d\":[{\"colorbar\":{\"outlinewidth\":0,\"ticks\":\"\"},\"colorscale\":[[0.0,\"#0d0887\"],[0.1111111111111111,\"#46039f\"],[0.2222222222222222,\"#7201a8\"],[0.3333333333333333,\"#9c179e\"],[0.4444444444444444,\"#bd3786\"],[0.5555555555555556,\"#d8576b\"],[0.6666666666666666,\"#ed7953\"],[0.7777777777777778,\"#fb9f3a\"],[0.8888888888888888,\"#fdca26\"],[1.0,\"#f0f921\"]],\"type\":\"histogram2d\"}],\"histogram2dcontour\":[{\"colorbar\":{\"outlinewidth\":0,\"ticks\":\"\"},\"colorscale\":[[0.0,\"#0d0887\"],[0.1111111111111111,\"#46039f\"],[0.2222222222222222,\"#7201a8\"],[0.3333333333333333,\"#9c179e\"],[0.4444444444444444,\"#bd3786\"],[0.5555555555555556,\"#d8576b\"],[0.6666666666666666,\"#ed7953\"],[0.7777777777777778,\"#fb9f3a\"],[0.8888888888888888,\"#fdca26\"],[1.0,\"#f0f921\"]],\"type\":\"histogram2dcontour\"}],\"mesh3d\":[{\"colorbar\":{\"outlinewidth\":0,\"ticks\":\"\"},\"type\":\"mesh3d\"}],\"parcoords\":[{\"line\":{\"colorbar\":{\"outlinewidth\":0,\"ticks\":\"\"}},\"type\":\"parcoords\"}],\"pie\":[{\"automargin\":true,\"type\":\"pie\"}],\"scatter\":[{\"marker\":{\"colorbar\":{\"outlinewidth\":0,\"ticks\":\"\"}},\"type\":\"scatter\"}],\"scatter3d\":[{\"line\":{\"colorbar\":{\"outlinewidth\":0,\"ticks\":\"\"}},\"marker\":{\"colorbar\":{\"outlinewidth\":0,\"ticks\":\"\"}},\"type\":\"scatter3d\"}],\"scattercarpet\":[{\"marker\":{\"colorbar\":{\"outlinewidth\":0,\"ticks\":\"\"}},\"type\":\"scattercarpet\"}],\"scattergeo\":[{\"marker\":{\"colorbar\":{\"outlinewidth\":0,\"ticks\":\"\"}},\"type\":\"scattergeo\"}],\"scattergl\":[{\"marker\":{\"colorbar\":{\"outlinewidth\":0,\"ticks\":\"\"}},\"type\":\"scattergl\"}],\"scattermapbox\":[{\"marker\":{\"colorbar\":{\"outlinewidth\":0,\"ticks\":\"\"}},\"type\":\"scattermapbox\"}],\"scatterpolar\":[{\"marker\":{\"colorbar\":{\"outlinewidth\":0,\"ticks\":\"\"}},\"type\":\"scatterpolar\"}],\"scatterpolargl\":[{\"marker\":{\"colorbar\":{\"outlinewidth\":0,\"ticks\":\"\"}},\"type\":\"scatterpolargl\"}],\"scatterternary\":[{\"marker\":{\"colorbar\":{\"outlinewidth\":0,\"ticks\":\"\"}},\"type\":\"scatterternary\"}],\"surface\":[{\"colorbar\":{\"outlinewidth\":0,\"ticks\":\"\"},\"colorscale\":[[0.0,\"#0d0887\"],[0.1111111111111111,\"#46039f\"],[0.2222222222222222,\"#7201a8\"],[0.3333333333333333,\"#9c179e\"],[0.4444444444444444,\"#bd3786\"],[0.5555555555555556,\"#d8576b\"],[0.6666666666666666,\"#ed7953\"],[0.7777777777777778,\"#fb9f3a\"],[0.8888888888888888,\"#fdca26\"],[1.0,\"#f0f921\"]],\"type\":\"surface\"}],\"table\":[{\"cells\":{\"fill\":{\"color\":\"#EBF0F8\"},\"line\":{\"color\":\"white\"}},\"header\":{\"fill\":{\"color\":\"#C8D4E3\"},\"line\":{\"color\":\"white\"}},\"type\":\"table\"}]},\"layout\":{\"annotationdefaults\":{\"arrowcolor\":\"#2a3f5f\",\"arrowhead\":0,\"arrowwidth\":1},\"autotypenumbers\":\"strict\",\"coloraxis\":{\"colorbar\":{\"outlinewidth\":0,\"ticks\":\"\"}},\"colorscale\":{\"diverging\":[[0,\"#8e0152\"],[0.1,\"#c51b7d\"],[0.2,\"#de77ae\"],[0.3,\"#f1b6da\"],[0.4,\"#fde0ef\"],[0.5,\"#f7f7f7\"],[0.6,\"#e6f5d0\"],[0.7,\"#b8e186\"],[0.8,\"#7fbc41\"],[0.9,\"#4d9221\"],[1,\"#276419\"]],\"sequential\":[[0.0,\"#0d0887\"],[0.1111111111111111,\"#46039f\"],[0.2222222222222222,\"#7201a8\"],[0.3333333333333333,\"#9c179e\"],[0.4444444444444444,\"#bd3786\"],[0.5555555555555556,\"#d8576b\"],[0.6666666666666666,\"#ed7953\"],[0.7777777777777778,\"#fb9f3a\"],[0.8888888888888888,\"#fdca26\"],[1.0,\"#f0f921\"]],\"sequentialminus\":[[0.0,\"#0d0887\"],[0.1111111111111111,\"#46039f\"],[0.2222222222222222,\"#7201a8\"],[0.3333333333333333,\"#9c179e\"],[0.4444444444444444,\"#bd3786\"],[0.5555555555555556,\"#d8576b\"],[0.6666666666666666,\"#ed7953\"],[0.7777777777777778,\"#fb9f3a\"],[0.8888888888888888,\"#fdca26\"],[1.0,\"#f0f921\"]]},\"colorway\":[\"#636efa\",\"#EF553B\",\"#00cc96\",\"#ab63fa\",\"#FFA15A\",\"#19d3f3\",\"#FF6692\",\"#B6E880\",\"#FF97FF\",\"#FECB52\"],\"font\":{\"color\":\"#2a3f5f\"},\"geo\":{\"bgcolor\":\"white\",\"lakecolor\":\"white\",\"landcolor\":\"#E5ECF6\",\"showlakes\":true,\"showland\":true,\"subunitcolor\":\"white\"},\"hoverlabel\":{\"align\":\"left\"},\"hovermode\":\"closest\",\"mapbox\":{\"style\":\"light\"},\"paper_bgcolor\":\"white\",\"plot_bgcolor\":\"#E5ECF6\",\"polar\":{\"angularaxis\":{\"gridcolor\":\"white\",\"linecolor\":\"white\",\"ticks\":\"\"},\"bgcolor\":\"#E5ECF6\",\"radialaxis\":{\"gridcolor\":\"white\",\"linecolor\":\"white\",\"ticks\":\"\"}},\"scene\":{\"xaxis\":{\"backgroundcolor\":\"#E5ECF6\",\"gridcolor\":\"white\",\"gridwidth\":2,\"linecolor\":\"white\",\"showbackground\":true,\"ticks\":\"\",\"zerolinecolor\":\"white\"},\"yaxis\":{\"backgroundcolor\":\"#E5ECF6\",\"gridcolor\":\"white\",\"gridwidth\":2,\"linecolor\":\"white\",\"showbackground\":true,\"ticks\":\"\",\"zerolinecolor\":\"white\"},\"zaxis\":{\"backgroundcolor\":\"#E5ECF6\",\"gridcolor\":\"white\",\"gridwidth\":2,\"linecolor\":\"white\",\"showbackground\":true,\"ticks\":\"\",\"zerolinecolor\":\"white\"}},\"shapedefaults\":{\"line\":{\"color\":\"#2a3f5f\"}},\"ternary\":{\"aaxis\":{\"gridcolor\":\"white\",\"linecolor\":\"white\",\"ticks\":\"\"},\"baxis\":{\"gridcolor\":\"white\",\"linecolor\":\"white\",\"ticks\":\"\"},\"bgcolor\":\"#E5ECF6\",\"caxis\":{\"gridcolor\":\"white\",\"linecolor\":\"white\",\"ticks\":\"\"}},\"title\":{\"x\":0.05},\"xaxis\":{\"automargin\":true,\"gridcolor\":\"white\",\"linecolor\":\"white\",\"ticks\":\"\",\"title\":{\"standoff\":15},\"zerolinecolor\":\"white\",\"zerolinewidth\":2},\"yaxis\":{\"automargin\":true,\"gridcolor\":\"white\",\"linecolor\":\"white\",\"ticks\":\"\",\"title\":{\"standoff\":15},\"zerolinecolor\":\"white\",\"zerolinewidth\":2}}},\"xaxis\":{\"anchor\":\"y\",\"domain\":[0.0,1.0],\"title\":{\"text\":\"index\"}},\"yaxis\":{\"anchor\":\"x\",\"domain\":[0.0,1.0],\"title\":{\"text\":\"value\"}},\"legend\":{\"title\":{\"text\":\"variable\"},\"tracegroupgap\":0},\"margin\":{\"t\":60},\"barmode\":\"relative\"},                        {\"responsive\": true}                    ).then(function(){\n",
              "                            \n",
              "var gd = document.getElementById('99d80fe7-9ab5-4ea5-8e0c-cb5416924b89');\n",
              "var x = new MutationObserver(function (mutations, observer) {{\n",
              "        var display = window.getComputedStyle(gd).display;\n",
              "        if (!display || display === 'none') {{\n",
              "            console.log([gd, 'removed!']);\n",
              "            Plotly.purge(gd);\n",
              "            observer.disconnect();\n",
              "        }}\n",
              "}});\n",
              "\n",
              "// Listen for the removal of the full notebook cells\n",
              "var notebookContainer = gd.closest('#notebook-container');\n",
              "if (notebookContainer) {{\n",
              "    x.observe(notebookContainer, {childList: true});\n",
              "}}\n",
              "\n",
              "// Listen for the clearing of the current output cell\n",
              "var outputEl = gd.closest('.output');\n",
              "if (outputEl) {{\n",
              "    x.observe(outputEl, {childList: true});\n",
              "}}\n",
              "\n",
              "                        })                };                            </script>        </div>\n",
              "</body>\n",
              "</html>"
            ]
          },
          "metadata": {}
        }
      ]
    },
    {
      "cell_type": "code",
      "source": [
        "barras= autores_por_ano.plot (kind=\"bar\", legend=True, color= [\"gray\"])\n",
        "barras"
      ],
      "metadata": {
        "colab": {
          "base_uri": "https://localhost:8080/",
          "height": 725
        },
        "id": "xXgP0KIRJTQ8",
        "outputId": "36443a8e-0112-4e3f-da24-6b70d381e8cb"
      },
      "execution_count": null,
      "outputs": [
        {
          "output_type": "execute_result",
          "data": {
            "text/plain": [
              "<AxesSubplot:>"
            ]
          },
          "metadata": {},
          "execution_count": 214
        },
        {
          "output_type": "display_data",
          "data": {
            "text/plain": [
              "<Figure size 432x288 with 1 Axes>"
            ],
            "image/png": "[encoded data removed]"
          },
          "metadata": {
            "needs_background": "light"
          }
        }
      ]
    },
    {
      "cell_type": "code",
      "source": [
        "linhas = autores_por_ano.plot (kind = \"line\", legend = True, color = [\"purple\"])\n",
        "barras"
      ],
      "metadata": {
        "colab": {
          "base_uri": "https://localhost:8080/",
          "height": 283
        },
        "id": "ASa2fnzLJX1o",
        "outputId": "5415c0a0-e6b6-42c9-8be6-c95b18c463f7"
      },
      "execution_count": null,
      "outputs": [
        {
          "output_type": "execute_result",
          "data": {
            "text/plain": [
              "<AxesSubplot:>"
            ]
          },
          "metadata": {},
          "execution_count": 215
        },
        {
          "output_type": "display_data",
          "data": {
            "text/plain": [
              "<Figure size 432x288 with 1 Axes>"
            ],
            "image/png": "[encoded data removed]"
          },
          "metadata": {
            "needs_background": "light"
          }
        }
      ]
    },
    {
      "cell_type": "code",
      "source": [
        "frequencia= contexto[\"PY\"].value_counts()\n",
        "frequencia"
      ],
      "metadata": {
        "colab": {
          "base_uri": "https://localhost:8080/"
        },
        "id": "qnJPjv1QJa2p",
        "outputId": "c8db010c-c72e-4d12-a461-5c7288a19be5"
      },
      "execution_count": null,
      "outputs": [
        {
          "output_type": "execute_result",
          "data": {
            "text/plain": [
              "2016.0    35\n",
              "2015.0    35\n",
              "2019.0    34\n",
              "2017.0    34\n",
              "2018.0    31\n",
              "2021.0    26\n",
              "2020.0    26\n",
              "2014.0    21\n",
              "2011.0    20\n",
              "2008.0    19\n",
              "2010.0    19\n",
              "2013.0    19\n",
              "2012.0    18\n",
              "2009.0    17\n",
              "2005.0    14\n",
              "2006.0    13\n",
              "2004.0    12\n",
              "2007.0    11\n",
              "2003.0    10\n",
              "2002.0    10\n",
              "Name: PY, dtype: int64"
            ]
          },
          "metadata": {},
          "execution_count": 216
        }
      ]
    },
    {
      "cell_type": "markdown",
      "source": [
        "\n",
        "#Qual é frequência de idiomas dos artigos por ano?"
      ],
      "metadata": {
        "id": "6683kH4uJixR"
      }
    },
    {
      "cell_type": "code",
      "source": [
        "idiomas= contexto[\"LA\"].value_counts()\n",
        "idiomas"
      ],
      "metadata": {
        "colab": {
          "base_uri": "https://localhost:8080/"
        },
        "id": "7Cko7-0yJkqe",
        "outputId": "ce7dba33-2ab6-4ebe-8ece-32a1585fcf27"
      },
      "execution_count": null,
      "outputs": [
        {
          "output_type": "execute_result",
          "data": {
            "text/plain": [
              "pt    218\n",
              "en    206\n",
              "Name: LA, dtype: int64"
            ]
          },
          "metadata": {},
          "execution_count": 217
        }
      ]
    },
    {
      "cell_type": "code",
      "source": [
        "barras= idiomas.plot (kind=\"bar\", legend=True, color= [\"lightblue\"])\n",
        "barras"
      ],
      "metadata": {
        "colab": {
          "base_uri": "https://localhost:8080/",
          "height": 285
        },
        "id": "S02vXW-EJmr6",
        "outputId": "e711cad5-9618-41f3-f56c-1045cf4ae581"
      },
      "execution_count": null,
      "outputs": [
        {
          "output_type": "execute_result",
          "data": {
            "text/plain": [
              "<AxesSubplot:>"
            ]
          },
          "metadata": {},
          "execution_count": 218
        },
        {
          "output_type": "display_data",
          "data": {
            "text/plain": [
              "<Figure size 432x288 with 1 Axes>"
            ],
            "image/png": "[encoded data removed]"
          },
          "metadata": {
            "needs_background": "light"
          }
        }
      ]
    },
    {
      "cell_type": "code",
      "source": [
        "barras= idiomas.plot (kind=\"barh\", legend=True, color=[\"lightgreen\"])\n",
        "barras"
      ],
      "metadata": {
        "colab": {
          "base_uri": "https://localhost:8080/",
          "height": 282
        },
        "id": "rk2H0BZUJqkN",
        "outputId": "a14805a6-cc2c-40f5-e59f-650fd227504e"
      },
      "execution_count": null,
      "outputs": [
        {
          "output_type": "execute_result",
          "data": {
            "text/plain": [
              "<AxesSubplot:>"
            ]
          },
          "metadata": {},
          "execution_count": 219
        },
        {
          "output_type": "display_data",
          "data": {
            "text/plain": [
              "<Figure size 432x288 with 1 Axes>"
            ],
            "image/png": "[encoded data removed]"
          },
          "metadata": {
            "needs_background": "light"
          }
        }
      ]
    },
    {
      "cell_type": "markdown",
      "source": [
        "#Qual é a frequência de instituições por ano?"
      ],
      "metadata": {
        "id": "-cJ7wbQ9JtBX"
      }
    },
    {
      "cell_type": "code",
      "source": [
        "instituições= contexto[\"OG\"].value_counts()\n",
        "instituições"
      ],
      "metadata": {
        "colab": {
          "base_uri": "https://localhost:8080/"
        },
        "id": "QItzOjU4JuEr",
        "outputId": "a5a74181-9f0b-4534-c8b1-fc91e526b850"
      },
      "execution_count": null,
      "outputs": [
        {
          "output_type": "execute_result",
          "data": {
            "text/plain": [
              "Pontifícia Universidade Católica do Rio de Janeiro                                         28\n",
              "Universidade de São Paulo                                                                   9\n",
              "Universidade do Estado do Rio de Janeiro                                                    8\n",
              "Universidade Federal do Rio de Janeiro                                                      6\n",
              "Pontifícia Universidade Católica de São Paulo (PUC-SP)                                      6\n",
              "                                                                                           ..\n",
              "Jawaharlal Nehru University                                                                 1\n",
              "University of Birmingham                                                                    1\n",
              "Pontifícia Universidade Católica de Minas Gerais;Centro Universitário de Belo Horizonte     1\n",
              "Universidade Federal do ABC                                                                 1\n",
              "San Tiago Dantas Interinstitutional Graduate Program in International Relations             1\n",
              "Name: OG, Length: 296, dtype: int64"
            ]
          },
          "metadata": {},
          "execution_count": 220
        }
      ]
    },
    {
      "cell_type": "code",
      "source": [
        "barras= instituições.plot (kind=\"bar\", legend=True, color= [\"orange\"])\n",
        "barras"
      ],
      "metadata": {
        "colab": {
          "base_uri": "https://localhost:8080/",
          "height": 1000
        },
        "id": "px-pkbM8Jxqe",
        "outputId": "3407216d-4752-489c-f744-c6e9ed86e90d"
      },
      "execution_count": null,
      "outputs": [
        {
          "output_type": "execute_result",
          "data": {
            "text/plain": [
              "<AxesSubplot:>"
            ]
          },
          "metadata": {},
          "execution_count": 221
        },
        {
          "output_type": "display_data",
          "data": {
            "text/plain": [
              "<Figure size 432x288 with 1 Axes>"
            ],
            "image/png": "[encoded data removed]"
          },
          "metadata": {
            "needs_background": "light"
          }
        }
      ]
    },
    {
      "cell_type": "markdown",
      "source": [
        "#Qual é frequência de uma palavra-chave por ano?"
      ],
      "metadata": {
        "id": "9gQNS2BLJ374"
      }
    },
    {
      "cell_type": "code",
      "source": [
        "busca= \"DE\" in contexto\n",
        "busca"
      ],
      "metadata": {
        "colab": {
          "base_uri": "https://localhost:8080/"
        },
        "id": "95wj1Y53J5dE",
        "outputId": "de8fd167-5b4a-49cd-ee38-77bb21374dd2"
      },
      "execution_count": null,
      "outputs": [
        {
          "output_type": "execute_result",
          "data": {
            "text/plain": [
              "True"
            ]
          },
          "metadata": {},
          "execution_count": 222
        }
      ]
    },
    {
      "cell_type": "code",
      "source": [
        "busca= \"DE\" in \"TI\"\n",
        "busca"
      ],
      "metadata": {
        "colab": {
          "base_uri": "https://localhost:8080/"
        },
        "id": "n_he8Jq7J8Qy",
        "outputId": "a3086b17-cd3a-408c-86b8-d558a0e819f1"
      },
      "execution_count": null,
      "outputs": [
        {
          "output_type": "execute_result",
          "data": {
            "text/plain": [
              "False"
            ]
          },
          "metadata": {},
          "execution_count": 223
        }
      ]
    },
    {
      "cell_type": "code",
      "source": [
        "busca= \"DE\" in \"AB\"\n",
        "busca"
      ],
      "metadata": {
        "colab": {
          "base_uri": "https://localhost:8080/"
        },
        "id": "uaZhhLRoJ-Jv",
        "outputId": "9db5d4a8-791a-4bac-a3ad-4cdefaaa5026"
      },
      "execution_count": null,
      "outputs": [
        {
          "output_type": "execute_result",
          "data": {
            "text/plain": [
              "False"
            ]
          },
          "metadata": {},
          "execution_count": 224
        }
      ]
    },
    {
      "cell_type": "code",
      "source": [
        "contexto[\"TI\"].str.contains(\"Brasil\")"
      ],
      "metadata": {
        "colab": {
          "base_uri": "https://localhost:8080/"
        },
        "id": "e3W4HV8If1Xl",
        "outputId": "b4fea822-fcd0-43cb-bc70-47d1cdb10f37"
      },
      "execution_count": null,
      "outputs": [
        {
          "output_type": "execute_result",
          "data": {
            "text/plain": [
              "0       True\n",
              "1      False\n",
              "2      False\n",
              "3      False\n",
              "4       True\n",
              "       ...  \n",
              "419    False\n",
              "420    False\n",
              "421    False\n",
              "422    False\n",
              "423    False\n",
              "Name: TI, Length: 424, dtype: bool"
            ]
          },
          "metadata": {},
          "execution_count": 225
        }
      ]
    },
    {
      "cell_type": "code",
      "source": [
        "busca = contexto[contexto[\"TI\"].str.contains(\"OTAN\",case=True)]\n",
        "busca\n",
        "#numero_colunas = busca.shape\n",
        "#numero_colunas"
      ],
      "metadata": {
        "colab": {
          "base_uri": "https://localhost:8080/",
          "height": 232
        },
        "id": "TSgOPXyOii_Z",
        "outputId": "b000a630-8c5a-4eaf-e16a-d85889c8163e"
      },
      "execution_count": null,
      "outputs": [
        {
          "output_type": "execute_result",
          "data": {
            "text/plain": [
              "                   AU   OG                                                 TI  \\\n",
              "108  Juliana Bertazzo  NaN  Atuação da OTAN no pós-Guerra Fria: implicaçõe...   \n",
              "\n",
              "                                                    AB  \\\n",
              "108  Após a Guerra Fria, a Organização do Tratado d...   \n",
              "\n",
              "                                                    DE  \\\n",
              "108  NATO; International Security; International In...   \n",
              "\n",
              "                                                    CR BP_EP      PY  \\\n",
              "108  AFRICAN UNION. Report of the Chairperson of th...   NaN  2010.0   \n",
              "\n",
              "                    IS  LA                               DI  \\\n",
              "108  v. 32 n. 1 (2010)  pt  10.1590/S0102-85292010000100003   \n",
              "\n",
              "                         SO         SN  \\\n",
              "108  Contexto Internacional  1982-0240   \n",
              "\n",
              "                                                   URL  \\\n",
              "108  http://www.scielo.br/j/cint/a/LTqqMy7wXKhdVdcd...   \n",
              "\n",
              "                                                PDFURL  \\\n",
              "108  https://www.scielo.br/j/cint/a/LTqqMy7wXKhdVdc...   \n",
              "\n",
              "                                           loc_arquivo    size  \n",
              "108  /media/hdvm09/bd/007/002/002/003/contexto_inte...  231723  "
            ],
            "text/html": [
              "\n",
              "  <div id=\"df-810d5a86-04c5-41bc-9db6-4a7b8bc01708\">\n",
              "    <div class=\"colab-df-container\">\n",
              "      <div>\n",
              "<style scoped>\n",
              "    .dataframe tbody tr th:only-of-type {\n",
              "        vertical-align: middle;\n",
              "    }\n",
              "\n",
              "    .dataframe tbody tr th {\n",
              "        vertical-align: top;\n",
              "    }\n",
              "\n",
              "    .dataframe thead th {\n",
              "        text-align: right;\n",
              "    }\n",
              "</style>\n",
              "<table border=\"1\" class=\"dataframe\">\n",
              "  <thead>\n",
              "    <tr style=\"text-align: right;\">\n",
              "      <th></th>\n",
              "      <th>AU</th>\n",
              "      <th>OG</th>\n",
              "      <th>TI</th>\n",
              "      <th>AB</th>\n",
              "      <th>DE</th>\n",
              "      <th>CR</th>\n",
              "      <th>BP_EP</th>\n",
              "      <th>PY</th>\n",
              "      <th>IS</th>\n",
              "      <th>LA</th>\n",
              "      <th>DI</th>\n",
              "      <th>SO</th>\n",
              "      <th>SN</th>\n",
              "      <th>URL</th>\n",
              "      <th>PDFURL</th>\n",
              "      <th>loc_arquivo</th>\n",
              "      <th>size</th>\n",
              "    </tr>\n",
              "  </thead>\n",
              "  <tbody>\n",
              "    <tr>\n",
              "      <th>108</th>\n",
              "      <td>Juliana Bertazzo</td>\n",
              "      <td>NaN</td>\n",
              "      <td>Atuação da OTAN no pós-Guerra Fria: implicaçõe...</td>\n",
              "      <td>Após a Guerra Fria, a Organização do Tratado d...</td>\n",
              "      <td>NATO; International Security; International In...</td>\n",
              "      <td>AFRICAN UNION. Report of the Chairperson of th...</td>\n",
              "      <td>NaN</td>\n",
              "      <td>2010.0</td>\n",
              "      <td>v. 32 n. 1 (2010)</td>\n",
              "      <td>pt</td>\n",
              "      <td>10.1590/S0102-85292010000100003</td>\n",
              "      <td>Contexto Internacional</td>\n",
              "      <td>1982-0240</td>\n",
              "      <td>http://www.scielo.br/j/cint/a/LTqqMy7wXKhdVdcd...</td>\n",
              "      <td>https://www.scielo.br/j/cint/a/LTqqMy7wXKhdVdc...</td>\n",
              "      <td>/media/hdvm09/bd/007/002/002/003/contexto_inte...</td>\n",
              "      <td>231723</td>\n",
              "    </tr>\n",
              "  </tbody>\n",
              "</table>\n",
              "</div>\n",
              "      <button class=\"colab-df-convert\" onclick=\"convertToInteractive('df-810d5a86-04c5-41bc-9db6-4a7b8bc01708')\"\n",
              "              title=\"Convert this dataframe to an interactive table.\"\n",
              "              style=\"display:none;\">\n",
              "        \n",
              "  <svg xmlns=\"http://www.w3.org/2000/svg\" height=\"24px\"viewBox=\"0 0 24 24\"\n",
              "       width=\"24px\">\n",
              "    <path d=\"M0 0h24v24H0V0z\" fill=\"none\"/>\n",
              "    <path d=\"M18.56 5.44l.94 2.06.94-2.06 2.06-.94-2.06-.94-.94-2.06-.94 2.06-2.06.94zm-11 1L8.5 8.5l.94-2.06 2.06-.94-2.06-.94L8.5 2.5l-.94 2.06-2.06.94zm10 10l.94 2.06.94-2.06 2.06-.94-2.06-.94-.94-2.06-.94 2.06-2.06.94z\"/><path d=\"M17.41 7.96l-1.37-1.37c-.4-.4-.92-.59-1.43-.59-.52 0-1.04.2-1.43.59L10.3 9.45l-7.72 7.72c-.78.78-.78 2.05 0 2.83L4 21.41c.39.39.9.59 1.41.59.51 0 1.02-.2 1.41-.59l7.78-7.78 2.81-2.81c.8-.78.8-2.07 0-2.86zM5.41 20L4 18.59l7.72-7.72 1.47 1.35L5.41 20z\"/>\n",
              "  </svg>\n",
              "      </button>\n",
              "      \n",
              "  <style>\n",
              "    .colab-df-container {\n",
              "      display:flex;\n",
              "      flex-wrap:wrap;\n",
              "      gap: 12px;\n",
              "    }\n",
              "\n",
              "    .colab-df-convert {\n",
              "      background-color: #E8F0FE;\n",
              "      border: none;\n",
              "      border-radius: 50%;\n",
              "      cursor: pointer;\n",
              "      display: none;\n",
              "      fill: #1967D2;\n",
              "      height: 32px;\n",
              "      padding: 0 0 0 0;\n",
              "      width: 32px;\n",
              "    }\n",
              "\n",
              "    .colab-df-convert:hover {\n",
              "      background-color: #E2EBFA;\n",
              "      box-shadow: 0px 1px 2px rgba(60, 64, 67, 0.3), 0px 1px 3px 1px rgba(60, 64, 67, 0.15);\n",
              "      fill: #174EA6;\n",
              "    }\n",
              "\n",
              "    [theme=dark] .colab-df-convert {\n",
              "      background-color: #3B4455;\n",
              "      fill: #D2E3FC;\n",
              "    }\n",
              "\n",
              "    [theme=dark] .colab-df-convert:hover {\n",
              "      background-color: #434B5C;\n",
              "      box-shadow: 0px 1px 3px 1px rgba(0, 0, 0, 0.15);\n",
              "      filter: drop-shadow(0px 1px 2px rgba(0, 0, 0, 0.3));\n",
              "      fill: #FFFFFF;\n",
              "    }\n",
              "  </style>\n",
              "\n",
              "      <script>\n",
              "        const buttonEl =\n",
              "          document.querySelector('#df-810d5a86-04c5-41bc-9db6-4a7b8bc01708 button.colab-df-convert');\n",
              "        buttonEl.style.display =\n",
              "          google.colab.kernel.accessAllowed ? 'block' : 'none';\n",
              "\n",
              "        async function convertToInteractive(key) {\n",
              "          const element = document.querySelector('#df-810d5a86-04c5-41bc-9db6-4a7b8bc01708');\n",
              "          const dataTable =\n",
              "            await google.colab.kernel.invokeFunction('convertToInteractive',\n",
              "                                                     [key], {});\n",
              "          if (!dataTable) return;\n",
              "\n",
              "          const docLinkHtml = 'Like what you see? Visit the ' +\n",
              "            '<a target=\"_blank\" href=https://colab.research.google.com/notebooks/data_table.ipynb>data table notebook</a>'\n",
              "            + ' to learn more about interactive tables.';\n",
              "          element.innerHTML = '';\n",
              "          dataTable['output_type'] = 'display_data';\n",
              "          await google.colab.output.renderOutput(dataTable, element);\n",
              "          const docLink = document.createElement('div');\n",
              "          docLink.innerHTML = docLinkHtml;\n",
              "          element.appendChild(docLink);\n",
              "        }\n",
              "      </script>\n",
              "    </div>\n",
              "  </div>\n",
              "  "
            ]
          },
          "metadata": {},
          "execution_count": 226
        }
      ]
    },
    {
      "cell_type": "code",
      "source": [
        "agrupar_por_ano = busca[\"TI\"].groupby(busca[\"PY\"])\n",
        "busca_por_ano = agrupar_por_ano.count()\n",
        "busca_por_ano"
      ],
      "metadata": {
        "colab": {
          "base_uri": "https://localhost:8080/"
        },
        "id": "b2RIGLOlmnVr",
        "outputId": "ee58f8e9-ec91-47ec-bbc0-1a6354fa9237"
      },
      "execution_count": null,
      "outputs": [
        {
          "output_type": "execute_result",
          "data": {
            "text/plain": [
              "PY\n",
              "2010.0    1\n",
              "Name: TI, dtype: int64"
            ]
          },
          "metadata": {},
          "execution_count": 227
        }
      ]
    },
    {
      "cell_type": "code",
      "source": [
        "quantidade_termos=busca_por_ano.values.tolist()\n",
        "quantidade_termos"
      ],
      "metadata": {
        "colab": {
          "base_uri": "https://localhost:8080/"
        },
        "id": "cAmRHFpwn7k_",
        "outputId": "3bb09070-14a1-4399-f32b-0ab00399ee5c"
      },
      "execution_count": null,
      "outputs": [
        {
          "output_type": "execute_result",
          "data": {
            "text/plain": [
              "[1]"
            ]
          },
          "metadata": {},
          "execution_count": 228
        }
      ]
    },
    {
      "cell_type": "code",
      "source": [
        "anos=busca_por_ano.index\n",
        "anos"
      ],
      "metadata": {
        "colab": {
          "base_uri": "https://localhost:8080/"
        },
        "id": "eanebU4woVsz",
        "outputId": "95140fa9-0ec1-470f-845d-42b39f3c296d"
      },
      "execution_count": null,
      "outputs": [
        {
          "output_type": "execute_result",
          "data": {
            "text/plain": [
              "Float64Index([2010.0], dtype='float64', name='PY')"
            ]
          },
          "metadata": {},
          "execution_count": 229
        }
      ]
    },
    {
      "cell_type": "code",
      "source": [
        "busca_por_ano.plot(kind=\"bar\",x=anos,y=quantidade_termos)"
      ],
      "metadata": {
        "colab": {
          "base_uri": "https://localhost:8080/",
          "height": 321
        },
        "id": "EQUmU3DZou1O",
        "outputId": "c310a3cb-7b72-409d-f59e-45e94724a00f"
      },
      "execution_count": null,
      "outputs": [
        {
          "output_type": "execute_result",
          "data": {
            "text/plain": [
              "<AxesSubplot:xlabel='PY'>"
            ]
          },
          "metadata": {},
          "execution_count": 230
        },
        {
          "output_type": "display_data",
          "data": {
            "text/plain": [
              "<Figure size 432x288 with 1 Axes>"
            ],
            "image/png": "[encoded data removed]"
          },
          "metadata": {
            "needs_background": "light"
          }
        }
      ]
    },
    {
      "cell_type": "code",
      "source": [
        "contexto.query(\"PY == 2010\")"
      ],
      "metadata": {
        "colab": {
          "base_uri": "https://localhost:8080/",
          "height": 1000
        },
        "id": "qrkw9wJhg5_S",
        "outputId": "43251751-0173-40e3-d74f-256afc2f6900"
      },
      "execution_count": null,
      "outputs": [
        {
          "output_type": "execute_result",
          "data": {
            "text/plain": [
              "                                                    AU  \\\n",
              "106                                     R. B. J Walker   \n",
              "107                                      Eugenio Diniz   \n",
              "108                                   Juliana Bertazzo   \n",
              "109            Luciana Mendes Barbosa;Matilde de Souza   \n",
              "110                                Ana Saggioro Garcia   \n",
              "111                            Cristiano Garcia Mendes   \n",
              "112                       Erica Simone Almeida Resende   \n",
              "113                                      Nicholas Onuf   \n",
              "114                                  Oliver P Richmond   \n",
              "115  Antônio Carlos Lessa;Leandro Freitas Couto;Rog...   \n",
              "116                                Bruno Boti Bernardi   \n",
              "117                                      Daniel Flemes   \n",
              "118            Tullo Vigevani;Haroldo Ramanzini Júnior   \n",
              "119                                   Sonia de Camargo   \n",
              "120                                    Oliver Stuenkel   \n",
              "121                            Daniel Ricardo Castelan   \n",
              "122                               Diogo Monteiro Dario   \n",
              "123      Renata Rossetto Lopes;Carlos Eduardo Carvalho   \n",
              "124       Andrea Q Steiner;Marcelo de Almeida Medeiros   \n",
              "\n",
              "                                                    OG  \\\n",
              "106  Pontifícia Universidade Católica do Rio de Jan...   \n",
              "107   Pontifícia Universidade Católica de Minas Gerais   \n",
              "108                                                NaN   \n",
              "109  Grupo Interdisciplinar de Aplicação à Aprendiz...   \n",
              "110  Pontifícia Universidade Católica do Rio de Jan...   \n",
              "111                                                NaN   \n",
              "112           Universidade do Estado do Rio de Janeiro   \n",
              "113                   Florida International University   \n",
              "114                           University of St Andrews   \n",
              "115  Universidade de Brasília;Ministério do Planeja...   \n",
              "116                          Universidade de São Paulo   \n",
              "117        German Institute of Global and Area Studies   \n",
              "118  Universidade Federal de Uberlândia;Centro de E...   \n",
              "119  Pontifícia Universidade Católica do Rio de Jan...   \n",
              "120                            Fundação Getúlio Vargas   \n",
              "121           Universidade do Estado do Rio de Janeiro   \n",
              "122                           University of St Andrews   \n",
              "123                                                NaN   \n",
              "124  Institut d'Études Politiques de Paris;Universi...   \n",
              "\n",
              "                                                    TI  \\\n",
              "106  Por que ler Hobbes como um teórico de seguranç...   \n",
              "107  Epistemologia, história e estudos estratégicos...   \n",
              "108  Atuação da OTAN no pós-Guerra Fria: implicaçõe...   \n",
              "109  Securitização das mudanças climáticas: o papel...   \n",
              "110  Hegemonia e imperialismo: caracterizações da o...   \n",
              "111  Os discursos de Tony Blair: o conceito de terr...   \n",
              "112  Aporia e trauma na crise de significados do On...   \n",
              "113  Escavando a \"comunidade internacional\": por um...   \n",
              "114  Para além da paz liberal? respostas ao \"retroc...   \n",
              "115  Distanciamento versus engajamento: alguns apor...   \n",
              "116  A política externa mexicana de direitos humano...   \n",
              "117          A visão brasileira da futura ordem global   \n",
              "118        Pensamento brasileiro e integração regional   \n",
              "119  O processo de integração regional: fronteiras ...   \n",
              "120  Identidade, status e instituições internaciona...   \n",
              "121  A implementação do consenso: Itamaraty, Minist...   \n",
              "122  A legitimidade da política de segurança democr...   \n",
              "123  Acordos bilaterais de comércio como estratégia...   \n",
              "124  Como saber se as convenções internacionais de ...   \n",
              "\n",
              "                                                    AB  \\\n",
              "106  Thomas Hobbes tornou-se uma figura canônica pa...   \n",
              "107  Contesta-se a pertinência da afirmação de que ...   \n",
              "108  Após a Guerra Fria, a Organização do Tratado d...   \n",
              "109  Este trabalho busca analisar o \"movimento de s...   \n",
              "110  O uso dos conceitos de hegemonia e imperialism...   \n",
              "111  O presente trabalho estuda as estratégias disc...   \n",
              "112  Recorrendo a conceitos e a teorias que relacio...   \n",
              "113  Neste artigo, argumento que metáfora e conceit...   \n",
              "114  A ortodoxia familiar de construção da paz libe...   \n",
              "115  Nos últimos anos, criaram-se diferentes marcos...   \n",
              "116  O objetivo deste artigo é analisar as relações...   \n",
              "117  Este artigo visa desdobrar a concepção brasile...   \n",
              "118  O objetivo deste trabalho é analisar a forma c...   \n",
              "119  O que me proponho neste trabalho é discutir o ...   \n",
              "120  A fim de se entender como podemos explicar o c...   \n",
              "121  Este artigo trata da política comercial brasil...   \n",
              "122  Este artigo propõe estabelecer uma relação ent...   \n",
              "123  O trabalho analisa a mudança na estratégia de ...   \n",
              "124  As últimas décadas foram marcadas pela grande ...   \n",
              "\n",
              "                                                    DE  \\\n",
              "106  Hobbes; Modern Politics; International Securit...   \n",
              "107  Strategic Studies; Theory of War; Clausewitz; ...   \n",
              "108  NATO; International Security; International In...   \n",
              "109  Climate Change; International Security; Securi...   \n",
              "110  Imperialism; Hegemony; Marxism; Realism; Insti...   \n",
              "111                Terrorism; Tony Blair; IRA; Derrida   \n",
              "112  United States; 9/11; Representations; Signific...   \n",
              "113  Archeology; Metaphors; Foucault; International...   \n",
              "114  Liberal Peacebuilding; Statebuilding; Backslid...   \n",
              "115  Brazilian Foreign Policy; Cold War; Multilater...   \n",
              "116  Mexico; Foreign Policy; Democratization; Human...   \n",
              "117  Brazil; Foreign Policy; Soft Balancing; Allian...   \n",
              "118  Regional Integration; Brazilian Foreign Policy...   \n",
              "119  Mercosul; Regional Integration; Free Circulati...   \n",
              "120  Identity; Brazil; India; Non-Proliferation Treaty   \n",
              "121  Brazilian Foreign Policy; Brazilian Trade Poli...   \n",
              "122  Colombian Conflict; Democratic Security Policy...   \n",
              "123  Chile; Bilateral Trade Agreements; Regional Tr...   \n",
              "124  International Regime Effectiveness; Environmen...   \n",
              "\n",
              "                                                    CR    BP_EP      PY  \\\n",
              "106  BULL, Hedley. The anarchical society. London: ...    09-38  2010.0   \n",
              "107  ARON, Raymond. Penser la guerre, Clausewitz: l...      NaN  2010.0   \n",
              "108  AFRICAN UNION. Report of the Chairperson of th...      NaN  2010.0   \n",
              "109  BARNETT, Jon. The meaning of environmental sec...      NaN  2010.0   \n",
              "110  AGNEW, John. Hegemony. The new shape of global...  155-177  2010.0   \n",
              "111  CAPUTO, J. Radical hermeneutics. Repetition, d...  179-204  2010.0   \n",
              "112  AGAMBEN, G. Homo Sacer: o poder soberano e a v...      NaN  2010.0   \n",
              "113  ARISTÓTELES. The complete works of Aristotle. ...      NaN  2010.0   \n",
              "114  ANNAN, Kofi. Prevention of Armed Conflict, UN ...      NaN  2010.0   \n",
              "115  CASTRO, Araújo. O congelamento do poder mundia...      NaN  2010.0   \n",
              "116  4. Oficina del Alto Comisionado para los Derec...      NaN  2010.0   \n",
              "117  AMORIM, Celso. Os BRICs e a reorganização do m...      NaN  2010.0   \n",
              "118  AMADO, Rodrigo (Org.). Araújo Castro. Brasília...  437-487  2010.0   \n",
              "119  8. \"Regionalismos abertos\", perspectiva adotad...  489-517  2010.0   \n",
              "120  ABDENUR, Roberto. Brazil's nuclear activities....      NaN  2010.0   \n",
              "121  ABREU, M. de P. O Brasil na rodada Uruguai do ...      NaN  2010.0   \n",
              "122  AMENAZAS a líderes cívicos en Ariari. El Tiemp...  607-641  2010.0   \n",
              "123  AGOSIN, Manuel R. Comercio y crecimiento en Ch...      NaN  2010.0   \n",
              "124  BARROS-PLATIAU, A. F.; VARELLA, M. D.; SCHLEIC...      NaN  2010.0   \n",
              "\n",
              "                    IS  LA                               DI  \\\n",
              "106  v. 32 n. 1 (2010)  pt  10.1590/S0102-85292010000100001   \n",
              "107  v. 32 n. 1 (2010)  pt  10.1590/S0102-85292010000100002   \n",
              "108  v. 32 n. 1 (2010)  pt  10.1590/S0102-85292010000100003   \n",
              "109  v. 32 n. 1 (2010)  pt  10.1590/S0102-85292010000100004   \n",
              "110  v. 32 n. 1 (2010)  pt  10.1590/S0102-85292010000100005   \n",
              "111  v. 32 n. 1 (2010)  pt  10.1590/S0102-85292010000100006   \n",
              "112  v. 32 n. 1 (2010)  pt  10.1590/S0102-85292010000100007   \n",
              "113  v. 32 n. 2 (2010)  pt  10.1590/S0102-85292010000200001   \n",
              "114  v. 32 n. 2 (2010)  pt  10.1590/S0102-85292010000200002   \n",
              "115  v. 32 n. 2 (2010)  pt  10.1590/S0102-85292010000200003   \n",
              "116  v. 32 n. 2 (2010)  pt  10.1590/S0102-85292010000200004   \n",
              "117  v. 32 n. 2 (2010)  pt  10.1590/S0102-85292010000200005   \n",
              "118  v. 32 n. 2 (2010)  pt  10.1590/S0102-85292010000200006   \n",
              "119  v. 32 n. 2 (2010)  pt  10.1590/S0102-85292010000200007   \n",
              "120  v. 32 n. 2 (2010)  pt  10.1590/S0102-85292010000200008   \n",
              "121  v. 32 n. 2 (2010)  pt  10.1590/S0102-85292010000200009   \n",
              "122  v. 32 n. 2 (2010)  pt  10.1590/S0102-85292010000200010   \n",
              "123  v. 32 n. 2 (2010)  pt  10.1590/S0102-85292010000200011   \n",
              "124  v. 32 n. 2 (2010)  pt  10.1590/S0102-85292010000200012   \n",
              "\n",
              "                         SO         SN  \\\n",
              "106  Contexto Internacional  1982-0240   \n",
              "107  Contexto Internacional  1982-0240   \n",
              "108  Contexto Internacional  1982-0240   \n",
              "109  Contexto Internacional  1982-0240   \n",
              "110  Contexto Internacional  1982-0240   \n",
              "111  Contexto Internacional  1982-0240   \n",
              "112  Contexto Internacional  1982-0240   \n",
              "113  Contexto Internacional  1982-0240   \n",
              "114  Contexto Internacional  1982-0240   \n",
              "115  Contexto Internacional  1982-0240   \n",
              "116  Contexto Internacional  1982-0240   \n",
              "117  Contexto Internacional  1982-0240   \n",
              "118  Contexto Internacional  1982-0240   \n",
              "119  Contexto Internacional  1982-0240   \n",
              "120  Contexto Internacional  1982-0240   \n",
              "121  Contexto Internacional  1982-0240   \n",
              "122  Contexto Internacional  1982-0240   \n",
              "123  Contexto Internacional  1982-0240   \n",
              "124  Contexto Internacional  1982-0240   \n",
              "\n",
              "                                                   URL  \\\n",
              "106  http://www.scielo.br/j/cint/a/K3BLgNbshzcqFjVY...   \n",
              "107  http://www.scielo.br/j/cint/a/vLBycKC86SRj47Mq...   \n",
              "108  http://www.scielo.br/j/cint/a/LTqqMy7wXKhdVdcd...   \n",
              "109  http://www.scielo.br/j/cint/a/GjfmBq3G5PqdLNTm...   \n",
              "110  http://www.scielo.br/j/cint/a/tG3CZt7yfWzRzkcF...   \n",
              "111  http://www.scielo.br/j/cint/a/RPhF5PjktqHk4cXZ...   \n",
              "112  http://www.scielo.br/j/cint/a/KHxpqZtfY4ZpGVZK...   \n",
              "113  http://www.scielo.br/j/cint/a/BbKg6kbJBdF5Y3rK...   \n",
              "114  http://www.scielo.br/j/cint/a/ny8RXVTwJhjt563t...   \n",
              "115  http://www.scielo.br/j/cint/a/jCXZGH6nPYhp4YRS...   \n",
              "116  http://www.scielo.br/j/cint/a/BH4Rk7PBnSjnCYGH...   \n",
              "117  http://www.scielo.br/j/cint/a/kHnf9m7kKv8V3X7C...   \n",
              "118  http://www.scielo.br/j/cint/a/Y8RhJfyCjqcgPGsV...   \n",
              "119  http://www.scielo.br/j/cint/a/5LS9NKsNvXt4GMvY...   \n",
              "120  http://www.scielo.br/j/cint/a/BpGrw39FtNtN8RpF...   \n",
              "121  http://www.scielo.br/j/cint/a/RhqYKynbcJ4D65W3...   \n",
              "122  http://www.scielo.br/j/cint/a/YfsPZ3Kr3tgQNWhg...   \n",
              "123  http://www.scielo.br/j/cint/a/YsXwKrYpX9zn9KYM...   \n",
              "124  http://www.scielo.br/j/cint/a/RbpGQR9Ccj8x8wWy...   \n",
              "\n",
              "                                                PDFURL  \\\n",
              "106  https://www.scielo.br/j/cint/a/K3BLgNbshzcqFjV...   \n",
              "107  https://www.scielo.br/j/cint/a/vLBycKC86SRj47M...   \n",
              "108  https://www.scielo.br/j/cint/a/LTqqMy7wXKhdVdc...   \n",
              "109  https://www.scielo.br/j/cint/a/GjfmBq3G5PqdLNT...   \n",
              "110  https://www.scielo.br/j/cint/a/tG3CZt7yfWzRzkc...   \n",
              "111  https://www.scielo.br/j/cint/a/RPhF5PjktqHk4cX...   \n",
              "112  https://www.scielo.br/j/cint/a/KHxpqZtfY4ZpGVZ...   \n",
              "113  https://www.scielo.br/j/cint/a/BbKg6kbJBdF5Y3r...   \n",
              "114  https://www.scielo.br/j/cint/a/ny8RXVTwJhjt563...   \n",
              "115  https://www.scielo.br/j/cint/a/jCXZGH6nPYhp4YR...   \n",
              "116  https://www.scielo.br/j/cint/a/BH4Rk7PBnSjnCYG...   \n",
              "117  https://www.scielo.br/j/cint/a/kHnf9m7kKv8V3X7...   \n",
              "118  https://www.scielo.br/j/cint/a/Y8RhJfyCjqcgPGs...   \n",
              "119  https://www.scielo.br/j/cint/a/5LS9NKsNvXt4GMv...   \n",
              "120  https://www.scielo.br/j/cint/a/BpGrw39FtNtN8Rp...   \n",
              "121  https://www.scielo.br/j/cint/a/RhqYKynbcJ4D65W...   \n",
              "122  https://www.scielo.br/j/cint/a/YfsPZ3Kr3tgQNWh...   \n",
              "123  https://www.scielo.br/j/cint/a/YsXwKrYpX9zn9KY...   \n",
              "124  https://www.scielo.br/j/cint/a/RbpGQR9Ccj8x8wW...   \n",
              "\n",
              "                                           loc_arquivo     size  \n",
              "106  /media/hdvm09/bd/007/002/002/003/contexto_inte...   165503  \n",
              "107  /media/hdvm09/bd/007/002/002/003/contexto_inte...   244604  \n",
              "108  /media/hdvm09/bd/007/002/002/003/contexto_inte...   231723  \n",
              "109  /media/hdvm09/bd/007/002/002/003/contexto_inte...   189253  \n",
              "110  /media/hdvm09/bd/007/002/002/003/contexto_inte...   145628  \n",
              "111  /media/hdvm09/bd/007/002/002/003/contexto_inte...   194763  \n",
              "112  /media/hdvm09/bd/007/002/002/003/contexto_inte...  1896728  \n",
              "113  /media/hdvm09/bd/007/002/002/003/contexto_inte...   157256  \n",
              "114  /media/hdvm09/bd/007/002/002/003/contexto_inte...   134592  \n",
              "115  /media/hdvm09/bd/007/002/002/003/contexto_inte...   132336  \n",
              "116  /media/hdvm09/bd/007/002/002/003/contexto_inte...   199261  \n",
              "117  /media/hdvm09/bd/007/002/002/003/contexto_inte...   122953  \n",
              "118  /media/hdvm09/bd/007/002/002/003/contexto_inte...   170364  \n",
              "119  /media/hdvm09/bd/007/002/002/003/contexto_inte...   113518  \n",
              "120  /media/hdvm09/bd/007/002/002/003/contexto_inte...   154387  \n",
              "121  /media/hdvm09/bd/007/002/002/003/contexto_inte...   160711  \n",
              "122  /media/hdvm09/bd/007/002/002/003/contexto_inte...   133060  \n",
              "123  /media/hdvm09/bd/007/002/002/003/contexto_inte...   179362  \n",
              "124  /media/hdvm09/bd/007/002/002/003/contexto_inte...   185284  "
            ],
            "text/html": [
              "\n",
              "  <div id=\"df-7adaa9ae-7912-453c-9ca8-0a8890df9903\">\n",
              "    <div class=\"colab-df-container\">\n",
              "      <div>\n",
              "<style scoped>\n",
              "    .dataframe tbody tr th:only-of-type {\n",
              "        vertical-align: middle;\n",
              "    }\n",
              "\n",
              "    .dataframe tbody tr th {\n",
              "        vertical-align: top;\n",
              "    }\n",
              "\n",
              "    .dataframe thead th {\n",
              "        text-align: right;\n",
              "    }\n",
              "</style>\n",
              "<table border=\"1\" class=\"dataframe\">\n",
              "  <thead>\n",
              "    <tr style=\"text-align: right;\">\n",
              "      <th></th>\n",
              "      <th>AU</th>\n",
              "      <th>OG</th>\n",
              "      <th>TI</th>\n",
              "      <th>AB</th>\n",
              "      <th>DE</th>\n",
              "      <th>CR</th>\n",
              "      <th>BP_EP</th>\n",
              "      <th>PY</th>\n",
              "      <th>IS</th>\n",
              "      <th>LA</th>\n",
              "      <th>DI</th>\n",
              "      <th>SO</th>\n",
              "      <th>SN</th>\n",
              "      <th>URL</th>\n",
              "      <th>PDFURL</th>\n",
              "      <th>loc_arquivo</th>\n",
              "      <th>size</th>\n",
              "    </tr>\n",
              "  </thead>\n",
              "  <tbody>\n",
              "    <tr>\n",
              "      <th>106</th>\n",
              "      <td>R. B. J Walker</td>\n",
              "      <td>Pontifícia Universidade Católica do Rio de Jan...</td>\n",
              "      <td>Por que ler Hobbes como um teórico de seguranç...</td>\n",
              "      <td>Thomas Hobbes tornou-se uma figura canônica pa...</td>\n",
              "      <td>Hobbes; Modern Politics; International Securit...</td>\n",
              "      <td>BULL, Hedley. The anarchical society. London: ...</td>\n",
              "      <td>09-38</td>\n",
              "      <td>2010.0</td>\n",
              "      <td>v. 32 n. 1 (2010)</td>\n",
              "      <td>pt</td>\n",
              "      <td>10.1590/S0102-85292010000100001</td>\n",
              "      <td>Contexto Internacional</td>\n",
              "      <td>1982-0240</td>\n",
              "      <td>http://www.scielo.br/j/cint/a/K3BLgNbshzcqFjVY...</td>\n",
              "      <td>https://www.scielo.br/j/cint/a/K3BLgNbshzcqFjV...</td>\n",
              "      <td>/media/hdvm09/bd/007/002/002/003/contexto_inte...</td>\n",
              "      <td>165503</td>\n",
              "    </tr>\n",
              "    <tr>\n",
              "      <th>107</th>\n",
              "      <td>Eugenio Diniz</td>\n",
              "      <td>Pontifícia Universidade Católica de Minas Gerais</td>\n",
              "      <td>Epistemologia, história e estudos estratégicos...</td>\n",
              "      <td>Contesta-se a pertinência da afirmação de que ...</td>\n",
              "      <td>Strategic Studies; Theory of War; Clausewitz; ...</td>\n",
              "      <td>ARON, Raymond. Penser la guerre, Clausewitz: l...</td>\n",
              "      <td>NaN</td>\n",
              "      <td>2010.0</td>\n",
              "      <td>v. 32 n. 1 (2010)</td>\n",
              "      <td>pt</td>\n",
              "      <td>10.1590/S0102-85292010000100002</td>\n",
              "      <td>Contexto Internacional</td>\n",
              "      <td>1982-0240</td>\n",
              "      <td>http://www.scielo.br/j/cint/a/vLBycKC86SRj47Mq...</td>\n",
              "      <td>https://www.scielo.br/j/cint/a/vLBycKC86SRj47M...</td>\n",
              "      <td>/media/hdvm09/bd/007/002/002/003/contexto_inte...</td>\n",
              "      <td>244604</td>\n",
              "    </tr>\n",
              "    <tr>\n",
              "      <th>108</th>\n",
              "      <td>Juliana Bertazzo</td>\n",
              "      <td>NaN</td>\n",
              "      <td>Atuação da OTAN no pós-Guerra Fria: implicaçõe...</td>\n",
              "      <td>Após a Guerra Fria, a Organização do Tratado d...</td>\n",
              "      <td>NATO; International Security; International In...</td>\n",
              "      <td>AFRICAN UNION. Report of the Chairperson of th...</td>\n",
              "      <td>NaN</td>\n",
              "      <td>2010.0</td>\n",
              "      <td>v. 32 n. 1 (2010)</td>\n",
              "      <td>pt</td>\n",
              "      <td>10.1590/S0102-85292010000100003</td>\n",
              "      <td>Contexto Internacional</td>\n",
              "      <td>1982-0240</td>\n",
              "      <td>http://www.scielo.br/j/cint/a/LTqqMy7wXKhdVdcd...</td>\n",
              "      <td>https://www.scielo.br/j/cint/a/LTqqMy7wXKhdVdc...</td>\n",
              "      <td>/media/hdvm09/bd/007/002/002/003/contexto_inte...</td>\n",
              "      <td>231723</td>\n",
              "    </tr>\n",
              "    <tr>\n",
              "      <th>109</th>\n",
              "      <td>Luciana Mendes Barbosa;Matilde de Souza</td>\n",
              "      <td>Grupo Interdisciplinar de Aplicação à Aprendiz...</td>\n",
              "      <td>Securitização das mudanças climáticas: o papel...</td>\n",
              "      <td>Este trabalho busca analisar o \"movimento de s...</td>\n",
              "      <td>Climate Change; International Security; Securi...</td>\n",
              "      <td>BARNETT, Jon. The meaning of environmental sec...</td>\n",
              "      <td>NaN</td>\n",
              "      <td>2010.0</td>\n",
              "      <td>v. 32 n. 1 (2010)</td>\n",
              "      <td>pt</td>\n",
              "      <td>10.1590/S0102-85292010000100004</td>\n",
              "      <td>Contexto Internacional</td>\n",
              "      <td>1982-0240</td>\n",
              "      <td>http://www.scielo.br/j/cint/a/GjfmBq3G5PqdLNTm...</td>\n",
              "      <td>https://www.scielo.br/j/cint/a/GjfmBq3G5PqdLNT...</td>\n",
              "      <td>/media/hdvm09/bd/007/002/002/003/contexto_inte...</td>\n",
              "      <td>189253</td>\n",
              "    </tr>\n",
              "    <tr>\n",
              "      <th>110</th>\n",
              "      <td>Ana Saggioro Garcia</td>\n",
              "      <td>Pontifícia Universidade Católica do Rio de Jan...</td>\n",
              "      <td>Hegemonia e imperialismo: caracterizações da o...</td>\n",
              "      <td>O uso dos conceitos de hegemonia e imperialism...</td>\n",
              "      <td>Imperialism; Hegemony; Marxism; Realism; Insti...</td>\n",
              "      <td>AGNEW, John. Hegemony. The new shape of global...</td>\n",
              "      <td>155-177</td>\n",
              "      <td>2010.0</td>\n",
              "      <td>v. 32 n. 1 (2010)</td>\n",
              "      <td>pt</td>\n",
              "      <td>10.1590/S0102-85292010000100005</td>\n",
              "      <td>Contexto Internacional</td>\n",
              "      <td>1982-0240</td>\n",
              "      <td>http://www.scielo.br/j/cint/a/tG3CZt7yfWzRzkcF...</td>\n",
              "      <td>https://www.scielo.br/j/cint/a/tG3CZt7yfWzRzkc...</td>\n",
              "      <td>/media/hdvm09/bd/007/002/002/003/contexto_inte...</td>\n",
              "      <td>145628</td>\n",
              "    </tr>\n",
              "    <tr>\n",
              "      <th>111</th>\n",
              "      <td>Cristiano Garcia Mendes</td>\n",
              "      <td>NaN</td>\n",
              "      <td>Os discursos de Tony Blair: o conceito de terr...</td>\n",
              "      <td>O presente trabalho estuda as estratégias disc...</td>\n",
              "      <td>Terrorism; Tony Blair; IRA; Derrida</td>\n",
              "      <td>CAPUTO, J. Radical hermeneutics. Repetition, d...</td>\n",
              "      <td>179-204</td>\n",
              "      <td>2010.0</td>\n",
              "      <td>v. 32 n. 1 (2010)</td>\n",
              "      <td>pt</td>\n",
              "      <td>10.1590/S0102-85292010000100006</td>\n",
              "      <td>Contexto Internacional</td>\n",
              "      <td>1982-0240</td>\n",
              "      <td>http://www.scielo.br/j/cint/a/RPhF5PjktqHk4cXZ...</td>\n",
              "      <td>https://www.scielo.br/j/cint/a/RPhF5PjktqHk4cX...</td>\n",
              "      <td>/media/hdvm09/bd/007/002/002/003/contexto_inte...</td>\n",
              "      <td>194763</td>\n",
              "    </tr>\n",
              "    <tr>\n",
              "      <th>112</th>\n",
              "      <td>Erica Simone Almeida Resende</td>\n",
              "      <td>Universidade do Estado do Rio de Janeiro</td>\n",
              "      <td>Aporia e trauma na crise de significados do On...</td>\n",
              "      <td>Recorrendo a conceitos e a teorias que relacio...</td>\n",
              "      <td>United States; 9/11; Representations; Signific...</td>\n",
              "      <td>AGAMBEN, G. Homo Sacer: o poder soberano e a v...</td>\n",
              "      <td>NaN</td>\n",
              "      <td>2010.0</td>\n",
              "      <td>v. 32 n. 1 (2010)</td>\n",
              "      <td>pt</td>\n",
              "      <td>10.1590/S0102-85292010000100007</td>\n",
              "      <td>Contexto Internacional</td>\n",
              "      <td>1982-0240</td>\n",
              "      <td>http://www.scielo.br/j/cint/a/KHxpqZtfY4ZpGVZK...</td>\n",
              "      <td>https://www.scielo.br/j/cint/a/KHxpqZtfY4ZpGVZ...</td>\n",
              "      <td>/media/hdvm09/bd/007/002/002/003/contexto_inte...</td>\n",
              "      <td>1896728</td>\n",
              "    </tr>\n",
              "    <tr>\n",
              "      <th>113</th>\n",
              "      <td>Nicholas Onuf</td>\n",
              "      <td>Florida International University</td>\n",
              "      <td>Escavando a \"comunidade internacional\": por um...</td>\n",
              "      <td>Neste artigo, argumento que metáfora e conceit...</td>\n",
              "      <td>Archeology; Metaphors; Foucault; International...</td>\n",
              "      <td>ARISTÓTELES. The complete works of Aristotle. ...</td>\n",
              "      <td>NaN</td>\n",
              "      <td>2010.0</td>\n",
              "      <td>v. 32 n. 2 (2010)</td>\n",
              "      <td>pt</td>\n",
              "      <td>10.1590/S0102-85292010000200001</td>\n",
              "      <td>Contexto Internacional</td>\n",
              "      <td>1982-0240</td>\n",
              "      <td>http://www.scielo.br/j/cint/a/BbKg6kbJBdF5Y3rK...</td>\n",
              "      <td>https://www.scielo.br/j/cint/a/BbKg6kbJBdF5Y3r...</td>\n",
              "      <td>/media/hdvm09/bd/007/002/002/003/contexto_inte...</td>\n",
              "      <td>157256</td>\n",
              "    </tr>\n",
              "    <tr>\n",
              "      <th>114</th>\n",
              "      <td>Oliver P Richmond</td>\n",
              "      <td>University of St Andrews</td>\n",
              "      <td>Para além da paz liberal? respostas ao \"retroc...</td>\n",
              "      <td>A ortodoxia familiar de construção da paz libe...</td>\n",
              "      <td>Liberal Peacebuilding; Statebuilding; Backslid...</td>\n",
              "      <td>ANNAN, Kofi. Prevention of Armed Conflict, UN ...</td>\n",
              "      <td>NaN</td>\n",
              "      <td>2010.0</td>\n",
              "      <td>v. 32 n. 2 (2010)</td>\n",
              "      <td>pt</td>\n",
              "      <td>10.1590/S0102-85292010000200002</td>\n",
              "      <td>Contexto Internacional</td>\n",
              "      <td>1982-0240</td>\n",
              "      <td>http://www.scielo.br/j/cint/a/ny8RXVTwJhjt563t...</td>\n",
              "      <td>https://www.scielo.br/j/cint/a/ny8RXVTwJhjt563...</td>\n",
              "      <td>/media/hdvm09/bd/007/002/002/003/contexto_inte...</td>\n",
              "      <td>134592</td>\n",
              "    </tr>\n",
              "    <tr>\n",
              "      <th>115</th>\n",
              "      <td>Antônio Carlos Lessa;Leandro Freitas Couto;Rog...</td>\n",
              "      <td>Universidade de Brasília;Ministério do Planeja...</td>\n",
              "      <td>Distanciamento versus engajamento: alguns apor...</td>\n",
              "      <td>Nos últimos anos, criaram-se diferentes marcos...</td>\n",
              "      <td>Brazilian Foreign Policy; Cold War; Multilater...</td>\n",
              "      <td>CASTRO, Araújo. O congelamento do poder mundia...</td>\n",
              "      <td>NaN</td>\n",
              "      <td>2010.0</td>\n",
              "      <td>v. 32 n. 2 (2010)</td>\n",
              "      <td>pt</td>\n",
              "      <td>10.1590/S0102-85292010000200003</td>\n",
              "      <td>Contexto Internacional</td>\n",
              "      <td>1982-0240</td>\n",
              "      <td>http://www.scielo.br/j/cint/a/jCXZGH6nPYhp4YRS...</td>\n",
              "      <td>https://www.scielo.br/j/cint/a/jCXZGH6nPYhp4YR...</td>\n",
              "      <td>/media/hdvm09/bd/007/002/002/003/contexto_inte...</td>\n",
              "      <td>132336</td>\n",
              "    </tr>\n",
              "    <tr>\n",
              "      <th>116</th>\n",
              "      <td>Bruno Boti Bernardi</td>\n",
              "      <td>Universidade de São Paulo</td>\n",
              "      <td>A política externa mexicana de direitos humano...</td>\n",
              "      <td>O objetivo deste artigo é analisar as relações...</td>\n",
              "      <td>Mexico; Foreign Policy; Democratization; Human...</td>\n",
              "      <td>4. Oficina del Alto Comisionado para los Derec...</td>\n",
              "      <td>NaN</td>\n",
              "      <td>2010.0</td>\n",
              "      <td>v. 32 n. 2 (2010)</td>\n",
              "      <td>pt</td>\n",
              "      <td>10.1590/S0102-85292010000200004</td>\n",
              "      <td>Contexto Internacional</td>\n",
              "      <td>1982-0240</td>\n",
              "      <td>http://www.scielo.br/j/cint/a/BH4Rk7PBnSjnCYGH...</td>\n",
              "      <td>https://www.scielo.br/j/cint/a/BH4Rk7PBnSjnCYG...</td>\n",
              "      <td>/media/hdvm09/bd/007/002/002/003/contexto_inte...</td>\n",
              "      <td>199261</td>\n",
              "    </tr>\n",
              "    <tr>\n",
              "      <th>117</th>\n",
              "      <td>Daniel Flemes</td>\n",
              "      <td>German Institute of Global and Area Studies</td>\n",
              "      <td>A visão brasileira da futura ordem global</td>\n",
              "      <td>Este artigo visa desdobrar a concepção brasile...</td>\n",
              "      <td>Brazil; Foreign Policy; Soft Balancing; Allian...</td>\n",
              "      <td>AMORIM, Celso. Os BRICs e a reorganização do m...</td>\n",
              "      <td>NaN</td>\n",
              "      <td>2010.0</td>\n",
              "      <td>v. 32 n. 2 (2010)</td>\n",
              "      <td>pt</td>\n",
              "      <td>10.1590/S0102-85292010000200005</td>\n",
              "      <td>Contexto Internacional</td>\n",
              "      <td>1982-0240</td>\n",
              "      <td>http://www.scielo.br/j/cint/a/kHnf9m7kKv8V3X7C...</td>\n",
              "      <td>https://www.scielo.br/j/cint/a/kHnf9m7kKv8V3X7...</td>\n",
              "      <td>/media/hdvm09/bd/007/002/002/003/contexto_inte...</td>\n",
              "      <td>122953</td>\n",
              "    </tr>\n",
              "    <tr>\n",
              "      <th>118</th>\n",
              "      <td>Tullo Vigevani;Haroldo Ramanzini Júnior</td>\n",
              "      <td>Universidade Federal de Uberlândia;Centro de E...</td>\n",
              "      <td>Pensamento brasileiro e integração regional</td>\n",
              "      <td>O objetivo deste trabalho é analisar a forma c...</td>\n",
              "      <td>Regional Integration; Brazilian Foreign Policy...</td>\n",
              "      <td>AMADO, Rodrigo (Org.). Araújo Castro. Brasília...</td>\n",
              "      <td>437-487</td>\n",
              "      <td>2010.0</td>\n",
              "      <td>v. 32 n. 2 (2010)</td>\n",
              "      <td>pt</td>\n",
              "      <td>10.1590/S0102-85292010000200006</td>\n",
              "      <td>Contexto Internacional</td>\n",
              "      <td>1982-0240</td>\n",
              "      <td>http://www.scielo.br/j/cint/a/Y8RhJfyCjqcgPGsV...</td>\n",
              "      <td>https://www.scielo.br/j/cint/a/Y8RhJfyCjqcgPGs...</td>\n",
              "      <td>/media/hdvm09/bd/007/002/002/003/contexto_inte...</td>\n",
              "      <td>170364</td>\n",
              "    </tr>\n",
              "    <tr>\n",
              "      <th>119</th>\n",
              "      <td>Sonia de Camargo</td>\n",
              "      <td>Pontifícia Universidade Católica do Rio de Jan...</td>\n",
              "      <td>O processo de integração regional: fronteiras ...</td>\n",
              "      <td>O que me proponho neste trabalho é discutir o ...</td>\n",
              "      <td>Mercosul; Regional Integration; Free Circulati...</td>\n",
              "      <td>8. \"Regionalismos abertos\", perspectiva adotad...</td>\n",
              "      <td>489-517</td>\n",
              "      <td>2010.0</td>\n",
              "      <td>v. 32 n. 2 (2010)</td>\n",
              "      <td>pt</td>\n",
              "      <td>10.1590/S0102-85292010000200007</td>\n",
              "      <td>Contexto Internacional</td>\n",
              "      <td>1982-0240</td>\n",
              "      <td>http://www.scielo.br/j/cint/a/5LS9NKsNvXt4GMvY...</td>\n",
              "      <td>https://www.scielo.br/j/cint/a/5LS9NKsNvXt4GMv...</td>\n",
              "      <td>/media/hdvm09/bd/007/002/002/003/contexto_inte...</td>\n",
              "      <td>113518</td>\n",
              "    </tr>\n",
              "    <tr>\n",
              "      <th>120</th>\n",
              "      <td>Oliver Stuenkel</td>\n",
              "      <td>Fundação Getúlio Vargas</td>\n",
              "      <td>Identidade, status e instituições internaciona...</td>\n",
              "      <td>A fim de se entender como podemos explicar o c...</td>\n",
              "      <td>Identity; Brazil; India; Non-Proliferation Treaty</td>\n",
              "      <td>ABDENUR, Roberto. Brazil's nuclear activities....</td>\n",
              "      <td>NaN</td>\n",
              "      <td>2010.0</td>\n",
              "      <td>v. 32 n. 2 (2010)</td>\n",
              "      <td>pt</td>\n",
              "      <td>10.1590/S0102-85292010000200008</td>\n",
              "      <td>Contexto Internacional</td>\n",
              "      <td>1982-0240</td>\n",
              "      <td>http://www.scielo.br/j/cint/a/BpGrw39FtNtN8RpF...</td>\n",
              "      <td>https://www.scielo.br/j/cint/a/BpGrw39FtNtN8Rp...</td>\n",
              "      <td>/media/hdvm09/bd/007/002/002/003/contexto_inte...</td>\n",
              "      <td>154387</td>\n",
              "    </tr>\n",
              "    <tr>\n",
              "      <th>121</th>\n",
              "      <td>Daniel Ricardo Castelan</td>\n",
              "      <td>Universidade do Estado do Rio de Janeiro</td>\n",
              "      <td>A implementação do consenso: Itamaraty, Minist...</td>\n",
              "      <td>Este artigo trata da política comercial brasil...</td>\n",
              "      <td>Brazilian Foreign Policy; Brazilian Trade Poli...</td>\n",
              "      <td>ABREU, M. de P. O Brasil na rodada Uruguai do ...</td>\n",
              "      <td>NaN</td>\n",
              "      <td>2010.0</td>\n",
              "      <td>v. 32 n. 2 (2010)</td>\n",
              "      <td>pt</td>\n",
              "      <td>10.1590/S0102-85292010000200009</td>\n",
              "      <td>Contexto Internacional</td>\n",
              "      <td>1982-0240</td>\n",
              "      <td>http://www.scielo.br/j/cint/a/RhqYKynbcJ4D65W3...</td>\n",
              "      <td>https://www.scielo.br/j/cint/a/RhqYKynbcJ4D65W...</td>\n",
              "      <td>/media/hdvm09/bd/007/002/002/003/contexto_inte...</td>\n",
              "      <td>160711</td>\n",
              "    </tr>\n",
              "    <tr>\n",
              "      <th>122</th>\n",
              "      <td>Diogo Monteiro Dario</td>\n",
              "      <td>University of St Andrews</td>\n",
              "      <td>A legitimidade da política de segurança democr...</td>\n",
              "      <td>Este artigo propõe estabelecer uma relação ent...</td>\n",
              "      <td>Colombian Conflict; Democratic Security Policy...</td>\n",
              "      <td>AMENAZAS a líderes cívicos en Ariari. El Tiemp...</td>\n",
              "      <td>607-641</td>\n",
              "      <td>2010.0</td>\n",
              "      <td>v. 32 n. 2 (2010)</td>\n",
              "      <td>pt</td>\n",
              "      <td>10.1590/S0102-85292010000200010</td>\n",
              "      <td>Contexto Internacional</td>\n",
              "      <td>1982-0240</td>\n",
              "      <td>http://www.scielo.br/j/cint/a/YfsPZ3Kr3tgQNWhg...</td>\n",
              "      <td>https://www.scielo.br/j/cint/a/YfsPZ3Kr3tgQNWh...</td>\n",
              "      <td>/media/hdvm09/bd/007/002/002/003/contexto_inte...</td>\n",
              "      <td>133060</td>\n",
              "    </tr>\n",
              "    <tr>\n",
              "      <th>123</th>\n",
              "      <td>Renata Rossetto Lopes;Carlos Eduardo Carvalho</td>\n",
              "      <td>NaN</td>\n",
              "      <td>Acordos bilaterais de comércio como estratégia...</td>\n",
              "      <td>O trabalho analisa a mudança na estratégia de ...</td>\n",
              "      <td>Chile; Bilateral Trade Agreements; Regional Tr...</td>\n",
              "      <td>AGOSIN, Manuel R. Comercio y crecimiento en Ch...</td>\n",
              "      <td>NaN</td>\n",
              "      <td>2010.0</td>\n",
              "      <td>v. 32 n. 2 (2010)</td>\n",
              "      <td>pt</td>\n",
              "      <td>10.1590/S0102-85292010000200011</td>\n",
              "      <td>Contexto Internacional</td>\n",
              "      <td>1982-0240</td>\n",
              "      <td>http://www.scielo.br/j/cint/a/YsXwKrYpX9zn9KYM...</td>\n",
              "      <td>https://www.scielo.br/j/cint/a/YsXwKrYpX9zn9KY...</td>\n",
              "      <td>/media/hdvm09/bd/007/002/002/003/contexto_inte...</td>\n",
              "      <td>179362</td>\n",
              "    </tr>\n",
              "    <tr>\n",
              "      <th>124</th>\n",
              "      <td>Andrea Q Steiner;Marcelo de Almeida Medeiros</td>\n",
              "      <td>Institut d'Études Politiques de Paris;Universi...</td>\n",
              "      <td>Como saber se as convenções internacionais de ...</td>\n",
              "      <td>As últimas décadas foram marcadas pela grande ...</td>\n",
              "      <td>International Regime Effectiveness; Environmen...</td>\n",
              "      <td>BARROS-PLATIAU, A. F.; VARELLA, M. D.; SCHLEIC...</td>\n",
              "      <td>NaN</td>\n",
              "      <td>2010.0</td>\n",
              "      <td>v. 32 n. 2 (2010)</td>\n",
              "      <td>pt</td>\n",
              "      <td>10.1590/S0102-85292010000200012</td>\n",
              "      <td>Contexto Internacional</td>\n",
              "      <td>1982-0240</td>\n",
              "      <td>http://www.scielo.br/j/cint/a/RbpGQR9Ccj8x8wWy...</td>\n",
              "      <td>https://www.scielo.br/j/cint/a/RbpGQR9Ccj8x8wW...</td>\n",
              "      <td>/media/hdvm09/bd/007/002/002/003/contexto_inte...</td>\n",
              "      <td>185284</td>\n",
              "    </tr>\n",
              "  </tbody>\n",
              "</table>\n",
              "</div>\n",
              "      <button class=\"colab-df-convert\" onclick=\"convertToInteractive('df-7adaa9ae-7912-453c-9ca8-0a8890df9903')\"\n",
              "              title=\"Convert this dataframe to an interactive table.\"\n",
              "              style=\"display:none;\">\n",
              "        \n",
              "  <svg xmlns=\"http://www.w3.org/2000/svg\" height=\"24px\"viewBox=\"0 0 24 24\"\n",
              "       width=\"24px\">\n",
              "    <path d=\"M0 0h24v24H0V0z\" fill=\"none\"/>\n",
              "    <path d=\"M18.56 5.44l.94 2.06.94-2.06 2.06-.94-2.06-.94-.94-2.06-.94 2.06-2.06.94zm-11 1L8.5 8.5l.94-2.06 2.06-.94-2.06-.94L8.5 2.5l-.94 2.06-2.06.94zm10 10l.94 2.06.94-2.06 2.06-.94-2.06-.94-.94-2.06-.94 2.06-2.06.94z\"/><path d=\"M17.41 7.96l-1.37-1.37c-.4-.4-.92-.59-1.43-.59-.52 0-1.04.2-1.43.59L10.3 9.45l-7.72 7.72c-.78.78-.78 2.05 0 2.83L4 21.41c.39.39.9.59 1.41.59.51 0 1.02-.2 1.41-.59l7.78-7.78 2.81-2.81c.8-.78.8-2.07 0-2.86zM5.41 20L4 18.59l7.72-7.72 1.47 1.35L5.41 20z\"/>\n",
              "  </svg>\n",
              "      </button>\n",
              "      \n",
              "  <style>\n",
              "    .colab-df-container {\n",
              "      display:flex;\n",
              "      flex-wrap:wrap;\n",
              "      gap: 12px;\n",
              "    }\n",
              "\n",
              "    .colab-df-convert {\n",
              "      background-color: #E8F0FE;\n",
              "      border: none;\n",
              "      border-radius: 50%;\n",
              "      cursor: pointer;\n",
              "      display: none;\n",
              "      fill: #1967D2;\n",
              "      height: 32px;\n",
              "      padding: 0 0 0 0;\n",
              "      width: 32px;\n",
              "    }\n",
              "\n",
              "    .colab-df-convert:hover {\n",
              "      background-color: #E2EBFA;\n",
              "      box-shadow: 0px 1px 2px rgba(60, 64, 67, 0.3), 0px 1px 3px 1px rgba(60, 64, 67, 0.15);\n",
              "      fill: #174EA6;\n",
              "    }\n",
              "\n",
              "    [theme=dark] .colab-df-convert {\n",
              "      background-color: #3B4455;\n",
              "      fill: #D2E3FC;\n",
              "    }\n",
              "\n",
              "    [theme=dark] .colab-df-convert:hover {\n",
              "      background-color: #434B5C;\n",
              "      box-shadow: 0px 1px 3px 1px rgba(0, 0, 0, 0.15);\n",
              "      filter: drop-shadow(0px 1px 2px rgba(0, 0, 0, 0.3));\n",
              "      fill: #FFFFFF;\n",
              "    }\n",
              "  </style>\n",
              "\n",
              "      <script>\n",
              "        const buttonEl =\n",
              "          document.querySelector('#df-7adaa9ae-7912-453c-9ca8-0a8890df9903 button.colab-df-convert');\n",
              "        buttonEl.style.display =\n",
              "          google.colab.kernel.accessAllowed ? 'block' : 'none';\n",
              "\n",
              "        async function convertToInteractive(key) {\n",
              "          const element = document.querySelector('#df-7adaa9ae-7912-453c-9ca8-0a8890df9903');\n",
              "          const dataTable =\n",
              "            await google.colab.kernel.invokeFunction('convertToInteractive',\n",
              "                                                     [key], {});\n",
              "          if (!dataTable) return;\n",
              "\n",
              "          const docLinkHtml = 'Like what you see? Visit the ' +\n",
              "            '<a target=\"_blank\" href=https://colab.research.google.com/notebooks/data_table.ipynb>data table notebook</a>'\n",
              "            + ' to learn more about interactive tables.';\n",
              "          element.innerHTML = '';\n",
              "          dataTable['output_type'] = 'display_data';\n",
              "          await google.colab.output.renderOutput(dataTable, element);\n",
              "          const docLink = document.createElement('div');\n",
              "          docLink.innerHTML = docLinkHtml;\n",
              "          element.appendChild(docLink);\n",
              "        }\n",
              "      </script>\n",
              "    </div>\n",
              "  </div>\n",
              "  "
            ]
          },
          "metadata": {},
          "execution_count": 245
        }
      ]
    },
    {
      "cell_type": "code",
      "source": [
        "contexto.query(\"TI.str.contains('Brasil')\", engine = \"python\").shape"
      ],
      "metadata": {
        "colab": {
          "base_uri": "https://localhost:8080/"
        },
        "id": "i5ajLDWDscE8",
        "outputId": "4b9f3f32-e17d-4853-89fa-a292a681ddef"
      },
      "execution_count": null,
      "outputs": [
        {
          "output_type": "execute_result",
          "data": {
            "text/plain": [
              "(32, 17)"
            ]
          },
          "metadata": {},
          "execution_count": 248
        }
      ]
    },
    {
      "cell_type": "markdown",
      "source": [
        "#Busca\n",
        "* `in` >> busca na lista de rótulos de linhas e colunas\n",
        "* `isin` >> busca valores armazenados em determinada coluna tanto o in quanto o `isin` vai retornar um true ou false\n",
        "* link com as nomenclaturas >> https://labriunesp.org/docs/projetos/dados/frjournalsbr/infos/metadados"
      ],
      "metadata": {
        "id": "dLpadwq7Kzw0"
      }
    },
    {
      "cell_type": "code",
      "source": [
        "busca = \"AU\" in contexto\n",
        "busca"
      ],
      "metadata": {
        "colab": {
          "base_uri": "https://localhost:8080/"
        },
        "id": "vJEX2v9POrPE",
        "outputId": "da59c762-552d-4f80-f595-d0847ea5c1d0"
      },
      "execution_count": null,
      "outputs": [
        {
          "output_type": "execute_result",
          "data": {
            "text/plain": [
              "True"
            ]
          },
          "metadata": {},
          "execution_count": 232
        }
      ]
    },
    {
      "cell_type": "code",
      "source": [
        "busca2 = contexto[\"AU\"].isin([\"João Fernando Finazzi\"])\n",
        "busca2"
      ],
      "metadata": {
        "colab": {
          "base_uri": "https://localhost:8080/"
        },
        "id": "0mwI7-NfO1Rb",
        "outputId": "ffeec0ec-72b8-484b-da75-5750f1642fd6"
      },
      "execution_count": null,
      "outputs": [
        {
          "output_type": "execute_result",
          "data": {
            "text/plain": [
              "0      False\n",
              "1      False\n",
              "2      False\n",
              "3      False\n",
              "4      False\n",
              "       ...  \n",
              "419    False\n",
              "420    False\n",
              "421    False\n",
              "422    False\n",
              "423     True\n",
              "Name: AU, Length: 424, dtype: bool"
            ]
          },
          "metadata": {},
          "execution_count": 233
        }
      ]
    },
    {
      "cell_type": "markdown",
      "source": [
        "# Conhecendo os dados\n",
        "- count, sum, mean (média), mode (moda), value_counts (frequência), sort_values (ordenar), unique (mostrar as entradas únicas)"
      ],
      "metadata": {
        "id": "eIYrve4fRDVb"
      }
    },
    {
      "cell_type": "code",
      "source": [
        "contexto[\"PY\"].mode()"
      ],
      "metadata": {
        "colab": {
          "base_uri": "https://localhost:8080/"
        },
        "id": "MOFmHP7CRHWn",
        "outputId": "a8ccafdc-e6d1-4f0a-a5f4-92889fb8478f"
      },
      "execution_count": null,
      "outputs": [
        {
          "output_type": "execute_result",
          "data": {
            "text/plain": [
              "0    2015.0\n",
              "1    2016.0\n",
              "dtype: float64"
            ]
          },
          "metadata": {},
          "execution_count": 234
        }
      ]
    },
    {
      "cell_type": "code",
      "source": [
        "frequencia= contexto[\"AU\"].value_counts()\n",
        "frequencia"
      ],
      "metadata": {
        "colab": {
          "base_uri": "https://localhost:8080/"
        },
        "id": "fbgO9-80RPJG",
        "outputId": "5439cb23-5b01-487a-b47c-4ed236febc67"
      },
      "execution_count": null,
      "outputs": [
        {
          "output_type": "execute_result",
          "data": {
            "text/plain": [
              "Natália Maria Félix de Souza              3\n",
              "Fábio Albergaria de Queiroz               3\n",
              "Sonia de Camargo                          3\n",
              "Eugenio Diniz                             2\n",
              "Feliciano de Sá Guimarães                 2\n",
              "                                         ..\n",
              "Sandra Colombo;J. Ignacio Frechero        1\n",
              "Victor Coutinho Lage                      1\n",
              "Leonardo Ramos                            1\n",
              "Guilherme Stolle Paixão e Casarões        1\n",
              "Bruno Hendler;André Luiz Cançado Motta    1\n",
              "Name: AU, Length: 394, dtype: int64"
            ]
          },
          "metadata": {},
          "execution_count": 235
        }
      ]
    },
    {
      "cell_type": "code",
      "source": [
        "frequencia= contexto[\"PY\"].value_counts()\n",
        "frequencia"
      ],
      "metadata": {
        "colab": {
          "base_uri": "https://localhost:8080/"
        },
        "id": "Q1n5IpWnRQuE",
        "outputId": "c4a1e9d7-2772-43b3-901e-a820bbf4acd9"
      },
      "execution_count": null,
      "outputs": [
        {
          "output_type": "execute_result",
          "data": {
            "text/plain": [
              "2016.0    35\n",
              "2015.0    35\n",
              "2019.0    34\n",
              "2017.0    34\n",
              "2018.0    31\n",
              "2021.0    26\n",
              "2020.0    26\n",
              "2014.0    21\n",
              "2011.0    20\n",
              "2008.0    19\n",
              "2010.0    19\n",
              "2013.0    19\n",
              "2012.0    18\n",
              "2009.0    17\n",
              "2005.0    14\n",
              "2006.0    13\n",
              "2004.0    12\n",
              "2007.0    11\n",
              "2003.0    10\n",
              "2002.0    10\n",
              "Name: PY, dtype: int64"
            ]
          },
          "metadata": {},
          "execution_count": 236
        }
      ]
    },
    {
      "cell_type": "code",
      "source": [
        "barras= frequencia.plot(kind=\"bar\")"
      ],
      "metadata": {
        "colab": {
          "base_uri": "https://localhost:8080/",
          "height": 290
        },
        "id": "zEgFI7orSnhP",
        "outputId": "87c716a9-873e-4ee9-b395-3d7ddd6aeb5d"
      },
      "execution_count": null,
      "outputs": [
        {
          "output_type": "display_data",
          "data": {
            "text/plain": [
              "<Figure size 432x288 with 1 Axes>"
            ],
            "image/png": "[encoded data removed]"
          },
          "metadata": {
            "needs_background": "light"
          }
        }
      ]
    },
    {
      "cell_type": "code",
      "source": [
        "linhas= frequencia.plot(kind=\"line\")"
      ],
      "metadata": {
        "id": "h3GLqGj_c5Kf",
        "outputId": "ae254cbc-5293-40bb-e366-ccbb89f1cf53",
        "colab": {
          "base_uri": "https://localhost:8080/",
          "height": 265
        }
      },
      "execution_count": null,
      "outputs": [
        {
          "output_type": "display_data",
          "data": {
            "text/plain": [
              "<Figure size 432x288 with 1 Axes>"
            ],
            "image/png": "[encoded data removed]"
          },
          "metadata": {
            "needs_background": "light"
          }
        }
      ]
    },
    {
      "cell_type": "code",
      "source": [
        "anos= contexto.sort_values(by=\"AU\", ascending=False)\n",
        "anos"
      ],
      "metadata": {
        "colab": {
          "base_uri": "https://localhost:8080/",
          "height": 1000
        },
        "id": "C0JRL1DPWuge",
        "outputId": "4fca2551-2e65-44b4-bb15-61e9bc1187cf"
      },
      "execution_count": null,
      "outputs": [
        {
          "output_type": "execute_result",
          "data": {
            "text/plain": [
              "                                                    AU  \\\n",
              "270                               Ángela Iranzo Dosdad   \n",
              "305                                Zeynep Gülşah Çapan   \n",
              "363     Yi Shin Tang;Bruno Youssef Yunen Alves de Lima   \n",
              "256                            Walter Antonio Desiderá   \n",
              "355                               Vânia Carvalho Pinto   \n",
              "..                                                 ...   \n",
              "52                         Aletheia de Almeida Machado   \n",
              "309  Alcides Eduardo dos Reis Peron;Rafael de Brito...   \n",
              "404                 Alana Camoça Gonçalves de Oliveira   \n",
              "369  Aggie Hirst;Tom Houseman;Paulo Cesar Duque-Est...   \n",
              "55                           Ademar Seabra da Cruz Jr.   \n",
              "\n",
              "                                                    OG  \\\n",
              "270                           Universidad de los Andes   \n",
              "305                         UIstanbul Bilgi University   \n",
              "363  University of São Paulo (USP);University of Sã...   \n",
              "256           Instituto de Pesquisa Econômica Aplicada   \n",
              "355                       University of Brasília (UnB)   \n",
              "..                                                 ...   \n",
              "52                               Fundação Oswaldo Cruz   \n",
              "309  Universidade Estadual de Campinas;Universidade...   \n",
              "404        Federal University of Rio de Janeiro (UFRJ)   \n",
              "369  King’s College London;Leeds Beckett University...   \n",
              "55           Universidade Federal do Rio Grande do Sul   \n",
              "\n",
              "                                                    TI  \\\n",
              "270  From the Secular to the Habermasian Post-Secul...   \n",
              "305  Enacting the International/Reproducing Eurocen...   \n",
              "363  Private Standards in the WTO: A Multiple Strea...   \n",
              "256  The Evolution of Mercosur Behaving as an Inter...   \n",
              "355      Signalling for Status: UAE and Women’s Rights   \n",
              "..                                                 ...   \n",
              "52   O local e o global na estrutura da política am...   \n",
              "309  ‘No Boots on the Ground’: Reflections on the U...   \n",
              "404  From Panda to Dragon: An Analysis of China’s M...   \n",
              "369  Disobeying Marx, Disobeying Derrida—Hopes & Ri...   \n",
              "55   Um novo bipolarismo: notas metodológicas para ...   \n",
              "\n",
              "                                                    AB  \\\n",
              "270  AbstractTime has been the forgotten dimension ...   \n",
              "305  AbstractThis article focuses on the way in whi...   \n",
              "363  AbstractThe international trade system has bee...   \n",
              "256  Abstract As is well known, Mercosur was concei...   \n",
              "355  AbstractThat societies should be gender-equal ...   \n",
              "..                                                 ...   \n",
              "52   Neste artigo, adota-se a abordagem construtivi...   \n",
              "309  AbstractSince 2004, the US Air Force (USAF) an...   \n",
              "404  AbstractIn the 21st century, China’s rise has ...   \n",
              "369  AbstractJacques Derrida delivered the basis of...   \n",
              "55   O artigo parte de uma discussão metodológica p...   \n",
              "\n",
              "                                                    DE  \\\n",
              "270  Post-secular; Post-colonial; Time; Religion; P...   \n",
              "305  Eurocentrism; International; Turkey; Narrative...   \n",
              "363  private standards; international trade; WTO; m...   \n",
              "256  South American Integration; International Coal...   \n",
              "355  United Arab Emirates; status-seeking strategie...   \n",
              "..                                                 ...   \n",
              "52   International Relations; International Environ...   \n",
              "309  Drones; Media; Virtuous War; Post-Structuralis...   \n",
              "404  China; East China Sea; Neoclassical Realism; t...   \n",
              "369  Derrida, Jacques; Marx, Karl; hope; futurity; ...   \n",
              "55   International System; Bipolarism; United State...   \n",
              "\n",
              "                                                    CR    BP_EP      PY  \\\n",
              "270  Asad, Talal. 2001. ‘Reading a Modern Classic: ...  887-908  2016.0   \n",
              "305  Abrahamian, Ervand. 2013. The Coup: 1953, the ...  655-672  2017.0   \n",
              "363  Ackrill, Robert and Adrian Kay. 2011. ‘Multipl...  501-527  2019.0   \n",
              "256  Acharya, Amitav. 2009. Constructing a security...  593-620  2016.0   \n",
              "355  Abu-Lughod, Lila. 2009. ‘Dialects of Women’s E...  345-363  2019.0   \n",
              "..                                                 ...      ...     ...   \n",
              "52   ABRAHAM, C. M. e ABRAHAM, S. (1991), \"The Bhop...      NaN  2006.0   \n",
              "309  Ackerman, Spencer. 2014. ‘41 men targeted but ...    53-71  2018.0   \n",
              "404  Abe, S. 2013. ‘Japan Is Back: A Conversation w...  147-171  2021.0   \n",
              "369  Adorno, T W and M Horkheimer. 2011. Towards a ...  643-662  2019.0   \n",
              "55   ANHEIER, H., GLASIUS, M. e KALDOR, M. (eds.). ...      NaN  2006.0   \n",
              "\n",
              "                     IS  LA                                DI  \\\n",
              "270  v. 38 n. 03 (2016)  en  10.1590/S0102-8529.2016380300008   \n",
              "305  v. 39 n. 03 (2017)  en  10.1590/S0102-8529.2017390300010   \n",
              "363  v. 41 n. 03 (2019)  en  10.1590/S0102-8529.2019410300002   \n",
              "256  v. 38 n. 02 (2016)  en  10.1590/S0102-8529.2016380200004   \n",
              "355  v. 41 n. 02 (2019)  en  10.1590/S0102-8529.2019410200006   \n",
              "..                  ...  ..                               ...   \n",
              "52    v. 28 n. 1 (2006)  pt   10.1590/S0102-85292006000100007   \n",
              "309  v. 40 n. 01 (2018)  en  10.1590/S0102-8529.2017400100003   \n",
              "404   v. 43 n. 1 (2021)  en  10.1590/S0102-8529.2019430100007   \n",
              "369  v. 41 n. 03 (2019)  en  10.1590/S0102-8529.2019410300008   \n",
              "55    v. 28 n. 2 (2006)  pt   10.1590/S0102-85292006000200003   \n",
              "\n",
              "                         SO         SN  \\\n",
              "270  Contexto Internacional  1982-0240   \n",
              "305  Contexto Internacional  1982-0240   \n",
              "363  Contexto Internacional  1982-0240   \n",
              "256  Contexto Internacional  1982-0240   \n",
              "355  Contexto Internacional  1982-0240   \n",
              "..                      ...        ...   \n",
              "52   Contexto Internacional  1982-0240   \n",
              "309  Contexto Internacional  1982-0240   \n",
              "404  Contexto Internacional  1982-0240   \n",
              "369  Contexto Internacional  1982-0240   \n",
              "55   Contexto Internacional  1982-0240   \n",
              "\n",
              "                                                   URL  \\\n",
              "270  http://www.scielo.br/j/cint/a/gkLxq9ssLKnpWcJP...   \n",
              "305  http://www.scielo.br/j/cint/a/jhDh7rDs5p8wZM8g...   \n",
              "363  http://www.scielo.br/j/cint/a/QGbjpx855LSZ5B88...   \n",
              "256  http://www.scielo.br/j/cint/a/HD83J6fVYZtQ5FLF...   \n",
              "355  http://www.scielo.br/j/cint/a/DCg3nR7Yr9d8LF4q...   \n",
              "..                                                 ...   \n",
              "52   http://www.scielo.br/j/cint/a/xs7HFnftzLf8QfMw...   \n",
              "309  http://www.scielo.br/j/cint/a/GNZskbRwBWdmxdjQ...   \n",
              "404  http://www.scielo.br/j/cint/a/mD9wg3cGh66wHt8z...   \n",
              "369  http://www.scielo.br/j/cint/a/5dyHZqL54QvVNmh7...   \n",
              "55   http://www.scielo.br/j/cint/a/FbFtBW5KZGfRzSdQ...   \n",
              "\n",
              "                                                PDFURL  \\\n",
              "270  https://www.scielo.br/j/cint/a/gkLxq9ssLKnpWcJ...   \n",
              "305  https://www.scielo.br/j/cint/a/jhDh7rDs5p8wZM8...   \n",
              "363  https://www.scielo.br/j/cint/a/QGbjpx855LSZ5B8...   \n",
              "256  https://www.scielo.br/j/cint/a/HD83J6fVYZtQ5FL...   \n",
              "355  https://www.scielo.br/j/cint/a/DCg3nR7Yr9d8LF4...   \n",
              "..                                                 ...   \n",
              "52   https://www.scielo.br/j/cint/a/xs7HFnftzLf8QfM...   \n",
              "309  https://www.scielo.br/j/cint/a/GNZskbRwBWdmxdj...   \n",
              "404  https://www.scielo.br/j/cint/a/mD9wg3cGh66wHt8...   \n",
              "369  https://www.scielo.br/j/cint/a/5dyHZqL54QvVNmh...   \n",
              "55   https://www.scielo.br/j/cint/a/FbFtBW5KZGfRzSd...   \n",
              "\n",
              "                                           loc_arquivo     size  \n",
              "270  /media/hdvm09/bd/007/002/002/003/contexto_inte...  1357831  \n",
              "305  /media/hdvm09/bd/007/002/002/003/contexto_inte...  1529887  \n",
              "363  /media/hdvm09/bd/007/002/002/003/contexto_inte...  1706692  \n",
              "256  /media/hdvm09/bd/007/002/002/003/contexto_inte...  1894467  \n",
              "355  /media/hdvm09/bd/007/002/002/003/contexto_inte...   929944  \n",
              "..                                                 ...      ...  \n",
              "52   /media/hdvm09/bd/007/002/002/003/contexto_inte...   426542  \n",
              "309  /media/hdvm09/bd/007/002/002/003/contexto_inte...  1277264  \n",
              "404  /media/hdvm09/bd/007/002/002/003/contexto_inte...  2306942  \n",
              "369  /media/hdvm09/bd/007/002/002/003/contexto_inte...  1900857  \n",
              "55   /media/hdvm09/bd/007/002/002/003/contexto_inte...   238352  \n",
              "\n",
              "[424 rows x 17 columns]"
            ],
            "text/html": [
              "\n",
              "  <div id=\"df-c8f6c476-7204-46c9-a1cd-685304fc1ac5\">\n",
              "    <div class=\"colab-df-container\">\n",
              "      <div>\n",
              "<style scoped>\n",
              "    .dataframe tbody tr th:only-of-type {\n",
              "        vertical-align: middle;\n",
              "    }\n",
              "\n",
              "    .dataframe tbody tr th {\n",
              "        vertical-align: top;\n",
              "    }\n",
              "\n",
              "    .dataframe thead th {\n",
              "        text-align: right;\n",
              "    }\n",
              "</style>\n",
              "<table border=\"1\" class=\"dataframe\">\n",
              "  <thead>\n",
              "    <tr style=\"text-align: right;\">\n",
              "      <th></th>\n",
              "      <th>AU</th>\n",
              "      <th>OG</th>\n",
              "      <th>TI</th>\n",
              "      <th>AB</th>\n",
              "      <th>DE</th>\n",
              "      <th>CR</th>\n",
              "      <th>BP_EP</th>\n",
              "      <th>PY</th>\n",
              "      <th>IS</th>\n",
              "      <th>LA</th>\n",
              "      <th>DI</th>\n",
              "      <th>SO</th>\n",
              "      <th>SN</th>\n",
              "      <th>URL</th>\n",
              "      <th>PDFURL</th>\n",
              "      <th>loc_arquivo</th>\n",
              "      <th>size</th>\n",
              "    </tr>\n",
              "  </thead>\n",
              "  <tbody>\n",
              "    <tr>\n",
              "      <th>270</th>\n",
              "      <td>Ángela Iranzo Dosdad</td>\n",
              "      <td>Universidad de los Andes</td>\n",
              "      <td>From the Secular to the Habermasian Post-Secul...</td>\n",
              "      <td>AbstractTime has been the forgotten dimension ...</td>\n",
              "      <td>Post-secular; Post-colonial; Time; Religion; P...</td>\n",
              "      <td>Asad, Talal. 2001. ‘Reading a Modern Classic: ...</td>\n",
              "      <td>887-908</td>\n",
              "      <td>2016.0</td>\n",
              "      <td>v. 38 n. 03 (2016)</td>\n",
              "      <td>en</td>\n",
              "      <td>10.1590/S0102-8529.2016380300008</td>\n",
              "      <td>Contexto Internacional</td>\n",
              "      <td>1982-0240</td>\n",
              "      <td>http://www.scielo.br/j/cint/a/gkLxq9ssLKnpWcJP...</td>\n",
              "      <td>https://www.scielo.br/j/cint/a/gkLxq9ssLKnpWcJ...</td>\n",
              "      <td>/media/hdvm09/bd/007/002/002/003/contexto_inte...</td>\n",
              "      <td>1357831</td>\n",
              "    </tr>\n",
              "    <tr>\n",
              "      <th>305</th>\n",
              "      <td>Zeynep Gülşah Çapan</td>\n",
              "      <td>UIstanbul Bilgi University</td>\n",
              "      <td>Enacting the International/Reproducing Eurocen...</td>\n",
              "      <td>AbstractThis article focuses on the way in whi...</td>\n",
              "      <td>Eurocentrism; International; Turkey; Narrative...</td>\n",
              "      <td>Abrahamian, Ervand. 2013. The Coup: 1953, the ...</td>\n",
              "      <td>655-672</td>\n",
              "      <td>2017.0</td>\n",
              "      <td>v. 39 n. 03 (2017)</td>\n",
              "      <td>en</td>\n",
              "      <td>10.1590/S0102-8529.2017390300010</td>\n",
              "      <td>Contexto Internacional</td>\n",
              "      <td>1982-0240</td>\n",
              "      <td>http://www.scielo.br/j/cint/a/jhDh7rDs5p8wZM8g...</td>\n",
              "      <td>https://www.scielo.br/j/cint/a/jhDh7rDs5p8wZM8...</td>\n",
              "      <td>/media/hdvm09/bd/007/002/002/003/contexto_inte...</td>\n",
              "      <td>1529887</td>\n",
              "    </tr>\n",
              "    <tr>\n",
              "      <th>363</th>\n",
              "      <td>Yi Shin Tang;Bruno Youssef Yunen Alves de Lima</td>\n",
              "      <td>University of São Paulo (USP);University of Sã...</td>\n",
              "      <td>Private Standards in the WTO: A Multiple Strea...</td>\n",
              "      <td>AbstractThe international trade system has bee...</td>\n",
              "      <td>private standards; international trade; WTO; m...</td>\n",
              "      <td>Ackrill, Robert and Adrian Kay. 2011. ‘Multipl...</td>\n",
              "      <td>501-527</td>\n",
              "      <td>2019.0</td>\n",
              "      <td>v. 41 n. 03 (2019)</td>\n",
              "      <td>en</td>\n",
              "      <td>10.1590/S0102-8529.2019410300002</td>\n",
              "      <td>Contexto Internacional</td>\n",
              "      <td>1982-0240</td>\n",
              "      <td>http://www.scielo.br/j/cint/a/QGbjpx855LSZ5B88...</td>\n",
              "      <td>https://www.scielo.br/j/cint/a/QGbjpx855LSZ5B8...</td>\n",
              "      <td>/media/hdvm09/bd/007/002/002/003/contexto_inte...</td>\n",
              "      <td>1706692</td>\n",
              "    </tr>\n",
              "    <tr>\n",
              "      <th>256</th>\n",
              "      <td>Walter Antonio Desiderá</td>\n",
              "      <td>Instituto de Pesquisa Econômica Aplicada</td>\n",
              "      <td>The Evolution of Mercosur Behaving as an Inter...</td>\n",
              "      <td>Abstract As is well known, Mercosur was concei...</td>\n",
              "      <td>South American Integration; International Coal...</td>\n",
              "      <td>Acharya, Amitav. 2009. Constructing a security...</td>\n",
              "      <td>593-620</td>\n",
              "      <td>2016.0</td>\n",
              "      <td>v. 38 n. 02 (2016)</td>\n",
              "      <td>en</td>\n",
              "      <td>10.1590/S0102-8529.2016380200004</td>\n",
              "      <td>Contexto Internacional</td>\n",
              "      <td>1982-0240</td>\n",
              "      <td>http://www.scielo.br/j/cint/a/HD83J6fVYZtQ5FLF...</td>\n",
              "      <td>https://www.scielo.br/j/cint/a/HD83J6fVYZtQ5FL...</td>\n",
              "      <td>/media/hdvm09/bd/007/002/002/003/contexto_inte...</td>\n",
              "      <td>1894467</td>\n",
              "    </tr>\n",
              "    <tr>\n",
              "      <th>355</th>\n",
              "      <td>Vânia Carvalho Pinto</td>\n",
              "      <td>University of Brasília (UnB)</td>\n",
              "      <td>Signalling for Status: UAE and Women’s Rights</td>\n",
              "      <td>AbstractThat societies should be gender-equal ...</td>\n",
              "      <td>United Arab Emirates; status-seeking strategie...</td>\n",
              "      <td>Abu-Lughod, Lila. 2009. ‘Dialects of Women’s E...</td>\n",
              "      <td>345-363</td>\n",
              "      <td>2019.0</td>\n",
              "      <td>v. 41 n. 02 (2019)</td>\n",
              "      <td>en</td>\n",
              "      <td>10.1590/S0102-8529.2019410200006</td>\n",
              "      <td>Contexto Internacional</td>\n",
              "      <td>1982-0240</td>\n",
              "      <td>http://www.scielo.br/j/cint/a/DCg3nR7Yr9d8LF4q...</td>\n",
              "      <td>https://www.scielo.br/j/cint/a/DCg3nR7Yr9d8LF4...</td>\n",
              "      <td>/media/hdvm09/bd/007/002/002/003/contexto_inte...</td>\n",
              "      <td>929944</td>\n",
              "    </tr>\n",
              "    <tr>\n",
              "      <th>...</th>\n",
              "      <td>...</td>\n",
              "      <td>...</td>\n",
              "      <td>...</td>\n",
              "      <td>...</td>\n",
              "      <td>...</td>\n",
              "      <td>...</td>\n",
              "      <td>...</td>\n",
              "      <td>...</td>\n",
              "      <td>...</td>\n",
              "      <td>...</td>\n",
              "      <td>...</td>\n",
              "      <td>...</td>\n",
              "      <td>...</td>\n",
              "      <td>...</td>\n",
              "      <td>...</td>\n",
              "      <td>...</td>\n",
              "      <td>...</td>\n",
              "    </tr>\n",
              "    <tr>\n",
              "      <th>52</th>\n",
              "      <td>Aletheia de Almeida Machado</td>\n",
              "      <td>Fundação Oswaldo Cruz</td>\n",
              "      <td>O local e o global na estrutura da política am...</td>\n",
              "      <td>Neste artigo, adota-se a abordagem construtivi...</td>\n",
              "      <td>International Relations; International Environ...</td>\n",
              "      <td>ABRAHAM, C. M. e ABRAHAM, S. (1991), \"The Bhop...</td>\n",
              "      <td>NaN</td>\n",
              "      <td>2006.0</td>\n",
              "      <td>v. 28 n. 1 (2006)</td>\n",
              "      <td>pt</td>\n",
              "      <td>10.1590/S0102-85292006000100007</td>\n",
              "      <td>Contexto Internacional</td>\n",
              "      <td>1982-0240</td>\n",
              "      <td>http://www.scielo.br/j/cint/a/xs7HFnftzLf8QfMw...</td>\n",
              "      <td>https://www.scielo.br/j/cint/a/xs7HFnftzLf8QfM...</td>\n",
              "      <td>/media/hdvm09/bd/007/002/002/003/contexto_inte...</td>\n",
              "      <td>426542</td>\n",
              "    </tr>\n",
              "    <tr>\n",
              "      <th>309</th>\n",
              "      <td>Alcides Eduardo dos Reis Peron;Rafael de Brito...</td>\n",
              "      <td>Universidade Estadual de Campinas;Universidade...</td>\n",
              "      <td>‘No Boots on the Ground’: Reflections on the U...</td>\n",
              "      <td>AbstractSince 2004, the US Air Force (USAF) an...</td>\n",
              "      <td>Drones; Media; Virtuous War; Post-Structuralis...</td>\n",
              "      <td>Ackerman, Spencer. 2014. ‘41 men targeted but ...</td>\n",
              "      <td>53-71</td>\n",
              "      <td>2018.0</td>\n",
              "      <td>v. 40 n. 01 (2018)</td>\n",
              "      <td>en</td>\n",
              "      <td>10.1590/S0102-8529.2017400100003</td>\n",
              "      <td>Contexto Internacional</td>\n",
              "      <td>1982-0240</td>\n",
              "      <td>http://www.scielo.br/j/cint/a/GNZskbRwBWdmxdjQ...</td>\n",
              "      <td>https://www.scielo.br/j/cint/a/GNZskbRwBWdmxdj...</td>\n",
              "      <td>/media/hdvm09/bd/007/002/002/003/contexto_inte...</td>\n",
              "      <td>1277264</td>\n",
              "    </tr>\n",
              "    <tr>\n",
              "      <th>404</th>\n",
              "      <td>Alana Camoça Gonçalves de Oliveira</td>\n",
              "      <td>Federal University of Rio de Janeiro (UFRJ)</td>\n",
              "      <td>From Panda to Dragon: An Analysis of China’s M...</td>\n",
              "      <td>AbstractIn the 21st century, China’s rise has ...</td>\n",
              "      <td>China; East China Sea; Neoclassical Realism; t...</td>\n",
              "      <td>Abe, S. 2013. ‘Japan Is Back: A Conversation w...</td>\n",
              "      <td>147-171</td>\n",
              "      <td>2021.0</td>\n",
              "      <td>v. 43 n. 1 (2021)</td>\n",
              "      <td>en</td>\n",
              "      <td>10.1590/S0102-8529.2019430100007</td>\n",
              "      <td>Contexto Internacional</td>\n",
              "      <td>1982-0240</td>\n",
              "      <td>http://www.scielo.br/j/cint/a/mD9wg3cGh66wHt8z...</td>\n",
              "      <td>https://www.scielo.br/j/cint/a/mD9wg3cGh66wHt8...</td>\n",
              "      <td>/media/hdvm09/bd/007/002/002/003/contexto_inte...</td>\n",
              "      <td>2306942</td>\n",
              "    </tr>\n",
              "    <tr>\n",
              "      <th>369</th>\n",
              "      <td>Aggie Hirst;Tom Houseman;Paulo Cesar Duque-Est...</td>\n",
              "      <td>King’s College London;Leeds Beckett University...</td>\n",
              "      <td>Disobeying Marx, Disobeying Derrida—Hopes &amp; Ri...</td>\n",
              "      <td>AbstractJacques Derrida delivered the basis of...</td>\n",
              "      <td>Derrida, Jacques; Marx, Karl; hope; futurity; ...</td>\n",
              "      <td>Adorno, T W and M Horkheimer. 2011. Towards a ...</td>\n",
              "      <td>643-662</td>\n",
              "      <td>2019.0</td>\n",
              "      <td>v. 41 n. 03 (2019)</td>\n",
              "      <td>en</td>\n",
              "      <td>10.1590/S0102-8529.2019410300008</td>\n",
              "      <td>Contexto Internacional</td>\n",
              "      <td>1982-0240</td>\n",
              "      <td>http://www.scielo.br/j/cint/a/5dyHZqL54QvVNmh7...</td>\n",
              "      <td>https://www.scielo.br/j/cint/a/5dyHZqL54QvVNmh...</td>\n",
              "      <td>/media/hdvm09/bd/007/002/002/003/contexto_inte...</td>\n",
              "      <td>1900857</td>\n",
              "    </tr>\n",
              "    <tr>\n",
              "      <th>55</th>\n",
              "      <td>Ademar Seabra da Cruz Jr.</td>\n",
              "      <td>Universidade Federal do Rio Grande do Sul</td>\n",
              "      <td>Um novo bipolarismo: notas metodológicas para ...</td>\n",
              "      <td>O artigo parte de uma discussão metodológica p...</td>\n",
              "      <td>International System; Bipolarism; United State...</td>\n",
              "      <td>ANHEIER, H., GLASIUS, M. e KALDOR, M. (eds.). ...</td>\n",
              "      <td>NaN</td>\n",
              "      <td>2006.0</td>\n",
              "      <td>v. 28 n. 2 (2006)</td>\n",
              "      <td>pt</td>\n",
              "      <td>10.1590/S0102-85292006000200003</td>\n",
              "      <td>Contexto Internacional</td>\n",
              "      <td>1982-0240</td>\n",
              "      <td>http://www.scielo.br/j/cint/a/FbFtBW5KZGfRzSdQ...</td>\n",
              "      <td>https://www.scielo.br/j/cint/a/FbFtBW5KZGfRzSd...</td>\n",
              "      <td>/media/hdvm09/bd/007/002/002/003/contexto_inte...</td>\n",
              "      <td>238352</td>\n",
              "    </tr>\n",
              "  </tbody>\n",
              "</table>\n",
              "<p>424 rows × 17 columns</p>\n",
              "</div>\n",
              "      <button class=\"colab-df-convert\" onclick=\"convertToInteractive('df-c8f6c476-7204-46c9-a1cd-685304fc1ac5')\"\n",
              "              title=\"Convert this dataframe to an interactive table.\"\n",
              "              style=\"display:none;\">\n",
              "        \n",
              "  <svg xmlns=\"http://www.w3.org/2000/svg\" height=\"24px\"viewBox=\"0 0 24 24\"\n",
              "       width=\"24px\">\n",
              "    <path d=\"M0 0h24v24H0V0z\" fill=\"none\"/>\n",
              "    <path d=\"M18.56 5.44l.94 2.06.94-2.06 2.06-.94-2.06-.94-.94-2.06-.94 2.06-2.06.94zm-11 1L8.5 8.5l.94-2.06 2.06-.94-2.06-.94L8.5 2.5l-.94 2.06-2.06.94zm10 10l.94 2.06.94-2.06 2.06-.94-2.06-.94-.94-2.06-.94 2.06-2.06.94z\"/><path d=\"M17.41 7.96l-1.37-1.37c-.4-.4-.92-.59-1.43-.59-.52 0-1.04.2-1.43.59L10.3 9.45l-7.72 7.72c-.78.78-.78 2.05 0 2.83L4 21.41c.39.39.9.59 1.41.59.51 0 1.02-.2 1.41-.59l7.78-7.78 2.81-2.81c.8-.78.8-2.07 0-2.86zM5.41 20L4 18.59l7.72-7.72 1.47 1.35L5.41 20z\"/>\n",
              "  </svg>\n",
              "      </button>\n",
              "      \n",
              "  <style>\n",
              "    .colab-df-container {\n",
              "      display:flex;\n",
              "      flex-wrap:wrap;\n",
              "      gap: 12px;\n",
              "    }\n",
              "\n",
              "    .colab-df-convert {\n",
              "      background-color: #E8F0FE;\n",
              "      border: none;\n",
              "      border-radius: 50%;\n",
              "      cursor: pointer;\n",
              "      display: none;\n",
              "      fill: #1967D2;\n",
              "      height: 32px;\n",
              "      padding: 0 0 0 0;\n",
              "      width: 32px;\n",
              "    }\n",
              "\n",
              "    .colab-df-convert:hover {\n",
              "      background-color: #E2EBFA;\n",
              "      box-shadow: 0px 1px 2px rgba(60, 64, 67, 0.3), 0px 1px 3px 1px rgba(60, 64, 67, 0.15);\n",
              "      fill: #174EA6;\n",
              "    }\n",
              "\n",
              "    [theme=dark] .colab-df-convert {\n",
              "      background-color: #3B4455;\n",
              "      fill: #D2E3FC;\n",
              "    }\n",
              "\n",
              "    [theme=dark] .colab-df-convert:hover {\n",
              "      background-color: #434B5C;\n",
              "      box-shadow: 0px 1px 3px 1px rgba(0, 0, 0, 0.15);\n",
              "      filter: drop-shadow(0px 1px 2px rgba(0, 0, 0, 0.3));\n",
              "      fill: #FFFFFF;\n",
              "    }\n",
              "  </style>\n",
              "\n",
              "      <script>\n",
              "        const buttonEl =\n",
              "          document.querySelector('#df-c8f6c476-7204-46c9-a1cd-685304fc1ac5 button.colab-df-convert');\n",
              "        buttonEl.style.display =\n",
              "          google.colab.kernel.accessAllowed ? 'block' : 'none';\n",
              "\n",
              "        async function convertToInteractive(key) {\n",
              "          const element = document.querySelector('#df-c8f6c476-7204-46c9-a1cd-685304fc1ac5');\n",
              "          const dataTable =\n",
              "            await google.colab.kernel.invokeFunction('convertToInteractive',\n",
              "                                                     [key], {});\n",
              "          if (!dataTable) return;\n",
              "\n",
              "          const docLinkHtml = 'Like what you see? Visit the ' +\n",
              "            '<a target=\"_blank\" href=https://colab.research.google.com/notebooks/data_table.ipynb>data table notebook</a>'\n",
              "            + ' to learn more about interactive tables.';\n",
              "          element.innerHTML = '';\n",
              "          dataTable['output_type'] = 'display_data';\n",
              "          await google.colab.output.renderOutput(dataTable, element);\n",
              "          const docLink = document.createElement('div');\n",
              "          docLink.innerHTML = docLinkHtml;\n",
              "          element.appendChild(docLink);\n",
              "        }\n",
              "      </script>\n",
              "    </div>\n",
              "  </div>\n",
              "  "
            ]
          },
          "metadata": {},
          "execution_count": 239
        }
      ]
    },
    {
      "cell_type": "code",
      "source": [
        "contexto[\"PY\"].unique()"
      ],
      "metadata": {
        "colab": {
          "base_uri": "https://localhost:8080/"
        },
        "id": "BY2mm-ASWz_X",
        "outputId": "3909a935-6787-4af8-c9fc-b160fff302a1"
      },
      "execution_count": null,
      "outputs": [
        {
          "output_type": "execute_result",
          "data": {
            "text/plain": [
              "array([2002., 2003., 2004., 2005., 2006., 2007., 2008., 2009., 2010.,\n",
              "       2011., 2012., 2013., 2014., 2015., 2016., 2017., 2018., 2019.,\n",
              "       2020., 2021.])"
            ]
          },
          "metadata": {},
          "execution_count": 240
        }
      ]
    },
    {
      "cell_type": "code",
      "source": [
        "contexto[\"PY\"].sum()"
      ],
      "metadata": {
        "colab": {
          "base_uri": "https://localhost:8080/"
        },
        "id": "MKl3dBq5W3vZ",
        "outputId": "f5990722-d037-4aec-e07a-1f1a152be1c5"
      },
      "execution_count": null,
      "outputs": [
        {
          "output_type": "execute_result",
          "data": {
            "text/plain": [
              "853728.0"
            ]
          },
          "metadata": {},
          "execution_count": 241
        }
      ]
    }
  ]
}