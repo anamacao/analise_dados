{
  "nbformat": 4,
  "nbformat_minor": 0,
  "metadata": {
    "colab": {
      "provenance": [],
      "toc_visible": true,
      "include_colab_link": true
    },
    "kernelspec": {
      "name": "python3",
      "display_name": "Python 3"
    },
    "language_info": {
      "name": "python"
    }
  },
  "cells": [
    {
      "cell_type": "markdown",
      "metadata": {
        "id": "view-in-github",
        "colab_type": "text"
      },
      "source": [
        "<a href=\"https://colab.research.google.com/github/anamacao/analise_dados/blob/main/notebooks/analise_dados_01.ipynb\" target=\"_parent\"><img src=\"https://colab.research.google.com/assets/colab-badge.svg\" alt=\"Open In Colab\"/></a>"
      ]
    },
    {
      "cell_type": "markdown",
      "source": [
        "# análise e visualização de dados\n",
        "\n",
        "## importação de programas\n",
        "o código abaixo indica os programas e bibliotecas que serão usados neste arquivo"
      ],
      "metadata": {
        "id": "RdynEWigWYIX"
      }
    },
    {
      "cell_type": "code",
      "execution_count": null,
      "metadata": {
        "id": "LrWYnWK1UKLS"
      },
      "outputs": [],
      "source": [
        "import json\n",
        "import os\n",
        "import numpy as np\n",
        "import pandas as pd"
      ]
    },
    {
      "cell_type": "markdown",
      "source": [
        "## Acesso ao google drive"
      ],
      "metadata": {
        "id": "Dp2gboW_XQ4L"
      }
    },
    {
      "cell_type": "code",
      "source": [
        "from google.colab import drive\n",
        "drive.mount('/content/gdrive', force_remount=True)"
      ],
      "metadata": {
        "colab": {
          "base_uri": "https://localhost:8080/"
        },
        "id": "ISdwrpJiXWgI",
        "outputId": "8b9b9ac1-88ad-4fe2-9f4e-0748b0ddb376"
      },
      "execution_count": null,
      "outputs": [
        {
          "output_type": "stream",
          "name": "stdout",
          "text": [
            "Mounted at /content/gdrive\n"
          ]
        }
      ]
    },
    {
      "cell_type": "markdown",
      "source": [
        "## localização dos arquivos\n"
      ],
      "metadata": {
        "id": "cRe-UFCAZdbT"
      }
    },
    {
      "cell_type": "code",
      "source": [
        "caminho_padrao = \"/content/gdrive/MyDrive\" # comum a todos os usuários\n",
        "caminho_especifico = \"/Colab_Notebooks/bases_dados/\" #caminho especifico de cada usuário\n",
        "nome_arquivo = \"BD_BRASIL_GOVFEDERAL_BIBLIOTECA_PRESIDENCIA-bolsonaro-entrevistas.json\"\n",
        "caminho_completo = caminho_padrao + caminho_especifico + nome_arquivo\n"
      ],
      "metadata": {
        "id": "-v_6AB3fZhDG"
      },
      "execution_count": null,
      "outputs": []
    },
    {
      "cell_type": "markdown",
      "source": [
        "## acessando as informações dos arquivos"
      ],
      "metadata": {
        "id": "pkUp-Q0daWv0"
      }
    },
    {
      "cell_type": "code",
      "source": [
        "dataset = pd.read_json(caminho_completo, orient=\"columns\")\n",
        "df = pd.json_normalize(dataset[\"_default\"])\n",
        "df.shape"
      ],
      "metadata": {
        "colab": {
          "base_uri": "https://localhost:8080/"
        },
        "id": "gXPx7w6CaWh_",
        "outputId": "e1c42103-d160-4613-94ce-bc3487be36d5"
      },
      "execution_count": null,
      "outputs": [
        {
          "output_type": "execute_result",
          "data": {
            "text/plain": [
              "(83, 32)"
            ]
          },
          "metadata": {},
          "execution_count": 16
        }
      ]
    }
  ]
}